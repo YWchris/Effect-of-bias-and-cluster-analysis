{
  "nbformat": 4,
  "nbformat_minor": 0,
  "metadata": {
    "colab": {
      "provenance": []
    },
    "kernelspec": {
      "name": "python3",
      "display_name": "Python 3"
    },
    "language_info": {
      "name": "python"
    },
    "widgets": {
      "application/vnd.jupyter.widget-state+json": {
        "1bf848e17c8943718a7492117f087e64": {
          "model_module": "@jupyter-widgets/controls",
          "model_name": "HBoxModel",
          "model_module_version": "1.5.0",
          "state": {
            "_dom_classes": [],
            "_model_module": "@jupyter-widgets/controls",
            "_model_module_version": "1.5.0",
            "_model_name": "HBoxModel",
            "_view_count": null,
            "_view_module": "@jupyter-widgets/controls",
            "_view_module_version": "1.5.0",
            "_view_name": "HBoxView",
            "box_style": "",
            "children": [
              "IPY_MODEL_5e035875ae324615b406c2eb3b405bae",
              "IPY_MODEL_57a239165d084153b66c544867838ab7",
              "IPY_MODEL_f0682900af69456d861458dfbc5e818a"
            ],
            "layout": "IPY_MODEL_cfd4bc15dbab4a619fecdfe81a4538e5"
          }
        },
        "5e035875ae324615b406c2eb3b405bae": {
          "model_module": "@jupyter-widgets/controls",
          "model_name": "HTMLModel",
          "model_module_version": "1.5.0",
          "state": {
            "_dom_classes": [],
            "_model_module": "@jupyter-widgets/controls",
            "_model_module_version": "1.5.0",
            "_model_name": "HTMLModel",
            "_view_count": null,
            "_view_module": "@jupyter-widgets/controls",
            "_view_module_version": "1.5.0",
            "_view_name": "HTMLView",
            "description": "",
            "description_tooltip": null,
            "layout": "IPY_MODEL_b58c7982946649629fe9fdc9155c4874",
            "placeholder": "​",
            "style": "IPY_MODEL_e2465b27f3874dabb6d89c42dd796507",
            "value": "100%"
          }
        },
        "57a239165d084153b66c544867838ab7": {
          "model_module": "@jupyter-widgets/controls",
          "model_name": "FloatProgressModel",
          "model_module_version": "1.5.0",
          "state": {
            "_dom_classes": [],
            "_model_module": "@jupyter-widgets/controls",
            "_model_module_version": "1.5.0",
            "_model_name": "FloatProgressModel",
            "_view_count": null,
            "_view_module": "@jupyter-widgets/controls",
            "_view_module_version": "1.5.0",
            "_view_name": "ProgressView",
            "bar_style": "success",
            "description": "",
            "description_tooltip": null,
            "layout": "IPY_MODEL_174e46f09e33461ab2c494f629955846",
            "max": 414,
            "min": 0,
            "orientation": "horizontal",
            "style": "IPY_MODEL_abff5ed2f04b4953a132ae5965e9f654",
            "value": 414
          }
        },
        "f0682900af69456d861458dfbc5e818a": {
          "model_module": "@jupyter-widgets/controls",
          "model_name": "HTMLModel",
          "model_module_version": "1.5.0",
          "state": {
            "_dom_classes": [],
            "_model_module": "@jupyter-widgets/controls",
            "_model_module_version": "1.5.0",
            "_model_name": "HTMLModel",
            "_view_count": null,
            "_view_module": "@jupyter-widgets/controls",
            "_view_module_version": "1.5.0",
            "_view_name": "HTMLView",
            "description": "",
            "description_tooltip": null,
            "layout": "IPY_MODEL_694d25bb853b4ca296d4dab1b8c1dba6",
            "placeholder": "​",
            "style": "IPY_MODEL_9c9547944dea450da918f834224310b4",
            "value": " 414/414 [00:03&lt;00:00, 106.74it/s]"
          }
        },
        "cfd4bc15dbab4a619fecdfe81a4538e5": {
          "model_module": "@jupyter-widgets/base",
          "model_name": "LayoutModel",
          "model_module_version": "1.2.0",
          "state": {
            "_model_module": "@jupyter-widgets/base",
            "_model_module_version": "1.2.0",
            "_model_name": "LayoutModel",
            "_view_count": null,
            "_view_module": "@jupyter-widgets/base",
            "_view_module_version": "1.2.0",
            "_view_name": "LayoutView",
            "align_content": null,
            "align_items": null,
            "align_self": null,
            "border": null,
            "bottom": null,
            "display": null,
            "flex": null,
            "flex_flow": null,
            "grid_area": null,
            "grid_auto_columns": null,
            "grid_auto_flow": null,
            "grid_auto_rows": null,
            "grid_column": null,
            "grid_gap": null,
            "grid_row": null,
            "grid_template_areas": null,
            "grid_template_columns": null,
            "grid_template_rows": null,
            "height": null,
            "justify_content": null,
            "justify_items": null,
            "left": null,
            "margin": null,
            "max_height": null,
            "max_width": null,
            "min_height": null,
            "min_width": null,
            "object_fit": null,
            "object_position": null,
            "order": null,
            "overflow": null,
            "overflow_x": null,
            "overflow_y": null,
            "padding": null,
            "right": null,
            "top": null,
            "visibility": null,
            "width": null
          }
        },
        "b58c7982946649629fe9fdc9155c4874": {
          "model_module": "@jupyter-widgets/base",
          "model_name": "LayoutModel",
          "model_module_version": "1.2.0",
          "state": {
            "_model_module": "@jupyter-widgets/base",
            "_model_module_version": "1.2.0",
            "_model_name": "LayoutModel",
            "_view_count": null,
            "_view_module": "@jupyter-widgets/base",
            "_view_module_version": "1.2.0",
            "_view_name": "LayoutView",
            "align_content": null,
            "align_items": null,
            "align_self": null,
            "border": null,
            "bottom": null,
            "display": null,
            "flex": null,
            "flex_flow": null,
            "grid_area": null,
            "grid_auto_columns": null,
            "grid_auto_flow": null,
            "grid_auto_rows": null,
            "grid_column": null,
            "grid_gap": null,
            "grid_row": null,
            "grid_template_areas": null,
            "grid_template_columns": null,
            "grid_template_rows": null,
            "height": null,
            "justify_content": null,
            "justify_items": null,
            "left": null,
            "margin": null,
            "max_height": null,
            "max_width": null,
            "min_height": null,
            "min_width": null,
            "object_fit": null,
            "object_position": null,
            "order": null,
            "overflow": null,
            "overflow_x": null,
            "overflow_y": null,
            "padding": null,
            "right": null,
            "top": null,
            "visibility": null,
            "width": null
          }
        },
        "e2465b27f3874dabb6d89c42dd796507": {
          "model_module": "@jupyter-widgets/controls",
          "model_name": "DescriptionStyleModel",
          "model_module_version": "1.5.0",
          "state": {
            "_model_module": "@jupyter-widgets/controls",
            "_model_module_version": "1.5.0",
            "_model_name": "DescriptionStyleModel",
            "_view_count": null,
            "_view_module": "@jupyter-widgets/base",
            "_view_module_version": "1.2.0",
            "_view_name": "StyleView",
            "description_width": ""
          }
        },
        "174e46f09e33461ab2c494f629955846": {
          "model_module": "@jupyter-widgets/base",
          "model_name": "LayoutModel",
          "model_module_version": "1.2.0",
          "state": {
            "_model_module": "@jupyter-widgets/base",
            "_model_module_version": "1.2.0",
            "_model_name": "LayoutModel",
            "_view_count": null,
            "_view_module": "@jupyter-widgets/base",
            "_view_module_version": "1.2.0",
            "_view_name": "LayoutView",
            "align_content": null,
            "align_items": null,
            "align_self": null,
            "border": null,
            "bottom": null,
            "display": null,
            "flex": null,
            "flex_flow": null,
            "grid_area": null,
            "grid_auto_columns": null,
            "grid_auto_flow": null,
            "grid_auto_rows": null,
            "grid_column": null,
            "grid_gap": null,
            "grid_row": null,
            "grid_template_areas": null,
            "grid_template_columns": null,
            "grid_template_rows": null,
            "height": null,
            "justify_content": null,
            "justify_items": null,
            "left": null,
            "margin": null,
            "max_height": null,
            "max_width": null,
            "min_height": null,
            "min_width": null,
            "object_fit": null,
            "object_position": null,
            "order": null,
            "overflow": null,
            "overflow_x": null,
            "overflow_y": null,
            "padding": null,
            "right": null,
            "top": null,
            "visibility": null,
            "width": null
          }
        },
        "abff5ed2f04b4953a132ae5965e9f654": {
          "model_module": "@jupyter-widgets/controls",
          "model_name": "ProgressStyleModel",
          "model_module_version": "1.5.0",
          "state": {
            "_model_module": "@jupyter-widgets/controls",
            "_model_module_version": "1.5.0",
            "_model_name": "ProgressStyleModel",
            "_view_count": null,
            "_view_module": "@jupyter-widgets/base",
            "_view_module_version": "1.2.0",
            "_view_name": "StyleView",
            "bar_color": null,
            "description_width": ""
          }
        },
        "694d25bb853b4ca296d4dab1b8c1dba6": {
          "model_module": "@jupyter-widgets/base",
          "model_name": "LayoutModel",
          "model_module_version": "1.2.0",
          "state": {
            "_model_module": "@jupyter-widgets/base",
            "_model_module_version": "1.2.0",
            "_model_name": "LayoutModel",
            "_view_count": null,
            "_view_module": "@jupyter-widgets/base",
            "_view_module_version": "1.2.0",
            "_view_name": "LayoutView",
            "align_content": null,
            "align_items": null,
            "align_self": null,
            "border": null,
            "bottom": null,
            "display": null,
            "flex": null,
            "flex_flow": null,
            "grid_area": null,
            "grid_auto_columns": null,
            "grid_auto_flow": null,
            "grid_auto_rows": null,
            "grid_column": null,
            "grid_gap": null,
            "grid_row": null,
            "grid_template_areas": null,
            "grid_template_columns": null,
            "grid_template_rows": null,
            "height": null,
            "justify_content": null,
            "justify_items": null,
            "left": null,
            "margin": null,
            "max_height": null,
            "max_width": null,
            "min_height": null,
            "min_width": null,
            "object_fit": null,
            "object_position": null,
            "order": null,
            "overflow": null,
            "overflow_x": null,
            "overflow_y": null,
            "padding": null,
            "right": null,
            "top": null,
            "visibility": null,
            "width": null
          }
        },
        "9c9547944dea450da918f834224310b4": {
          "model_module": "@jupyter-widgets/controls",
          "model_name": "DescriptionStyleModel",
          "model_module_version": "1.5.0",
          "state": {
            "_model_module": "@jupyter-widgets/controls",
            "_model_module_version": "1.5.0",
            "_model_name": "DescriptionStyleModel",
            "_view_count": null,
            "_view_module": "@jupyter-widgets/base",
            "_view_module_version": "1.2.0",
            "_view_name": "StyleView",
            "description_width": ""
          }
        },
        "4d2e799f5d44437dbf97845330d42883": {
          "model_module": "@jupyter-widgets/controls",
          "model_name": "HBoxModel",
          "model_module_version": "1.5.0",
          "state": {
            "_dom_classes": [],
            "_model_module": "@jupyter-widgets/controls",
            "_model_module_version": "1.5.0",
            "_model_name": "HBoxModel",
            "_view_count": null,
            "_view_module": "@jupyter-widgets/controls",
            "_view_module_version": "1.5.0",
            "_view_name": "HBoxView",
            "box_style": "",
            "children": [
              "IPY_MODEL_cd9766b301e847e9816d4d8fa2f2ea98",
              "IPY_MODEL_72f597bde7fc4cf1b29f5d04bd4f1365",
              "IPY_MODEL_77808b03d9d043acaa7f76693e51b0e6"
            ],
            "layout": "IPY_MODEL_73e3c26b651648b2a717481d5c15803b"
          }
        },
        "cd9766b301e847e9816d4d8fa2f2ea98": {
          "model_module": "@jupyter-widgets/controls",
          "model_name": "HTMLModel",
          "model_module_version": "1.5.0",
          "state": {
            "_dom_classes": [],
            "_model_module": "@jupyter-widgets/controls",
            "_model_module_version": "1.5.0",
            "_model_name": "HTMLModel",
            "_view_count": null,
            "_view_module": "@jupyter-widgets/controls",
            "_view_module_version": "1.5.0",
            "_view_name": "HTMLView",
            "description": "",
            "description_tooltip": null,
            "layout": "IPY_MODEL_43eb7454a6f34ebab20c04f6a9c4dc15",
            "placeholder": "​",
            "style": "IPY_MODEL_c5154cbf82194136aaa5af4a68dd4730",
            "value": "100%"
          }
        },
        "72f597bde7fc4cf1b29f5d04bd4f1365": {
          "model_module": "@jupyter-widgets/controls",
          "model_name": "FloatProgressModel",
          "model_module_version": "1.5.0",
          "state": {
            "_dom_classes": [],
            "_model_module": "@jupyter-widgets/controls",
            "_model_module_version": "1.5.0",
            "_model_name": "FloatProgressModel",
            "_view_count": null,
            "_view_module": "@jupyter-widgets/controls",
            "_view_module_version": "1.5.0",
            "_view_name": "ProgressView",
            "bar_style": "success",
            "description": "",
            "description_tooltip": null,
            "layout": "IPY_MODEL_d8a2713ed6a5407e8bfcf408836ce932",
            "max": 414,
            "min": 0,
            "orientation": "horizontal",
            "style": "IPY_MODEL_a5eb1df9e2f549f6b76565cb0213d4e5",
            "value": 414
          }
        },
        "77808b03d9d043acaa7f76693e51b0e6": {
          "model_module": "@jupyter-widgets/controls",
          "model_name": "HTMLModel",
          "model_module_version": "1.5.0",
          "state": {
            "_dom_classes": [],
            "_model_module": "@jupyter-widgets/controls",
            "_model_module_version": "1.5.0",
            "_model_name": "HTMLModel",
            "_view_count": null,
            "_view_module": "@jupyter-widgets/controls",
            "_view_module_version": "1.5.0",
            "_view_name": "HTMLView",
            "description": "",
            "description_tooltip": null,
            "layout": "IPY_MODEL_a5190ef889934e258c3f1e6ec7082e7d",
            "placeholder": "​",
            "style": "IPY_MODEL_05670552455c4048ab2174ebe164d6fd",
            "value": " 414/414 [00:04&lt;00:00, 103.29it/s]"
          }
        },
        "73e3c26b651648b2a717481d5c15803b": {
          "model_module": "@jupyter-widgets/base",
          "model_name": "LayoutModel",
          "model_module_version": "1.2.0",
          "state": {
            "_model_module": "@jupyter-widgets/base",
            "_model_module_version": "1.2.0",
            "_model_name": "LayoutModel",
            "_view_count": null,
            "_view_module": "@jupyter-widgets/base",
            "_view_module_version": "1.2.0",
            "_view_name": "LayoutView",
            "align_content": null,
            "align_items": null,
            "align_self": null,
            "border": null,
            "bottom": null,
            "display": null,
            "flex": null,
            "flex_flow": null,
            "grid_area": null,
            "grid_auto_columns": null,
            "grid_auto_flow": null,
            "grid_auto_rows": null,
            "grid_column": null,
            "grid_gap": null,
            "grid_row": null,
            "grid_template_areas": null,
            "grid_template_columns": null,
            "grid_template_rows": null,
            "height": null,
            "justify_content": null,
            "justify_items": null,
            "left": null,
            "margin": null,
            "max_height": null,
            "max_width": null,
            "min_height": null,
            "min_width": null,
            "object_fit": null,
            "object_position": null,
            "order": null,
            "overflow": null,
            "overflow_x": null,
            "overflow_y": null,
            "padding": null,
            "right": null,
            "top": null,
            "visibility": null,
            "width": null
          }
        },
        "43eb7454a6f34ebab20c04f6a9c4dc15": {
          "model_module": "@jupyter-widgets/base",
          "model_name": "LayoutModel",
          "model_module_version": "1.2.0",
          "state": {
            "_model_module": "@jupyter-widgets/base",
            "_model_module_version": "1.2.0",
            "_model_name": "LayoutModel",
            "_view_count": null,
            "_view_module": "@jupyter-widgets/base",
            "_view_module_version": "1.2.0",
            "_view_name": "LayoutView",
            "align_content": null,
            "align_items": null,
            "align_self": null,
            "border": null,
            "bottom": null,
            "display": null,
            "flex": null,
            "flex_flow": null,
            "grid_area": null,
            "grid_auto_columns": null,
            "grid_auto_flow": null,
            "grid_auto_rows": null,
            "grid_column": null,
            "grid_gap": null,
            "grid_row": null,
            "grid_template_areas": null,
            "grid_template_columns": null,
            "grid_template_rows": null,
            "height": null,
            "justify_content": null,
            "justify_items": null,
            "left": null,
            "margin": null,
            "max_height": null,
            "max_width": null,
            "min_height": null,
            "min_width": null,
            "object_fit": null,
            "object_position": null,
            "order": null,
            "overflow": null,
            "overflow_x": null,
            "overflow_y": null,
            "padding": null,
            "right": null,
            "top": null,
            "visibility": null,
            "width": null
          }
        },
        "c5154cbf82194136aaa5af4a68dd4730": {
          "model_module": "@jupyter-widgets/controls",
          "model_name": "DescriptionStyleModel",
          "model_module_version": "1.5.0",
          "state": {
            "_model_module": "@jupyter-widgets/controls",
            "_model_module_version": "1.5.0",
            "_model_name": "DescriptionStyleModel",
            "_view_count": null,
            "_view_module": "@jupyter-widgets/base",
            "_view_module_version": "1.2.0",
            "_view_name": "StyleView",
            "description_width": ""
          }
        },
        "d8a2713ed6a5407e8bfcf408836ce932": {
          "model_module": "@jupyter-widgets/base",
          "model_name": "LayoutModel",
          "model_module_version": "1.2.0",
          "state": {
            "_model_module": "@jupyter-widgets/base",
            "_model_module_version": "1.2.0",
            "_model_name": "LayoutModel",
            "_view_count": null,
            "_view_module": "@jupyter-widgets/base",
            "_view_module_version": "1.2.0",
            "_view_name": "LayoutView",
            "align_content": null,
            "align_items": null,
            "align_self": null,
            "border": null,
            "bottom": null,
            "display": null,
            "flex": null,
            "flex_flow": null,
            "grid_area": null,
            "grid_auto_columns": null,
            "grid_auto_flow": null,
            "grid_auto_rows": null,
            "grid_column": null,
            "grid_gap": null,
            "grid_row": null,
            "grid_template_areas": null,
            "grid_template_columns": null,
            "grid_template_rows": null,
            "height": null,
            "justify_content": null,
            "justify_items": null,
            "left": null,
            "margin": null,
            "max_height": null,
            "max_width": null,
            "min_height": null,
            "min_width": null,
            "object_fit": null,
            "object_position": null,
            "order": null,
            "overflow": null,
            "overflow_x": null,
            "overflow_y": null,
            "padding": null,
            "right": null,
            "top": null,
            "visibility": null,
            "width": null
          }
        },
        "a5eb1df9e2f549f6b76565cb0213d4e5": {
          "model_module": "@jupyter-widgets/controls",
          "model_name": "ProgressStyleModel",
          "model_module_version": "1.5.0",
          "state": {
            "_model_module": "@jupyter-widgets/controls",
            "_model_module_version": "1.5.0",
            "_model_name": "ProgressStyleModel",
            "_view_count": null,
            "_view_module": "@jupyter-widgets/base",
            "_view_module_version": "1.2.0",
            "_view_name": "StyleView",
            "bar_color": null,
            "description_width": ""
          }
        },
        "a5190ef889934e258c3f1e6ec7082e7d": {
          "model_module": "@jupyter-widgets/base",
          "model_name": "LayoutModel",
          "model_module_version": "1.2.0",
          "state": {
            "_model_module": "@jupyter-widgets/base",
            "_model_module_version": "1.2.0",
            "_model_name": "LayoutModel",
            "_view_count": null,
            "_view_module": "@jupyter-widgets/base",
            "_view_module_version": "1.2.0",
            "_view_name": "LayoutView",
            "align_content": null,
            "align_items": null,
            "align_self": null,
            "border": null,
            "bottom": null,
            "display": null,
            "flex": null,
            "flex_flow": null,
            "grid_area": null,
            "grid_auto_columns": null,
            "grid_auto_flow": null,
            "grid_auto_rows": null,
            "grid_column": null,
            "grid_gap": null,
            "grid_row": null,
            "grid_template_areas": null,
            "grid_template_columns": null,
            "grid_template_rows": null,
            "height": null,
            "justify_content": null,
            "justify_items": null,
            "left": null,
            "margin": null,
            "max_height": null,
            "max_width": null,
            "min_height": null,
            "min_width": null,
            "object_fit": null,
            "object_position": null,
            "order": null,
            "overflow": null,
            "overflow_x": null,
            "overflow_y": null,
            "padding": null,
            "right": null,
            "top": null,
            "visibility": null,
            "width": null
          }
        },
        "05670552455c4048ab2174ebe164d6fd": {
          "model_module": "@jupyter-widgets/controls",
          "model_name": "DescriptionStyleModel",
          "model_module_version": "1.5.0",
          "state": {
            "_model_module": "@jupyter-widgets/controls",
            "_model_module_version": "1.5.0",
            "_model_name": "DescriptionStyleModel",
            "_view_count": null,
            "_view_module": "@jupyter-widgets/base",
            "_view_module_version": "1.2.0",
            "_view_name": "StyleView",
            "description_width": ""
          }
        },
        "12698c9416b54d2d8ef8fba560675813": {
          "model_module": "@jupyter-widgets/controls",
          "model_name": "HBoxModel",
          "model_module_version": "1.5.0",
          "state": {
            "_dom_classes": [],
            "_model_module": "@jupyter-widgets/controls",
            "_model_module_version": "1.5.0",
            "_model_name": "HBoxModel",
            "_view_count": null,
            "_view_module": "@jupyter-widgets/controls",
            "_view_module_version": "1.5.0",
            "_view_name": "HBoxView",
            "box_style": "",
            "children": [
              "IPY_MODEL_fbdc80c97760459bbebb9242d8093fe5",
              "IPY_MODEL_08e923a30c3946ecbf5e7b04a50f014a",
              "IPY_MODEL_7b4d3b64897b45b98e30e1d9d2af281c"
            ],
            "layout": "IPY_MODEL_31b15f775d9c4793824fdb868ebbaae4"
          }
        },
        "fbdc80c97760459bbebb9242d8093fe5": {
          "model_module": "@jupyter-widgets/controls",
          "model_name": "HTMLModel",
          "model_module_version": "1.5.0",
          "state": {
            "_dom_classes": [],
            "_model_module": "@jupyter-widgets/controls",
            "_model_module_version": "1.5.0",
            "_model_name": "HTMLModel",
            "_view_count": null,
            "_view_module": "@jupyter-widgets/controls",
            "_view_module_version": "1.5.0",
            "_view_name": "HTMLView",
            "description": "",
            "description_tooltip": null,
            "layout": "IPY_MODEL_21dec6cd01084370981fdd3ae13dd96e",
            "placeholder": "​",
            "style": "IPY_MODEL_2b6830855a294d8892c7fa061a7ffda8",
            "value": "100%"
          }
        },
        "08e923a30c3946ecbf5e7b04a50f014a": {
          "model_module": "@jupyter-widgets/controls",
          "model_name": "FloatProgressModel",
          "model_module_version": "1.5.0",
          "state": {
            "_dom_classes": [],
            "_model_module": "@jupyter-widgets/controls",
            "_model_module_version": "1.5.0",
            "_model_name": "FloatProgressModel",
            "_view_count": null,
            "_view_module": "@jupyter-widgets/controls",
            "_view_module_version": "1.5.0",
            "_view_name": "ProgressView",
            "bar_style": "success",
            "description": "",
            "description_tooltip": null,
            "layout": "IPY_MODEL_13f721b35d324d0c9d477b1212af30fb",
            "max": 104,
            "min": 0,
            "orientation": "horizontal",
            "style": "IPY_MODEL_c26bdd7e64fa41e4882fb233ed0ba144",
            "value": 104
          }
        },
        "7b4d3b64897b45b98e30e1d9d2af281c": {
          "model_module": "@jupyter-widgets/controls",
          "model_name": "HTMLModel",
          "model_module_version": "1.5.0",
          "state": {
            "_dom_classes": [],
            "_model_module": "@jupyter-widgets/controls",
            "_model_module_version": "1.5.0",
            "_model_name": "HTMLModel",
            "_view_count": null,
            "_view_module": "@jupyter-widgets/controls",
            "_view_module_version": "1.5.0",
            "_view_name": "HTMLView",
            "description": "",
            "description_tooltip": null,
            "layout": "IPY_MODEL_f9c1e36a86d141719b81779662e28b2b",
            "placeholder": "​",
            "style": "IPY_MODEL_d0e34d88d62b46a186035333003c8cec",
            "value": " 104/104 [00:04&lt;00:00, 63.55it/s]"
          }
        },
        "31b15f775d9c4793824fdb868ebbaae4": {
          "model_module": "@jupyter-widgets/base",
          "model_name": "LayoutModel",
          "model_module_version": "1.2.0",
          "state": {
            "_model_module": "@jupyter-widgets/base",
            "_model_module_version": "1.2.0",
            "_model_name": "LayoutModel",
            "_view_count": null,
            "_view_module": "@jupyter-widgets/base",
            "_view_module_version": "1.2.0",
            "_view_name": "LayoutView",
            "align_content": null,
            "align_items": null,
            "align_self": null,
            "border": null,
            "bottom": null,
            "display": null,
            "flex": null,
            "flex_flow": null,
            "grid_area": null,
            "grid_auto_columns": null,
            "grid_auto_flow": null,
            "grid_auto_rows": null,
            "grid_column": null,
            "grid_gap": null,
            "grid_row": null,
            "grid_template_areas": null,
            "grid_template_columns": null,
            "grid_template_rows": null,
            "height": null,
            "justify_content": null,
            "justify_items": null,
            "left": null,
            "margin": null,
            "max_height": null,
            "max_width": null,
            "min_height": null,
            "min_width": null,
            "object_fit": null,
            "object_position": null,
            "order": null,
            "overflow": null,
            "overflow_x": null,
            "overflow_y": null,
            "padding": null,
            "right": null,
            "top": null,
            "visibility": null,
            "width": null
          }
        },
        "21dec6cd01084370981fdd3ae13dd96e": {
          "model_module": "@jupyter-widgets/base",
          "model_name": "LayoutModel",
          "model_module_version": "1.2.0",
          "state": {
            "_model_module": "@jupyter-widgets/base",
            "_model_module_version": "1.2.0",
            "_model_name": "LayoutModel",
            "_view_count": null,
            "_view_module": "@jupyter-widgets/base",
            "_view_module_version": "1.2.0",
            "_view_name": "LayoutView",
            "align_content": null,
            "align_items": null,
            "align_self": null,
            "border": null,
            "bottom": null,
            "display": null,
            "flex": null,
            "flex_flow": null,
            "grid_area": null,
            "grid_auto_columns": null,
            "grid_auto_flow": null,
            "grid_auto_rows": null,
            "grid_column": null,
            "grid_gap": null,
            "grid_row": null,
            "grid_template_areas": null,
            "grid_template_columns": null,
            "grid_template_rows": null,
            "height": null,
            "justify_content": null,
            "justify_items": null,
            "left": null,
            "margin": null,
            "max_height": null,
            "max_width": null,
            "min_height": null,
            "min_width": null,
            "object_fit": null,
            "object_position": null,
            "order": null,
            "overflow": null,
            "overflow_x": null,
            "overflow_y": null,
            "padding": null,
            "right": null,
            "top": null,
            "visibility": null,
            "width": null
          }
        },
        "2b6830855a294d8892c7fa061a7ffda8": {
          "model_module": "@jupyter-widgets/controls",
          "model_name": "DescriptionStyleModel",
          "model_module_version": "1.5.0",
          "state": {
            "_model_module": "@jupyter-widgets/controls",
            "_model_module_version": "1.5.0",
            "_model_name": "DescriptionStyleModel",
            "_view_count": null,
            "_view_module": "@jupyter-widgets/base",
            "_view_module_version": "1.2.0",
            "_view_name": "StyleView",
            "description_width": ""
          }
        },
        "13f721b35d324d0c9d477b1212af30fb": {
          "model_module": "@jupyter-widgets/base",
          "model_name": "LayoutModel",
          "model_module_version": "1.2.0",
          "state": {
            "_model_module": "@jupyter-widgets/base",
            "_model_module_version": "1.2.0",
            "_model_name": "LayoutModel",
            "_view_count": null,
            "_view_module": "@jupyter-widgets/base",
            "_view_module_version": "1.2.0",
            "_view_name": "LayoutView",
            "align_content": null,
            "align_items": null,
            "align_self": null,
            "border": null,
            "bottom": null,
            "display": null,
            "flex": null,
            "flex_flow": null,
            "grid_area": null,
            "grid_auto_columns": null,
            "grid_auto_flow": null,
            "grid_auto_rows": null,
            "grid_column": null,
            "grid_gap": null,
            "grid_row": null,
            "grid_template_areas": null,
            "grid_template_columns": null,
            "grid_template_rows": null,
            "height": null,
            "justify_content": null,
            "justify_items": null,
            "left": null,
            "margin": null,
            "max_height": null,
            "max_width": null,
            "min_height": null,
            "min_width": null,
            "object_fit": null,
            "object_position": null,
            "order": null,
            "overflow": null,
            "overflow_x": null,
            "overflow_y": null,
            "padding": null,
            "right": null,
            "top": null,
            "visibility": null,
            "width": null
          }
        },
        "c26bdd7e64fa41e4882fb233ed0ba144": {
          "model_module": "@jupyter-widgets/controls",
          "model_name": "ProgressStyleModel",
          "model_module_version": "1.5.0",
          "state": {
            "_model_module": "@jupyter-widgets/controls",
            "_model_module_version": "1.5.0",
            "_model_name": "ProgressStyleModel",
            "_view_count": null,
            "_view_module": "@jupyter-widgets/base",
            "_view_module_version": "1.2.0",
            "_view_name": "StyleView",
            "bar_color": null,
            "description_width": ""
          }
        },
        "f9c1e36a86d141719b81779662e28b2b": {
          "model_module": "@jupyter-widgets/base",
          "model_name": "LayoutModel",
          "model_module_version": "1.2.0",
          "state": {
            "_model_module": "@jupyter-widgets/base",
            "_model_module_version": "1.2.0",
            "_model_name": "LayoutModel",
            "_view_count": null,
            "_view_module": "@jupyter-widgets/base",
            "_view_module_version": "1.2.0",
            "_view_name": "LayoutView",
            "align_content": null,
            "align_items": null,
            "align_self": null,
            "border": null,
            "bottom": null,
            "display": null,
            "flex": null,
            "flex_flow": null,
            "grid_area": null,
            "grid_auto_columns": null,
            "grid_auto_flow": null,
            "grid_auto_rows": null,
            "grid_column": null,
            "grid_gap": null,
            "grid_row": null,
            "grid_template_areas": null,
            "grid_template_columns": null,
            "grid_template_rows": null,
            "height": null,
            "justify_content": null,
            "justify_items": null,
            "left": null,
            "margin": null,
            "max_height": null,
            "max_width": null,
            "min_height": null,
            "min_width": null,
            "object_fit": null,
            "object_position": null,
            "order": null,
            "overflow": null,
            "overflow_x": null,
            "overflow_y": null,
            "padding": null,
            "right": null,
            "top": null,
            "visibility": null,
            "width": null
          }
        },
        "d0e34d88d62b46a186035333003c8cec": {
          "model_module": "@jupyter-widgets/controls",
          "model_name": "DescriptionStyleModel",
          "model_module_version": "1.5.0",
          "state": {
            "_model_module": "@jupyter-widgets/controls",
            "_model_module_version": "1.5.0",
            "_model_name": "DescriptionStyleModel",
            "_view_count": null,
            "_view_module": "@jupyter-widgets/base",
            "_view_module_version": "1.2.0",
            "_view_name": "StyleView",
            "description_width": ""
          }
        },
        "67cf87257a2846c48a5873237fa073e8": {
          "model_module": "@jupyter-widgets/controls",
          "model_name": "HBoxModel",
          "model_module_version": "1.5.0",
          "state": {
            "_dom_classes": [],
            "_model_module": "@jupyter-widgets/controls",
            "_model_module_version": "1.5.0",
            "_model_name": "HBoxModel",
            "_view_count": null,
            "_view_module": "@jupyter-widgets/controls",
            "_view_module_version": "1.5.0",
            "_view_name": "HBoxView",
            "box_style": "",
            "children": [
              "IPY_MODEL_b85a86ea9935478ea508149b1a542cdd",
              "IPY_MODEL_4532741945c2494f943dc940852e7467",
              "IPY_MODEL_7a96fda3d79343b0a2ba706d659f6a90"
            ],
            "layout": "IPY_MODEL_0caa325ab0c046e69716d4a08f78b8c8"
          }
        },
        "b85a86ea9935478ea508149b1a542cdd": {
          "model_module": "@jupyter-widgets/controls",
          "model_name": "HTMLModel",
          "model_module_version": "1.5.0",
          "state": {
            "_dom_classes": [],
            "_model_module": "@jupyter-widgets/controls",
            "_model_module_version": "1.5.0",
            "_model_name": "HTMLModel",
            "_view_count": null,
            "_view_module": "@jupyter-widgets/controls",
            "_view_module_version": "1.5.0",
            "_view_name": "HTMLView",
            "description": "",
            "description_tooltip": null,
            "layout": "IPY_MODEL_768a49f6394043c186098da6268b256c",
            "placeholder": "​",
            "style": "IPY_MODEL_da1abec23cd54ab9940c888cbc84984e",
            "value": "100%"
          }
        },
        "4532741945c2494f943dc940852e7467": {
          "model_module": "@jupyter-widgets/controls",
          "model_name": "FloatProgressModel",
          "model_module_version": "1.5.0",
          "state": {
            "_dom_classes": [],
            "_model_module": "@jupyter-widgets/controls",
            "_model_module_version": "1.5.0",
            "_model_name": "FloatProgressModel",
            "_view_count": null,
            "_view_module": "@jupyter-widgets/controls",
            "_view_module_version": "1.5.0",
            "_view_name": "ProgressView",
            "bar_style": "success",
            "description": "",
            "description_tooltip": null,
            "layout": "IPY_MODEL_cec6c4c9beca417aa9cb5497ef484df5",
            "max": 104,
            "min": 0,
            "orientation": "horizontal",
            "style": "IPY_MODEL_df090428502d4c65880fdc9221c86e41",
            "value": 104
          }
        },
        "7a96fda3d79343b0a2ba706d659f6a90": {
          "model_module": "@jupyter-widgets/controls",
          "model_name": "HTMLModel",
          "model_module_version": "1.5.0",
          "state": {
            "_dom_classes": [],
            "_model_module": "@jupyter-widgets/controls",
            "_model_module_version": "1.5.0",
            "_model_name": "HTMLModel",
            "_view_count": null,
            "_view_module": "@jupyter-widgets/controls",
            "_view_module_version": "1.5.0",
            "_view_name": "HTMLView",
            "description": "",
            "description_tooltip": null,
            "layout": "IPY_MODEL_dacf853432d443498fcd5016f309142b",
            "placeholder": "​",
            "style": "IPY_MODEL_fd49ed4a65be4371b1492aa519380644",
            "value": " 104/104 [00:33&lt;00:00,  3.13it/s]"
          }
        },
        "0caa325ab0c046e69716d4a08f78b8c8": {
          "model_module": "@jupyter-widgets/base",
          "model_name": "LayoutModel",
          "model_module_version": "1.2.0",
          "state": {
            "_model_module": "@jupyter-widgets/base",
            "_model_module_version": "1.2.0",
            "_model_name": "LayoutModel",
            "_view_count": null,
            "_view_module": "@jupyter-widgets/base",
            "_view_module_version": "1.2.0",
            "_view_name": "LayoutView",
            "align_content": null,
            "align_items": null,
            "align_self": null,
            "border": null,
            "bottom": null,
            "display": null,
            "flex": null,
            "flex_flow": null,
            "grid_area": null,
            "grid_auto_columns": null,
            "grid_auto_flow": null,
            "grid_auto_rows": null,
            "grid_column": null,
            "grid_gap": null,
            "grid_row": null,
            "grid_template_areas": null,
            "grid_template_columns": null,
            "grid_template_rows": null,
            "height": null,
            "justify_content": null,
            "justify_items": null,
            "left": null,
            "margin": null,
            "max_height": null,
            "max_width": null,
            "min_height": null,
            "min_width": null,
            "object_fit": null,
            "object_position": null,
            "order": null,
            "overflow": null,
            "overflow_x": null,
            "overflow_y": null,
            "padding": null,
            "right": null,
            "top": null,
            "visibility": null,
            "width": null
          }
        },
        "768a49f6394043c186098da6268b256c": {
          "model_module": "@jupyter-widgets/base",
          "model_name": "LayoutModel",
          "model_module_version": "1.2.0",
          "state": {
            "_model_module": "@jupyter-widgets/base",
            "_model_module_version": "1.2.0",
            "_model_name": "LayoutModel",
            "_view_count": null,
            "_view_module": "@jupyter-widgets/base",
            "_view_module_version": "1.2.0",
            "_view_name": "LayoutView",
            "align_content": null,
            "align_items": null,
            "align_self": null,
            "border": null,
            "bottom": null,
            "display": null,
            "flex": null,
            "flex_flow": null,
            "grid_area": null,
            "grid_auto_columns": null,
            "grid_auto_flow": null,
            "grid_auto_rows": null,
            "grid_column": null,
            "grid_gap": null,
            "grid_row": null,
            "grid_template_areas": null,
            "grid_template_columns": null,
            "grid_template_rows": null,
            "height": null,
            "justify_content": null,
            "justify_items": null,
            "left": null,
            "margin": null,
            "max_height": null,
            "max_width": null,
            "min_height": null,
            "min_width": null,
            "object_fit": null,
            "object_position": null,
            "order": null,
            "overflow": null,
            "overflow_x": null,
            "overflow_y": null,
            "padding": null,
            "right": null,
            "top": null,
            "visibility": null,
            "width": null
          }
        },
        "da1abec23cd54ab9940c888cbc84984e": {
          "model_module": "@jupyter-widgets/controls",
          "model_name": "DescriptionStyleModel",
          "model_module_version": "1.5.0",
          "state": {
            "_model_module": "@jupyter-widgets/controls",
            "_model_module_version": "1.5.0",
            "_model_name": "DescriptionStyleModel",
            "_view_count": null,
            "_view_module": "@jupyter-widgets/base",
            "_view_module_version": "1.2.0",
            "_view_name": "StyleView",
            "description_width": ""
          }
        },
        "cec6c4c9beca417aa9cb5497ef484df5": {
          "model_module": "@jupyter-widgets/base",
          "model_name": "LayoutModel",
          "model_module_version": "1.2.0",
          "state": {
            "_model_module": "@jupyter-widgets/base",
            "_model_module_version": "1.2.0",
            "_model_name": "LayoutModel",
            "_view_count": null,
            "_view_module": "@jupyter-widgets/base",
            "_view_module_version": "1.2.0",
            "_view_name": "LayoutView",
            "align_content": null,
            "align_items": null,
            "align_self": null,
            "border": null,
            "bottom": null,
            "display": null,
            "flex": null,
            "flex_flow": null,
            "grid_area": null,
            "grid_auto_columns": null,
            "grid_auto_flow": null,
            "grid_auto_rows": null,
            "grid_column": null,
            "grid_gap": null,
            "grid_row": null,
            "grid_template_areas": null,
            "grid_template_columns": null,
            "grid_template_rows": null,
            "height": null,
            "justify_content": null,
            "justify_items": null,
            "left": null,
            "margin": null,
            "max_height": null,
            "max_width": null,
            "min_height": null,
            "min_width": null,
            "object_fit": null,
            "object_position": null,
            "order": null,
            "overflow": null,
            "overflow_x": null,
            "overflow_y": null,
            "padding": null,
            "right": null,
            "top": null,
            "visibility": null,
            "width": null
          }
        },
        "df090428502d4c65880fdc9221c86e41": {
          "model_module": "@jupyter-widgets/controls",
          "model_name": "ProgressStyleModel",
          "model_module_version": "1.5.0",
          "state": {
            "_model_module": "@jupyter-widgets/controls",
            "_model_module_version": "1.5.0",
            "_model_name": "ProgressStyleModel",
            "_view_count": null,
            "_view_module": "@jupyter-widgets/base",
            "_view_module_version": "1.2.0",
            "_view_name": "StyleView",
            "bar_color": null,
            "description_width": ""
          }
        },
        "dacf853432d443498fcd5016f309142b": {
          "model_module": "@jupyter-widgets/base",
          "model_name": "LayoutModel",
          "model_module_version": "1.2.0",
          "state": {
            "_model_module": "@jupyter-widgets/base",
            "_model_module_version": "1.2.0",
            "_model_name": "LayoutModel",
            "_view_count": null,
            "_view_module": "@jupyter-widgets/base",
            "_view_module_version": "1.2.0",
            "_view_name": "LayoutView",
            "align_content": null,
            "align_items": null,
            "align_self": null,
            "border": null,
            "bottom": null,
            "display": null,
            "flex": null,
            "flex_flow": null,
            "grid_area": null,
            "grid_auto_columns": null,
            "grid_auto_flow": null,
            "grid_auto_rows": null,
            "grid_column": null,
            "grid_gap": null,
            "grid_row": null,
            "grid_template_areas": null,
            "grid_template_columns": null,
            "grid_template_rows": null,
            "height": null,
            "justify_content": null,
            "justify_items": null,
            "left": null,
            "margin": null,
            "max_height": null,
            "max_width": null,
            "min_height": null,
            "min_width": null,
            "object_fit": null,
            "object_position": null,
            "order": null,
            "overflow": null,
            "overflow_x": null,
            "overflow_y": null,
            "padding": null,
            "right": null,
            "top": null,
            "visibility": null,
            "width": null
          }
        },
        "fd49ed4a65be4371b1492aa519380644": {
          "model_module": "@jupyter-widgets/controls",
          "model_name": "DescriptionStyleModel",
          "model_module_version": "1.5.0",
          "state": {
            "_model_module": "@jupyter-widgets/controls",
            "_model_module_version": "1.5.0",
            "_model_name": "DescriptionStyleModel",
            "_view_count": null,
            "_view_module": "@jupyter-widgets/base",
            "_view_module_version": "1.2.0",
            "_view_name": "StyleView",
            "description_width": ""
          }
        }
      }
    }
  },
  "cells": [
    {
      "cell_type": "markdown",
      "source": [
        "###1st Experiment: Do not consider bias in gender\n",
        "1. Base model to extract features \n",
        "2. PCA on the image features (n_components = 200)\n",
        "3. Base model binary classification on the features after PCA\n",
        "4. Clustering on the features after PCA\n",
        "5. Model of each cluster binary classification on the features after PCA\n",
        "6. Random sample the same number of features after PCA and train model on it (Compare with the testing accuracy of its corresponding cluster to leave out the effect of sample size)\n",
        "7. Compare the accuracy of the base model and the models of each clusters\n"
      ],
      "metadata": {
        "id": "R19eRs3ihHOi"
      }
    },
    {
      "cell_type": "markdown",
      "source": [
        "## train-val "
      ],
      "metadata": {
        "id": "_iaKTnjljebu"
      }
    },
    {
      "cell_type": "code",
      "execution_count": 1,
      "metadata": {
        "id": "awFp_kgI0niO"
      },
      "outputs": [],
      "source": [
        "import numpy as np # linear algebra\n",
        "import pandas as pd # data processing, CSV file I/O (e.g. pd.read_csv)\n",
        "import cv2\n",
        "import random\n",
        "from tqdm import tqdm\n",
        "import matplotlib.pyplot as plt"
      ]
    },
    {
      "cell_type": "code",
      "source": [
        "from google.colab import drive \n",
        "drive.mount('/content/gdrive')"
      ],
      "metadata": {
        "colab": {
          "base_uri": "https://localhost:8080/"
        },
        "id": "IMtMmKmP3Ag_",
        "outputId": "54299b41-3220-437e-9daa-2d4e9b8eb009"
      },
      "execution_count": 2,
      "outputs": [
        {
          "output_type": "stream",
          "name": "stdout",
          "text": [
            "Mounted at /content/gdrive\n"
          ]
        }
      ]
    },
    {
      "cell_type": "code",
      "source": [
        "import pandas as pd \n",
        "df = pd.read_csv('gdrive/My Drive/cartact.csv')\n",
        "len(df)"
      ],
      "metadata": {
        "colab": {
          "base_uri": "https://localhost:8080/"
        },
        "id": "EPuYioxP3MXq",
        "outputId": "c80349d5-c079-4b33-b318-764d989c279a"
      },
      "execution_count": 3,
      "outputs": [
        {
          "output_type": "execute_result",
          "data": {
            "text/plain": [
              "6392"
            ]
          },
          "metadata": {},
          "execution_count": 3
        }
      ]
    },
    {
      "cell_type": "code",
      "source": [
        "df1 = df.loc[:, ['Patient Age','Patient Sex', 'Left-Fundus', 'Left-Diagnostic Keywords']]\n",
        "df1.rename(columns = {'Left-Fundus':'Image', 'Left-Diagnostic Keywords':'Result'}, inplace = True)\n",
        "\n",
        "dat_left = df1.loc[(df1['Result'] == 'cataract')|(df1['Result'] == 'normal fundus')]\n",
        "\n",
        "df2 = df.loc[:, ['Patient Age','Patient Sex', 'Right-Fundus', 'Right-Diagnostic Keywords']]\n",
        "\n",
        "df2.rename(columns = {'Right-Fundus':'Image', 'Right-Diagnostic Keywords':'Result'}, inplace = True)\n",
        "dat_right = df2.loc[(df2['Result'] == 'cataract')|(df2['Result'] == 'normal fundus')]\n",
        "dat_right.head(10)\n",
        "data = dat_left.append(dat_right)\n",
        "len(data)"
      ],
      "metadata": {
        "id": "x4LLZGDIobKM",
        "colab": {
          "base_uri": "https://localhost:8080/"
        },
        "outputId": "031471ee-79f6-4228-efb4-4c729a28392b"
      },
      "execution_count": 4,
      "outputs": [
        {
          "output_type": "execute_result",
          "data": {
            "text/plain": [
              "6019"
            ]
          },
          "metadata": {},
          "execution_count": 4
        }
      ]
    },
    {
      "cell_type": "code",
      "source": [
        "\n",
        "data_cfe = data[(data[\"Patient Sex\"] == \"Female\") & (data[\"Result\"] == \"cataract\")]\n",
        "data_cm = data[(data[\"Patient Sex\"] == \"Male\") & (data[\"Result\"] == \"cataract\")]\n",
        "# data_cfe = data_cfe.iloc[:220]\n",
        "print(len(data_cfe), len(data_cm))\n",
        "data_nfe = data[(data[\"Patient Sex\"] == \"Female\") & (data[\"Result\"] == \"normal fundus\")]\n",
        "data_nfe = data_nfe.iloc[:298]\n",
        "data_nm = data[(data[\"Patient Sex\"] == \"Male\") & (data[\"Result\"] == \"normal fundus\")]\n",
        "data_nm = data_nm.iloc[:220]\n",
        "print(len(data_nfe), len(data_nm))\n",
        "frame_data = [data_cfe, data_cm, data_nfe, data_nm]\n",
        "data = pd.concat(frame_data)\n",
        "data = data.sample(frac = 1, random_state=42)\n",
        "len(data)"
      ],
      "metadata": {
        "colab": {
          "base_uri": "https://localhost:8080/"
        },
        "id": "5PCghUk-_Usp",
        "outputId": "199f553c-f2ee-4149-d1fe-4b620c4da55e"
      },
      "execution_count": 5,
      "outputs": [
        {
          "output_type": "stream",
          "name": "stdout",
          "text": [
            "298 220\n",
            "298 220\n"
          ]
        },
        {
          "output_type": "execute_result",
          "data": {
            "text/plain": [
              "1036"
            ]
          },
          "metadata": {},
          "execution_count": 5
        }
      ]
    },
    {
      "cell_type": "code",
      "source": [
        "from sklearn.model_selection import train_test_split\n",
        "train_df, test_df = train_test_split(data, \n",
        "                                   test_size = 0.20, \n",
        "                                   random_state = 2023,\n",
        "                                   stratify = data[['Result']])"
      ],
      "metadata": {
        "id": "bLEnw2Tj--e_"
      },
      "execution_count": 6,
      "outputs": []
    },
    {
      "cell_type": "code",
      "source": [
        "# have a look at the proportion of gender in training data\n",
        "dat1 = train_df[(train_df[\"Patient Sex\"] == \"Female\") & (train_df[\"Result\"] == \"cataract\")]\n",
        "dat2 = train_df[(train_df[\"Patient Sex\"] == \"Male\") & (train_df[\"Result\"] == \"cataract\")]\n",
        "\n",
        "print(len(dat1), len(dat2))\n",
        "\n",
        "dat3 = train_df[(train_df[\"Patient Sex\"] == \"Female\") & (train_df[\"Result\"] == \"normal fundus\")]\n",
        "dat4 = train_df[(train_df[\"Patient Sex\"] == \"Male\") & (train_df[\"Result\"] == \"normal fundus\")]\n",
        "\n",
        "print(len(dat3), len(dat4))"
      ],
      "metadata": {
        "colab": {
          "base_uri": "https://localhost:8080/"
        },
        "id": "N64i8pmswlTZ",
        "outputId": "659bc133-0680-48ab-8bf7-54833b1f6cbb"
      },
      "execution_count": 7,
      "outputs": [
        {
          "output_type": "stream",
          "name": "stdout",
          "text": [
            "231 183\n",
            "241 173\n"
          ]
        }
      ]
    },
    {
      "cell_type": "code",
      "source": [
        "dat_cataract = train_df[(train_df[\"Result\"] == \"cataract\")]\n",
        "dat_normal = train_df[(train_df[\"Result\"] == \"normal fundus\")]\n",
        "frame_data = [dat_cataract, dat_normal]\n",
        "train_df = pd.concat(frame_data)\n",
        "print(len(train_df))"
      ],
      "metadata": {
        "colab": {
          "base_uri": "https://localhost:8080/"
        },
        "id": "vN1UXD7MC3zK",
        "outputId": "2a9006c5-f783-47c6-c686-4b7d17924f4b"
      },
      "execution_count": 110,
      "outputs": [
        {
          "output_type": "stream",
          "name": "stdout",
          "text": [
            "828\n"
          ]
        }
      ]
    },
    {
      "cell_type": "code",
      "source": [
        "train_df = train_df.reset_index(drop=True)"
      ],
      "metadata": {
        "id": "B7Itl0g_KcWR"
      },
      "execution_count": 112,
      "outputs": []
    },
    {
      "cell_type": "code",
      "source": [
        "train_df.index.values"
      ],
      "metadata": {
        "id": "MP00f00lLPTO"
      },
      "execution_count": null,
      "outputs": []
    },
    {
      "cell_type": "code",
      "source": [
        "# select the images (cataract & normal) for training\n",
        "train_cataract = train_df.loc[(train_df[\"Result\"] == \"cataract\")][\"Image\"].values\n",
        "train_normal = train_df.loc[(train_df[\"Result\"] == \"normal fundus\")][\"Image\"].values"
      ],
      "metadata": {
        "id": "vnZ06nGMAVGW"
      },
      "execution_count": 80,
      "outputs": []
    },
    {
      "cell_type": "code",
      "source": [
        "# select the images (cataract & normal) for testing\n",
        "test_cataract = test_df.loc[(test_df[\"Result\"] == \"cataract\")][\"Image\"].values\n",
        "test_normal = test_df.loc[(test_df[\"Result\"] == \"normal fundus\")][\"Image\"].values"
      ],
      "metadata": {
        "id": "Rzx_vfj9ReUk"
      },
      "execution_count": 81,
      "outputs": []
    },
    {
      "cell_type": "code",
      "source": [
        "import torch\n",
        "import torch.nn.functional as F \n",
        "import numpy as np\n",
        "import matplotlib.pyplot as plt\n",
        "import os\n",
        "from tqdm.notebook import tqdm\n",
        "from torch.utils.data import DataLoader\n",
        "REQUIRES_PYTHON = '>=3.5.0'\n",
        "VERSION = '0.1.0'\n",
        "from torch import optim, nn\n",
        "from torchvision import models, transforms"
      ],
      "metadata": {
        "id": "KTcH-y7GAnkD"
      },
      "execution_count": 10,
      "outputs": []
    },
    {
      "cell_type": "code",
      "source": [
        "data_path='/content/drive/MyDrive/preprocessed_images'\n",
        "device = torch.device(\"cuda\" if torch.cuda.is_available() else \"cpu\")\n",
        "print(\"On which device we are on:{}\".format(device))\n",
        "\n",
        "from google.colab import drive\n",
        "drive.mount('/content/drive')"
      ],
      "metadata": {
        "colab": {
          "base_uri": "https://localhost:8080/"
        },
        "id": "Hj_YopBriGhT",
        "outputId": "b22af037-70d2-4961-fd66-841e9e8e0312"
      },
      "execution_count": 11,
      "outputs": [
        {
          "output_type": "stream",
          "name": "stdout",
          "text": [
            "On which device we are on:cpu\n",
            "Mounted at /content/drive\n"
          ]
        }
      ]
    },
    {
      "cell_type": "code",
      "source": [
        "# create training dataset, with x=images, y =label(1 is cataract, 0 is normal)\n",
        "from pandas.core.common import random_state\n",
        "import cv2\n",
        "import glob\n",
        "from PIL import Image\n",
        "image_size=224\n",
        "labels = []\n",
        "dataset = []\n",
        "random.seed(2023)\n",
        "def create_dataset(image_category,label):\n",
        "    for img in tqdm(image_category):\n",
        "        image_path = os.path.join(data_path,img)\n",
        "        try:\n",
        "            image = cv2.imread(image_path,cv2.IMREAD_COLOR)\n",
        "            image = cv2.resize(image,(image_size,image_size))\n",
        "        except:\n",
        "            continue\n",
        "        \n",
        "        dataset.append([image,label])\n",
        "    return dataset\n",
        "\n",
        "dataset = create_dataset(train_cataract,1)\n",
        "\n",
        "dataset = create_dataset(train_normal,0)\n",
        "x = np.array([i[0] for i in dataset]).reshape(-1,image_size,image_size,3) #features\n",
        "y = np.array([i[1] for i in dataset]) #labels\n",
        "len(x)\n",
        "len(y)"
      ],
      "metadata": {
        "colab": {
          "base_uri": "https://localhost:8080/",
          "height": 99,
          "referenced_widgets": [
            "1bf848e17c8943718a7492117f087e64",
            "5e035875ae324615b406c2eb3b405bae",
            "57a239165d084153b66c544867838ab7",
            "f0682900af69456d861458dfbc5e818a",
            "cfd4bc15dbab4a619fecdfe81a4538e5",
            "b58c7982946649629fe9fdc9155c4874",
            "e2465b27f3874dabb6d89c42dd796507",
            "174e46f09e33461ab2c494f629955846",
            "abff5ed2f04b4953a132ae5965e9f654",
            "694d25bb853b4ca296d4dab1b8c1dba6",
            "9c9547944dea450da918f834224310b4",
            "4d2e799f5d44437dbf97845330d42883",
            "cd9766b301e847e9816d4d8fa2f2ea98",
            "72f597bde7fc4cf1b29f5d04bd4f1365",
            "77808b03d9d043acaa7f76693e51b0e6",
            "73e3c26b651648b2a717481d5c15803b",
            "43eb7454a6f34ebab20c04f6a9c4dc15",
            "c5154cbf82194136aaa5af4a68dd4730",
            "d8a2713ed6a5407e8bfcf408836ce932",
            "a5eb1df9e2f549f6b76565cb0213d4e5",
            "a5190ef889934e258c3f1e6ec7082e7d",
            "05670552455c4048ab2174ebe164d6fd"
          ]
        },
        "outputId": "c8519ca0-dfb7-4cb7-f07c-72460afffa20",
        "id": "62r1x2bc7hjY"
      },
      "execution_count": 82,
      "outputs": [
        {
          "output_type": "display_data",
          "data": {
            "text/plain": [
              "  0%|          | 0/414 [00:00<?, ?it/s]"
            ],
            "application/vnd.jupyter.widget-view+json": {
              "version_major": 2,
              "version_minor": 0,
              "model_id": "1bf848e17c8943718a7492117f087e64"
            }
          },
          "metadata": {}
        },
        {
          "output_type": "display_data",
          "data": {
            "text/plain": [
              "  0%|          | 0/414 [00:00<?, ?it/s]"
            ],
            "application/vnd.jupyter.widget-view+json": {
              "version_major": 2,
              "version_minor": 0,
              "model_id": "4d2e799f5d44437dbf97845330d42883"
            }
          },
          "metadata": {}
        },
        {
          "output_type": "execute_result",
          "data": {
            "text/plain": [
              "828"
            ]
          },
          "metadata": {},
          "execution_count": 82
        }
      ]
    },
    {
      "cell_type": "code",
      "source": [
        "# create testing dataset, with x=images, y =label(1 is cataract, 0 is normal)\n",
        "data_path='/content/drive/MyDrive/preprocessed_images'\n",
        "device = torch.device(\"cuda\" if torch.cuda.is_available() else \"cpu\")\n",
        "print(\"On which device we are on:{}\".format(device))\n",
        "\n",
        "from google.colab import drive\n",
        "drive.mount('/content/drive')\n",
        "\n",
        "from pandas.core.common import random_state\n",
        "import cv2\n",
        "import glob\n",
        "image_size=224\n",
        "labels = []\n",
        "dataset = []\n",
        "random.seed(1)\n",
        "def create_dataset(image_category,label):\n",
        "    for img in tqdm(image_category):\n",
        "        image_path = os.path.join(data_path,img)\n",
        "        try:\n",
        "            image = cv2.imread(image_path,cv2.IMREAD_COLOR)\n",
        "            image = cv2.resize(image,(image_size,image_size))\n",
        "        except:\n",
        "            continue\n",
        "        \n",
        "        dataset.append([np.array(image),np.array(label)])\n",
        "    random.shuffle(dataset)\n",
        "    return dataset\n",
        "\n",
        "dataset = create_dataset(test_cataract,1)\n",
        "\n",
        "dataset = create_dataset(test_normal,0)\n",
        "\n",
        "x_testall = np.array([i[0] for i in dataset]).reshape(-1,image_size,image_size,3) #features\n",
        "y_testall = np.array([i[1] for i in dataset]) #labels\n",
        "len(x_testall)\n",
        "len(y_testall)"
      ],
      "metadata": {
        "colab": {
          "base_uri": "https://localhost:8080/",
          "height": 135,
          "referenced_widgets": [
            "12698c9416b54d2d8ef8fba560675813",
            "fbdc80c97760459bbebb9242d8093fe5",
            "08e923a30c3946ecbf5e7b04a50f014a",
            "7b4d3b64897b45b98e30e1d9d2af281c",
            "31b15f775d9c4793824fdb868ebbaae4",
            "21dec6cd01084370981fdd3ae13dd96e",
            "2b6830855a294d8892c7fa061a7ffda8",
            "13f721b35d324d0c9d477b1212af30fb",
            "c26bdd7e64fa41e4882fb233ed0ba144",
            "f9c1e36a86d141719b81779662e28b2b",
            "d0e34d88d62b46a186035333003c8cec",
            "67cf87257a2846c48a5873237fa073e8",
            "b85a86ea9935478ea508149b1a542cdd",
            "4532741945c2494f943dc940852e7467",
            "7a96fda3d79343b0a2ba706d659f6a90",
            "0caa325ab0c046e69716d4a08f78b8c8",
            "768a49f6394043c186098da6268b256c",
            "da1abec23cd54ab9940c888cbc84984e",
            "cec6c4c9beca417aa9cb5497ef484df5",
            "df090428502d4c65880fdc9221c86e41",
            "dacf853432d443498fcd5016f309142b",
            "fd49ed4a65be4371b1492aa519380644"
          ]
        },
        "outputId": "5ef2674b-eb05-42b8-e3a4-3a6f6441b3d6",
        "id": "bJqy89YQRlZ5"
      },
      "execution_count": 13,
      "outputs": [
        {
          "output_type": "stream",
          "name": "stdout",
          "text": [
            "On which device we are on:cpu\n",
            "Drive already mounted at /content/drive; to attempt to forcibly remount, call drive.mount(\"/content/drive\", force_remount=True).\n"
          ]
        },
        {
          "output_type": "display_data",
          "data": {
            "text/plain": [
              "  0%|          | 0/104 [00:00<?, ?it/s]"
            ],
            "application/vnd.jupyter.widget-view+json": {
              "version_major": 2,
              "version_minor": 0,
              "model_id": "12698c9416b54d2d8ef8fba560675813"
            }
          },
          "metadata": {}
        },
        {
          "output_type": "display_data",
          "data": {
            "text/plain": [
              "  0%|          | 0/104 [00:00<?, ?it/s]"
            ],
            "application/vnd.jupyter.widget-view+json": {
              "version_major": 2,
              "version_minor": 0,
              "model_id": "67cf87257a2846c48a5873237fa073e8"
            }
          },
          "metadata": {}
        },
        {
          "output_type": "execute_result",
          "data": {
            "text/plain": [
              "208"
            ]
          },
          "metadata": {},
          "execution_count": 13
        }
      ]
    },
    {
      "cell_type": "code",
      "source": [
        "# Import base model efficientNetB0 for feature extraction\n",
        "import numpy as np\n",
        "from keras.layers import Dense, Flatten\n",
        "from keras.models import Model\n",
        "from keras.applications.imagenet_utils import preprocess_input\n",
        "from keras.applications import EfficientNetB0\n",
        "from keras.optimizers import Adam\n",
        "from keras.utils import np_utils\n"
      ],
      "metadata": {
        "id": "4HUTGgmSapMt"
      },
      "execution_count": 84,
      "outputs": []
    },
    {
      "cell_type": "code",
      "source": [
        "# Fit the basemodel EfficientNet\n",
        "from keras.applications.efficientnet import EfficientNetB0\n",
        "efficientnet = EfficientNetB0(weights='imagenet', include_top=False, input_shape=(image_size, image_size, 3))\n",
        "\n",
        "for layer in efficientnet.layers:\n",
        "    layer.trainable = False\n",
        "\n",
        "import tensorflow as tf\n",
        "from keras.models import Sequential\n",
        "from keras.layers import Flatten, Dense\n",
        "\n",
        "model = Sequential()\n",
        "model.add(efficientnet)\n",
        "model.add(Flatten())\n",
        "model.add(Dense(1,activation=\"sigmoid\"))\n",
        "model.compile(optimizer=\"adam\",loss=\"binary_crossentropy\",metrics=[\"accuracy\"])\n",
        "\n",
        "from keras.callbacks import ModelCheckpoint, EarlyStopping\n",
        "checkpoint = ModelCheckpoint(\"baseline_efficientnet.h5\", monitor=\"val_loss\", verbose=1, save_best_only=True, mode='min')\n",
        "earlystop = EarlyStopping(monitor=\"val_loss\", patience=5, verbose=1, mode='auto', restore_best_weights=True)\n",
        "\n",
        "history = model.fit(x, y, batch_size=8, epochs=10, validation_data=(x_testall, y_testall), verbose=1, callbacks=[checkpoint, earlystop])"
      ],
      "metadata": {
        "colab": {
          "base_uri": "https://localhost:8080/"
        },
        "id": "9O1EPiUXTnG_",
        "outputId": "8478396d-c6fe-45bd-ab83-1fc9ff329238"
      },
      "execution_count": 139,
      "outputs": [
        {
          "output_type": "stream",
          "name": "stdout",
          "text": [
            "Epoch 1/10\n",
            "104/104 [==============================] - ETA: 0s - loss: 0.4989 - accuracy: 0.9275\n",
            "Epoch 1: val_loss improved from inf to 0.45825, saving model to baseline_efficientnet.h5\n",
            "104/104 [==============================] - 72s 605ms/step - loss: 0.4989 - accuracy: 0.9275 - val_loss: 0.4582 - val_accuracy: 0.9375\n",
            "Epoch 2/10\n",
            "104/104 [==============================] - ETA: 0s - loss: 0.4019 - accuracy: 0.9384\n",
            "Epoch 2: val_loss did not improve from 0.45825\n",
            "104/104 [==============================] - 58s 560ms/step - loss: 0.4019 - accuracy: 0.9384 - val_loss: 0.6743 - val_accuracy: 0.9615\n",
            "Epoch 3/10\n",
            "104/104 [==============================] - ETA: 0s - loss: 0.1760 - accuracy: 0.9758\n",
            "Epoch 3: val_loss did not improve from 0.45825\n",
            "104/104 [==============================] - 57s 545ms/step - loss: 0.1760 - accuracy: 0.9758 - val_loss: 0.5590 - val_accuracy: 0.9471\n",
            "Epoch 4/10\n",
            "104/104 [==============================] - ETA: 0s - loss: 0.0377 - accuracy: 0.9903\n",
            "Epoch 4: val_loss improved from 0.45825 to 0.45083, saving model to baseline_efficientnet.h5\n",
            "104/104 [==============================] - 57s 549ms/step - loss: 0.0377 - accuracy: 0.9903 - val_loss: 0.4508 - val_accuracy: 0.9663\n",
            "Epoch 5/10\n",
            "104/104 [==============================] - ETA: 0s - loss: 0.0609 - accuracy: 0.9867\n",
            "Epoch 5: val_loss did not improve from 0.45083\n",
            "104/104 [==============================] - 58s 564ms/step - loss: 0.0609 - accuracy: 0.9867 - val_loss: 0.4878 - val_accuracy: 0.9615\n",
            "Epoch 6/10\n",
            "104/104 [==============================] - ETA: 0s - loss: 0.0507 - accuracy: 0.9879\n",
            "Epoch 6: val_loss improved from 0.45083 to 0.36060, saving model to baseline_efficientnet.h5\n",
            "104/104 [==============================] - 58s 562ms/step - loss: 0.0507 - accuracy: 0.9879 - val_loss: 0.3606 - val_accuracy: 0.9760\n",
            "Epoch 7/10\n",
            "104/104 [==============================] - ETA: 0s - loss: 0.0747 - accuracy: 0.9843\n",
            "Epoch 7: val_loss improved from 0.36060 to 0.34492, saving model to baseline_efficientnet.h5\n",
            "104/104 [==============================] - 58s 558ms/step - loss: 0.0747 - accuracy: 0.9843 - val_loss: 0.3449 - val_accuracy: 0.9760\n",
            "Epoch 8/10\n",
            "104/104 [==============================] - ETA: 0s - loss: 0.0490 - accuracy: 0.9879\n",
            "Epoch 8: val_loss did not improve from 0.34492\n",
            "104/104 [==============================] - 59s 569ms/step - loss: 0.0490 - accuracy: 0.9879 - val_loss: 0.4312 - val_accuracy: 0.9712\n",
            "Epoch 9/10\n",
            "104/104 [==============================] - ETA: 0s - loss: 0.0366 - accuracy: 0.9915\n",
            "Epoch 9: val_loss did not improve from 0.34492\n",
            "104/104 [==============================] - 57s 548ms/step - loss: 0.0366 - accuracy: 0.9915 - val_loss: 1.0644 - val_accuracy: 0.8942\n",
            "Epoch 10/10\n",
            "104/104 [==============================] - ETA: 0s - loss: 0.0833 - accuracy: 0.9891\n",
            "Epoch 10: val_loss did not improve from 0.34492\n",
            "104/104 [==============================] - 56s 541ms/step - loss: 0.0833 - accuracy: 0.9891 - val_loss: 0.4850 - val_accuracy: 0.9663\n"
          ]
        }
      ]
    },
    {
      "cell_type": "code",
      "source": [
        "testing_accuracy = history.history['val_accuracy'][-1]\n",
        "print(\"Testing accuracy: {:.4f}\".format(testing_accuracy))"
      ],
      "metadata": {
        "colab": {
          "base_uri": "https://localhost:8080/"
        },
        "id": "Mh1Djo_SWZ72",
        "outputId": "27e79747-8fc1-4913-d094-344a253ff792"
      },
      "execution_count": 140,
      "outputs": [
        {
          "output_type": "stream",
          "name": "stdout",
          "text": [
            "Testing accuracy: 0.9663\n"
          ]
        }
      ]
    },
    {
      "cell_type": "code",
      "source": [
        "import pandas as pd\n",
        "\n",
        "features = efficientnet.predict(x)\n",
        "#features_df = pd.DataFrame(features.reshape(-1, features.shape[-1]))\n",
        "features_df = pd.DataFrame(features.reshape(features.shape[0], -1))\n",
        "features_df.to_csv('features.csv', index=False)"
      ],
      "metadata": {
        "colab": {
          "base_uri": "https://localhost:8080/"
        },
        "id": "Ed4ViD-HT9Lt",
        "outputId": "a3d45583-e3fe-47ae-ab86-636454358b0a"
      },
      "execution_count": 141,
      "outputs": [
        {
          "output_type": "stream",
          "name": "stdout",
          "text": [
            "26/26 [==============================] - 46s 2s/step\n"
          ]
        }
      ]
    },
    {
      "cell_type": "code",
      "source": [
        "features_df = pd.DataFrame(features.reshape(features.shape[0], -1))"
      ],
      "metadata": {
        "id": "6hxx_jbyZBz5"
      },
      "execution_count": 148,
      "outputs": []
    },
    {
      "cell_type": "code",
      "source": [
        "len(features_df)"
      ],
      "metadata": {
        "colab": {
          "base_uri": "https://localhost:8080/"
        },
        "id": "IFIezR_LZEyX",
        "outputId": "702a2861-0fcb-4367-de48-8d9e754b4914"
      },
      "execution_count": 149,
      "outputs": [
        {
          "output_type": "execute_result",
          "data": {
            "text/plain": [
              "828"
            ]
          },
          "metadata": {},
          "execution_count": 149
        }
      ]
    },
    {
      "cell_type": "code",
      "source": [
        "#from google.colab import files\n",
        "#features_df.to_csv('features.csv', index=False)\n",
        "#files.download('features.csv')"
      ],
      "metadata": {
        "id": "DBvRbAf5XFv1"
      },
      "execution_count": null,
      "outputs": []
    },
    {
      "cell_type": "code",
      "source": [
        "#features_df = pd.read_csv('features.csv')\n",
        "\n",
        "import pandas as pd\n",
        "import matplotlib.pyplot as plt\n",
        "from sklearn.cluster import KMeans\n",
        "from sklearn.decomposition import PCA\n",
        "from sklearn.preprocessing import StandardScaler\n",
        "%config InlineBackend.figure_format='retina'\n",
        "X_std = StandardScaler().fit_transform(features_df)\n",
        "pca = PCA(n_components=0.85)\n",
        "principalComponents = pca.fit_transform(X_std)\n",
        "print(principalComponents.shape)"
      ],
      "metadata": {
        "colab": {
          "base_uri": "https://localhost:8080/"
        },
        "id": "lKJYuP0FXBFP",
        "outputId": "29c242e6-b8c0-4d72-d788-37f4ccfb1b94"
      },
      "execution_count": 151,
      "outputs": [
        {
          "output_type": "stream",
          "name": "stdout",
          "text": [
            "(828, 241)\n"
          ]
        }
      ]
    },
    {
      "cell_type": "code",
      "source": [
        "# highest silhouette score occurs when n_clusters = 4, elbow occurs when n_clusters = 4\n",
        "import numpy as np\n",
        "import matplotlib.pyplot as plt\n",
        "from sklearn.cluster import KMeans\n",
        "from sklearn.metrics import silhouette_score\n",
        "\n",
        "X = principalComponents\n",
        "range_n_clusters = [2, 3, 4, 5, 6, 7, 8, 9, 10]\n",
        "\n",
        "for n_clusters in range_n_clusters:\n",
        "    # Initialize KMeans model\n",
        "    kmeans = KMeans(n_clusters=n_clusters, random_state=0)\n",
        "    cluster_labels = kmeans.fit_predict(X)\n",
        "\n",
        "    # Calculate the silhouette score\n",
        "    silhouette_avg = silhouette_score(X, cluster_labels)\n",
        "    print(\"For n_clusters =\", n_clusters, \"The average silhouette_score is :\", silhouette_avg)\n",
        "\n",
        "# Elbow Method\n",
        "SSE = []\n",
        "for cluster in range(1, 20):\n",
        "    kmeans = KMeans(n_clusters = cluster, init='k-means++')\n",
        "    kmeans.fit(X)\n",
        "    SSE.append(kmeans.inertia_)\n",
        "\n",
        "# Convert the results into a dataframe and plotting them\n",
        "frame = pd.DataFrame({'Cluster':range(1,20), 'SSE':SSE})\n",
        "plt.figure(figsize=(12,6))\n",
        "plt.plot(frame['Cluster'], frame['SSE'], marker='o')\n",
        "plt.xlabel('Number of clusters')\n",
        "plt.ylabel('Inertia')\n"
      ],
      "metadata": {
        "id": "F6kSdSpAZZp-"
      },
      "execution_count": null,
      "outputs": []
    },
    {
      "cell_type": "code",
      "source": [
        "kmeans = KMeans(n_clusters=4, random_state=0)\n",
        "cluster_labels = kmeans.fit_predict(X)"
      ],
      "metadata": {
        "id": "s-i5mMONavmQ"
      },
      "execution_count": 155,
      "outputs": []
    },
    {
      "cell_type": "code",
      "source": [
        "cluster1_features = X[labels == 0]\n",
        "cluster2_features = X[labels == 1]\n",
        "cluster3_features = X[labels == 2]\n",
        "cluster4_features = X[labels == 3]\n",
        "print(cluster1_features.shape)\n",
        "print(cluster2_features.shape)\n",
        "print(cluster3_features.shape)\n",
        "print(cluster4_features.shape)"
      ],
      "metadata": {
        "colab": {
          "base_uri": "https://localhost:8080/"
        },
        "id": "QHhDz-eKa_zB",
        "outputId": "82ca1711-4044-46cb-bb6d-48c9494f752c"
      },
      "execution_count": 156,
      "outputs": [
        {
          "output_type": "stream",
          "name": "stdout",
          "text": [
            "(212, 241)\n",
            "(276, 241)\n",
            "(84, 241)\n",
            "(256, 241)\n"
          ]
        }
      ]
    },
    {
      "cell_type": "markdown",
      "source": [],
      "metadata": {
        "id": "B-4V02HUjcWR"
      }
    },
    {
      "cell_type": "code",
      "source": [
        "X = pd.DataFrame(X)\n",
        "\n",
        "cluster_map = pd.DataFrame()\n",
        "cluster_map['data_index'] = X.index.values\n",
        "cluster_map['cluster'] = labels\n",
        "c0 = cluster_map[cluster_map.cluster == 0]\n",
        "len(c0)\n",
        "y0 = np.array([y[i] for i in c0.data_index])"
      ],
      "metadata": {
        "id": "VaoKuVxg5805"
      },
      "execution_count": 157,
      "outputs": []
    },
    {
      "cell_type": "code",
      "source": [
        "c1 = cluster_map[cluster_map.cluster == 1]\n",
        "y1 = np.array([y[i] for i in c1.data_index])\n",
        "len(y1)"
      ],
      "metadata": {
        "colab": {
          "base_uri": "https://localhost:8080/"
        },
        "id": "PydLwz2tflzl",
        "outputId": "d8dd3b63-95fb-4a17-b1c4-12c55ea01b4c"
      },
      "execution_count": 163,
      "outputs": [
        {
          "output_type": "execute_result",
          "data": {
            "text/plain": [
              "276"
            ]
          },
          "metadata": {},
          "execution_count": 163
        }
      ]
    },
    {
      "cell_type": "code",
      "source": [
        "c2 = cluster_map[cluster_map.cluster == 2]\n",
        "y2 = np.array([y[i] for i in c2.data_index])\n",
        "len(y2)"
      ],
      "metadata": {
        "colab": {
          "base_uri": "https://localhost:8080/"
        },
        "id": "yQT7DfqSg1z5",
        "outputId": "0e3b753f-d6b6-4824-a686-e9b2bc0f1443"
      },
      "execution_count": 168,
      "outputs": [
        {
          "output_type": "execute_result",
          "data": {
            "text/plain": [
              "84"
            ]
          },
          "metadata": {},
          "execution_count": 168
        }
      ]
    },
    {
      "cell_type": "code",
      "source": [
        "c3 = cluster_map[cluster_map.cluster == 3]\n",
        "y3 = np.array([y[i] for i in c3.data_index])\n",
        "len(y3)"
      ],
      "metadata": {
        "colab": {
          "base_uri": "https://localhost:8080/"
        },
        "id": "ONOzwAU0iZhW",
        "outputId": "1fb77ea1-0b60-4e1f-ebab-7eecf16a08c6"
      },
      "execution_count": 171,
      "outputs": [
        {
          "output_type": "execute_result",
          "data": {
            "text/plain": [
              "256"
            ]
          },
          "metadata": {},
          "execution_count": 171
        }
      ]
    },
    {
      "cell_type": "code",
      "source": [
        "c0_df = train_df.loc[c0.data_index]\n",
        "c1_df = train_df.loc[c1.data_index]\n",
        "c2_df = train_df.loc[c2.data_index]\n",
        "c3_df = train_df.loc[c3.data_index]"
      ],
      "metadata": {
        "id": "6EwVZKxqDfWo"
      },
      "execution_count": 172,
      "outputs": []
    },
    {
      "cell_type": "code",
      "source": [
        "num_females = (c0_df['Patient Sex'] == 'Female').sum() \n",
        "print(num_females)\n",
        "num_males = (c0_df['Patient Sex'] == 'Male').sum()\n",
        "print(num_males)\n",
        "num_cataract = (c0_df['Result'] == 'cataract').sum()\n",
        "num_normal = (c0_df['Result'] == 'normal fundus').sum()\n",
        "print(num_cataract)\n",
        "print(num_normal)\n",
        "num_over50 = (c0_df['Patient Age'] >= 50).sum()\n",
        "print(num_over50)\n",
        "num_less50 = (c0_df['Patient Age'] < 50).sum()\n",
        "print(num_less50)"
      ],
      "metadata": {
        "colab": {
          "base_uri": "https://localhost:8080/"
        },
        "id": "eAikcJKWLpPE",
        "outputId": "d4fc88d3-eca4-4c68-be8c-637b66c92ebc"
      },
      "execution_count": 161,
      "outputs": [
        {
          "output_type": "stream",
          "name": "stdout",
          "text": [
            "125\n",
            "87\n",
            "81\n",
            "131\n",
            "177\n",
            "35\n"
          ]
        }
      ]
    },
    {
      "cell_type": "markdown",
      "source": [
        "The distribution in the cluster1:\n",
        "Female vs. Male = 125:87 \\\\\n",
        "Cataract vs. Normal = 81:131 \\\\\n",
        "Patient Age >= 50 vs. Patient Age < 50 = 177:35"
      ],
      "metadata": {
        "id": "DDmvI1m2gGux"
      }
    },
    {
      "cell_type": "code",
      "source": [
        "num_females = (c1_df['Patient Sex'] == 'Female').sum()\n",
        "print(num_females)\n",
        "num_males = (c1_df['Patient Sex'] == 'Male').sum()\n",
        "print(num_males)\n",
        "num_cataract = (c1_df['Result'] == 'cataract').sum()\n",
        "num_normal = (c1_df['Result'] == 'normal fundus').sum()\n",
        "print(num_cataract)\n",
        "print(num_normal)\n",
        "num_over50 = (c1_df['Patient Age'] >= 50).sum()\n",
        "print(num_over50)\n",
        "num_less50 = (c1_df['Patient Age'] < 50).sum()\n",
        "print(num_less50)"
      ],
      "metadata": {
        "colab": {
          "base_uri": "https://localhost:8080/"
        },
        "id": "XFQxQtXef6hs",
        "outputId": "5daf1871-2d03-4928-feb5-c7d1791f9fa4"
      },
      "execution_count": 167,
      "outputs": [
        {
          "output_type": "stream",
          "name": "stdout",
          "text": [
            "160\n",
            "116\n",
            "261\n",
            "15\n",
            "256\n",
            "20\n"
          ]
        }
      ]
    },
    {
      "cell_type": "markdown",
      "source": [
        "The distribution in the cluster2:\n",
        "Female vs. Male = 160:116 \\\\\n",
        "Cataract vs. Normal = 261:15 \\\\\n",
        "Patient Age >= 50 vs. Patient Age < 50 = 256:20"
      ],
      "metadata": {
        "id": "wH8u7-HdgqOR"
      }
    },
    {
      "cell_type": "code",
      "source": [
        "num_females = (c2_df['Patient Sex'] == 'Female').sum()\n",
        "print(num_females)\n",
        "num_males = (c2_df['Patient Sex'] == 'Male').sum()\n",
        "print(num_males)\n",
        "num_cataract = (c2_df['Result'] == 'cataract').sum()\n",
        "num_normal = (c2_df['Result'] == 'normal fundus').sum()\n",
        "print(num_cataract)\n",
        "print(num_normal)\n",
        "num_over50 = (c2_df['Patient Age'] >= 50).sum()\n",
        "print(num_over50)\n",
        "num_less50 = (c2_df['Patient Age'] < 50).sum()\n",
        "print(num_less50)"
      ],
      "metadata": {
        "colab": {
          "base_uri": "https://localhost:8080/"
        },
        "id": "WsTTAZVnhBdv",
        "outputId": "602ec275-7f78-49a5-c802-36e804bd494d"
      },
      "execution_count": 170,
      "outputs": [
        {
          "output_type": "stream",
          "name": "stdout",
          "text": [
            "45\n",
            "39\n",
            "61\n",
            "23\n",
            "74\n",
            "10\n"
          ]
        }
      ]
    },
    {
      "cell_type": "markdown",
      "source": [
        "The distribution in the cluster3:\n",
        "Female vs. Male = 45:39 \\\\\n",
        "Cataract vs. Normal = 61:23 \\\\\n",
        "Patient Age >= 50 vs. Patient Age < 50 = 74:10"
      ],
      "metadata": {
        "id": "kq1m5mQchGRP"
      }
    },
    {
      "cell_type": "code",
      "source": [
        "num_females = (c3_df['Patient Sex'] == 'Female').sum()\n",
        "print(num_females)\n",
        "num_males = (c3_df['Patient Sex'] == 'Male').sum()\n",
        "print(num_males)\n",
        "num_cataract = (c3_df['Result'] == 'cataract').sum()\n",
        "num_normal = (c3_df['Result'] == 'normal fundus').sum()\n",
        "print(num_cataract)\n",
        "print(num_normal)\n",
        "num_over50 = (c3_df['Patient Age'] >= 50).sum()\n",
        "print(num_over50)\n",
        "num_less50 = (c3_df['Patient Age'] < 50).sum()\n",
        "print(num_less50)"
      ],
      "metadata": {
        "colab": {
          "base_uri": "https://localhost:8080/"
        },
        "id": "NfIPE00uirhU",
        "outputId": "1317d2e9-d4cd-4bab-898d-6af4501aca00"
      },
      "execution_count": 173,
      "outputs": [
        {
          "output_type": "stream",
          "name": "stdout",
          "text": [
            "142\n",
            "114\n",
            "11\n",
            "245\n",
            "216\n",
            "40\n"
          ]
        }
      ]
    },
    {
      "cell_type": "markdown",
      "source": [
        "The distribution in cluster4:\n",
        "Female vs. Male = 142:114 \\\\\n",
        "Cataract vs. Normal = 11:245 \\\\\n",
        "Patient Age >= 50 vs. Patient Age < 50 = 216:40"
      ],
      "metadata": {
        "id": "BfDnIL00iyrH"
      }
    },
    {
      "cell_type": "code",
      "source": [
        "x0 = np.array([x[i] for i in c0.data_index])\n",
        "y0 = np.array([y[i] for i in c0.data_index])\n",
        "x0.shape"
      ],
      "metadata": {
        "colab": {
          "base_uri": "https://localhost:8080/"
        },
        "id": "IWbMgI8ckgg9",
        "outputId": "b6b29db5-7d5f-4853-ba4c-d10db114b68a"
      },
      "execution_count": 174,
      "outputs": [
        {
          "output_type": "execute_result",
          "data": {
            "text/plain": [
              "(212, 224, 224, 3)"
            ]
          },
          "metadata": {},
          "execution_count": 174
        }
      ]
    },
    {
      "cell_type": "code",
      "source": [
        "x1 = np.array([x[i] for i in c1.data_index])\n",
        "y1 = np.array([y[i] for i in c1.data_index])\n",
        "x1.shape"
      ],
      "metadata": {
        "colab": {
          "base_uri": "https://localhost:8080/"
        },
        "id": "iDp90SO7kljo",
        "outputId": "dce879c8-ae62-4b9b-adb4-f09c240bf526"
      },
      "execution_count": 175,
      "outputs": [
        {
          "output_type": "execute_result",
          "data": {
            "text/plain": [
              "(276, 224, 224, 3)"
            ]
          },
          "metadata": {},
          "execution_count": 175
        }
      ]
    },
    {
      "cell_type": "code",
      "source": [
        "x2 = np.array([x[i] for i in c2.data_index])\n",
        "y2 = np.array([y[i] for i in c2.data_index])\n",
        "x2.shape"
      ],
      "metadata": {
        "colab": {
          "base_uri": "https://localhost:8080/"
        },
        "id": "7hb1Ty14krF8",
        "outputId": "80da8e0d-b424-4b2f-9001-67f515b8e857"
      },
      "execution_count": 176,
      "outputs": [
        {
          "output_type": "execute_result",
          "data": {
            "text/plain": [
              "(84, 224, 224, 3)"
            ]
          },
          "metadata": {},
          "execution_count": 176
        }
      ]
    },
    {
      "cell_type": "code",
      "source": [
        "x3 = np.array([x[i] for i in c3.data_index])\n",
        "y3 = np.array([y[i] for i in c3.data_index])\n",
        "x3.shape"
      ],
      "metadata": {
        "colab": {
          "base_uri": "https://localhost:8080/"
        },
        "id": "tXQn0xOjkwBr",
        "outputId": "61ff330c-e80e-4d7b-af62-4627a4217ebd"
      },
      "execution_count": 177,
      "outputs": [
        {
          "output_type": "execute_result",
          "data": {
            "text/plain": [
              "(256, 224, 224, 3)"
            ]
          },
          "metadata": {},
          "execution_count": 177
        }
      ]
    },
    {
      "cell_type": "code",
      "source": [
        "from keras.applications.efficientnet import EfficientNetB0\n",
        "efficientnet = EfficientNetB0(weights='imagenet', include_top=False, input_shape=(image_size, image_size, 3))\n",
        "\n",
        "for layer in efficientnet.layers:\n",
        "    layer.trainable = False\n",
        "\n",
        "import tensorflow as tf\n",
        "from keras.models import Sequential\n",
        "from keras.layers import Flatten, Dense\n",
        "\n",
        "model = Sequential()\n",
        "model.add(efficientnet)\n",
        "model.add(Flatten())\n",
        "model.add(Dense(1,activation=\"sigmoid\"))\n",
        "model.compile(optimizer=\"adam\",loss=\"binary_crossentropy\",metrics=[\"accuracy\"])\n",
        "\n",
        "from keras.callbacks import ModelCheckpoint, EarlyStopping\n",
        "checkpoint = ModelCheckpoint(\"c0_efficientnet.h5\", monitor=\"val_loss\", verbose=1, save_best_only=True, mode='min')\n",
        "earlystop = EarlyStopping(monitor=\"val_loss\", patience=5, verbose=1, mode='auto', restore_best_weights=True)\n",
        "\n",
        "history = model.fit(x0, y0, batch_size=8, epochs=10, validation_data=(x_testall, y_testall), verbose=1, callbacks=[checkpoint, earlystop])"
      ],
      "metadata": {
        "colab": {
          "base_uri": "https://localhost:8080/"
        },
        "id": "EO6EeUc9j8Fn",
        "outputId": "f1ab6094-1bcb-4798-8e26-5063e75317f9"
      },
      "execution_count": 178,
      "outputs": [
        {
          "output_type": "stream",
          "name": "stdout",
          "text": [
            "Epoch 1/10\n",
            "27/27 [==============================] - ETA: 0s - loss: 1.4722 - accuracy: 0.8160\n",
            "Epoch 1: val_loss improved from inf to 1.51914, saving model to baseline_efficientnet.h5\n",
            "27/27 [==============================] - 35s 941ms/step - loss: 1.4722 - accuracy: 0.8160 - val_loss: 1.5191 - val_accuracy: 0.8942\n",
            "Epoch 2/10\n",
            "27/27 [==============================] - ETA: 0s - loss: 0.7861 - accuracy: 0.9245\n",
            "Epoch 2: val_loss improved from 1.51914 to 0.76412, saving model to baseline_efficientnet.h5\n",
            "27/27 [==============================] - 23s 859ms/step - loss: 0.7861 - accuracy: 0.9245 - val_loss: 0.7641 - val_accuracy: 0.9423\n",
            "Epoch 3/10\n",
            "27/27 [==============================] - ETA: 0s - loss: 0.2342 - accuracy: 0.9575\n",
            "Epoch 3: val_loss improved from 0.76412 to 0.53012, saving model to baseline_efficientnet.h5\n",
            "27/27 [==============================] - 23s 882ms/step - loss: 0.2342 - accuracy: 0.9575 - val_loss: 0.5301 - val_accuracy: 0.9519\n",
            "Epoch 4/10\n",
            "27/27 [==============================] - ETA: 0s - loss: 0.0275 - accuracy: 0.9858\n",
            "Epoch 4: val_loss did not improve from 0.53012\n",
            "27/27 [==============================] - 25s 941ms/step - loss: 0.0275 - accuracy: 0.9858 - val_loss: 0.6214 - val_accuracy: 0.9423\n",
            "Epoch 5/10\n",
            "27/27 [==============================] - ETA: 0s - loss: 0.0308 - accuracy: 0.9858\n",
            "Epoch 5: val_loss improved from 0.53012 to 0.52355, saving model to baseline_efficientnet.h5\n",
            "27/27 [==============================] - 23s 866ms/step - loss: 0.0308 - accuracy: 0.9858 - val_loss: 0.5236 - val_accuracy: 0.9567\n",
            "Epoch 6/10\n",
            "27/27 [==============================] - ETA: 0s - loss: 8.8664e-04 - accuracy: 1.0000\n",
            "Epoch 6: val_loss improved from 0.52355 to 0.50312, saving model to baseline_efficientnet.h5\n",
            "27/27 [==============================] - 23s 855ms/step - loss: 8.8664e-04 - accuracy: 1.0000 - val_loss: 0.5031 - val_accuracy: 0.9567\n",
            "Epoch 7/10\n",
            "27/27 [==============================] - ETA: 0s - loss: 0.0087 - accuracy: 0.9953\n",
            "Epoch 7: val_loss did not improve from 0.50312\n",
            "27/27 [==============================] - 23s 867ms/step - loss: 0.0087 - accuracy: 0.9953 - val_loss: 0.5225 - val_accuracy: 0.9567\n",
            "Epoch 8/10\n",
            "27/27 [==============================] - ETA: 0s - loss: 0.0034 - accuracy: 1.0000\n",
            "Epoch 8: val_loss did not improve from 0.50312\n",
            "27/27 [==============================] - 23s 854ms/step - loss: 0.0034 - accuracy: 1.0000 - val_loss: 0.5365 - val_accuracy: 0.9615\n",
            "Epoch 9/10\n",
            "27/27 [==============================] - ETA: 0s - loss: 0.0752 - accuracy: 0.9717\n",
            "Epoch 9: val_loss did not improve from 0.50312\n",
            "27/27 [==============================] - 23s 870ms/step - loss: 0.0752 - accuracy: 0.9717 - val_loss: 0.6428 - val_accuracy: 0.9183\n",
            "Epoch 10/10\n",
            "27/27 [==============================] - ETA: 0s - loss: 0.1780 - accuracy: 0.9481\n",
            "Epoch 10: val_loss did not improve from 0.50312\n",
            "27/27 [==============================] - 23s 885ms/step - loss: 0.1780 - accuracy: 0.9481 - val_loss: 0.7197 - val_accuracy: 0.9615\n"
          ]
        }
      ]
    },
    {
      "cell_type": "code",
      "source": [
        "test_loss, test_acc = model.evaluate(x_testall, y_testall)"
      ],
      "metadata": {
        "colab": {
          "base_uri": "https://localhost:8080/"
        },
        "id": "nr8xglPQmBcw",
        "outputId": "de1f5e09-c90e-4edb-bd01-2918ab7a2fe4"
      },
      "execution_count": 179,
      "outputs": [
        {
          "output_type": "stream",
          "name": "stdout",
          "text": [
            "7/7 [==============================] - 13s 2s/step - loss: 0.7197 - accuracy: 0.9615\n"
          ]
        }
      ]
    },
    {
      "cell_type": "markdown",
      "source": [
        "Testing accuracy of Cluster1: 0.9615"
      ],
      "metadata": {
        "id": "ur9ZPBDOmO_Y"
      }
    },
    {
      "cell_type": "code",
      "source": [
        "from keras.applications.efficientnet import EfficientNetB0\n",
        "efficientnet = EfficientNetB0(weights='imagenet', include_top=False, input_shape=(image_size, image_size, 3))\n",
        "\n",
        "for layer in efficientnet.layers:\n",
        "    layer.trainable = False\n",
        "\n",
        "import tensorflow as tf\n",
        "from keras.models import Sequential\n",
        "from keras.layers import Flatten, Dense\n",
        "\n",
        "model = Sequential()\n",
        "model.add(efficientnet)\n",
        "model.add(Flatten())\n",
        "model.add(Dense(1,activation=\"sigmoid\"))\n",
        "model.compile(optimizer=\"adam\",loss=\"binary_crossentropy\",metrics=[\"accuracy\"])\n",
        "\n",
        "from keras.callbacks import ModelCheckpoint, EarlyStopping\n",
        "checkpoint = ModelCheckpoint(\"c1_efficientnet.h5\", monitor=\"val_loss\", verbose=1, save_best_only=True, mode='min')\n",
        "earlystop = EarlyStopping(monitor=\"val_loss\", patience=5, verbose=1, mode='auto', restore_best_weights=True)\n",
        "\n",
        "history = model.fit(x1, y1, batch_size=8, epochs=10, validation_data=(x_testall, y_testall), verbose=1, callbacks=[checkpoint, earlystop])"
      ],
      "metadata": {
        "colab": {
          "base_uri": "https://localhost:8080/"
        },
        "id": "6FNce9FNmwSp",
        "outputId": "6461cf84-bb63-45a9-8ecc-c68461c293d1"
      },
      "execution_count": 180,
      "outputs": [
        {
          "output_type": "stream",
          "name": "stdout",
          "text": [
            "Epoch 1/10\n",
            "35/35 [==============================] - ETA: 0s - loss: 1.0402 - accuracy: 0.9022\n",
            "Epoch 1: val_loss improved from inf to 0.73691, saving model to c1_efficientnet.h5\n",
            "35/35 [==============================] - 37s 827ms/step - loss: 1.0402 - accuracy: 0.9022 - val_loss: 0.7369 - val_accuracy: 0.9135\n",
            "Epoch 2/10\n",
            "35/35 [==============================] - ETA: 0s - loss: 0.1920 - accuracy: 0.9783\n",
            "Epoch 2: val_loss did not improve from 0.73691\n",
            "35/35 [==============================] - 26s 751ms/step - loss: 0.1920 - accuracy: 0.9783 - val_loss: 0.8209 - val_accuracy: 0.9231\n",
            "Epoch 3/10\n",
            "35/35 [==============================] - ETA: 0s - loss: 0.1224 - accuracy: 0.9710\n",
            "Epoch 3: val_loss did not improve from 0.73691\n",
            "35/35 [==============================] - 29s 829ms/step - loss: 0.1224 - accuracy: 0.9710 - val_loss: 1.7341 - val_accuracy: 0.6875\n",
            "Epoch 4/10\n",
            "35/35 [==============================] - ETA: 0s - loss: 0.0246 - accuracy: 0.9928\n",
            "Epoch 4: val_loss did not improve from 0.73691\n",
            "35/35 [==============================] - 28s 796ms/step - loss: 0.0246 - accuracy: 0.9928 - val_loss: 1.4350 - val_accuracy: 0.7404\n",
            "Epoch 5/10\n",
            "35/35 [==============================] - ETA: 0s - loss: 0.0211 - accuracy: 0.9928\n",
            "Epoch 5: val_loss did not improve from 0.73691\n",
            "35/35 [==============================] - 27s 779ms/step - loss: 0.0211 - accuracy: 0.9928 - val_loss: 0.9816 - val_accuracy: 0.8894\n",
            "Epoch 6/10\n",
            "35/35 [==============================] - ETA: 0s - loss: 0.0633 - accuracy: 0.9928\n",
            "Epoch 6: val_loss did not improve from 0.73691\n",
            "Restoring model weights from the end of the best epoch: 1.\n",
            "35/35 [==============================] - 27s 788ms/step - loss: 0.0633 - accuracy: 0.9928 - val_loss: 2.1688 - val_accuracy: 0.7212\n",
            "Epoch 6: early stopping\n"
          ]
        }
      ]
    },
    {
      "cell_type": "code",
      "source": [
        "test_loss, test_acc = model.evaluate(x_testall, y_testall)"
      ],
      "metadata": {
        "colab": {
          "base_uri": "https://localhost:8080/"
        },
        "id": "YCgb9umAnpAK",
        "outputId": "1c389a8c-3842-421f-e6e6-57ea0362d79c"
      },
      "execution_count": 181,
      "outputs": [
        {
          "output_type": "stream",
          "name": "stdout",
          "text": [
            "7/7 [==============================] - 13s 2s/step - loss: 0.7369 - accuracy: 0.9135\n"
          ]
        }
      ]
    },
    {
      "cell_type": "markdown",
      "source": [
        "Testing accuracy of Cluster2 is 0.9135"
      ],
      "metadata": {
        "id": "cBiMJFTon3fo"
      }
    },
    {
      "cell_type": "code",
      "source": [
        "from keras.applications.efficientnet import EfficientNetB0\n",
        "efficientnet = EfficientNetB0(weights='imagenet', include_top=False, input_shape=(image_size, image_size, 3))\n",
        "\n",
        "for layer in efficientnet.layers:\n",
        "    layer.trainable = False\n",
        "\n",
        "import tensorflow as tf\n",
        "from keras.models import Sequential\n",
        "from keras.layers import Flatten, Dense\n",
        "\n",
        "model = Sequential()\n",
        "model.add(efficientnet)\n",
        "model.add(Flatten())\n",
        "model.add(Dense(1,activation=\"sigmoid\"))\n",
        "model.compile(optimizer=\"adam\",loss=\"binary_crossentropy\",metrics=[\"accuracy\"])\n",
        "\n",
        "from keras.callbacks import ModelCheckpoint, EarlyStopping\n",
        "checkpoint = ModelCheckpoint(\"c2_efficientnet.h5\", monitor=\"val_loss\", verbose=1, save_best_only=True, mode='min')\n",
        "earlystop = EarlyStopping(monitor=\"val_loss\", patience=5, verbose=1, mode='auto', restore_best_weights=True)\n",
        "\n",
        "history = model.fit(x2, y2, batch_size=8, epochs=10, validation_data=(x_testall, y_testall), verbose=1, callbacks=[checkpoint, earlystop])"
      ],
      "metadata": {
        "colab": {
          "base_uri": "https://localhost:8080/"
        },
        "id": "vNiSzI6ioAHY",
        "outputId": "dbe6d1d4-fbe1-4e16-acf8-c88dc5fa88bd"
      },
      "execution_count": 182,
      "outputs": [
        {
          "output_type": "stream",
          "name": "stdout",
          "text": [
            "Epoch 1/10\n",
            "11/11 [==============================] - ETA: 0s - loss: 0.4838 - accuracy: 0.8214\n",
            "Epoch 1: val_loss improved from inf to 0.64674, saving model to c2_efficientnet.h5\n",
            "11/11 [==============================] - 25s 2s/step - loss: 0.4838 - accuracy: 0.8214 - val_loss: 0.6467 - val_accuracy: 0.9375\n",
            "Epoch 2/10\n",
            "11/11 [==============================] - ETA: 0s - loss: 0.0339 - accuracy: 0.9881\n",
            "Epoch 2: val_loss did not improve from 0.64674\n",
            "11/11 [==============================] - 16s 2s/step - loss: 0.0339 - accuracy: 0.9881 - val_loss: 0.9707 - val_accuracy: 0.9327\n",
            "Epoch 3/10\n",
            "11/11 [==============================] - ETA: 0s - loss: 3.4963e-04 - accuracy: 1.0000\n",
            "Epoch 3: val_loss did not improve from 0.64674\n",
            "11/11 [==============================] - 16s 2s/step - loss: 3.4963e-04 - accuracy: 1.0000 - val_loss: 1.2143 - val_accuracy: 0.9183\n",
            "Epoch 4/10\n",
            "11/11 [==============================] - ETA: 0s - loss: 0.0091 - accuracy: 1.0000\n",
            "Epoch 4: val_loss did not improve from 0.64674\n",
            "11/11 [==============================] - 16s 2s/step - loss: 0.0091 - accuracy: 1.0000 - val_loss: 1.1449 - val_accuracy: 0.9279\n",
            "Epoch 5/10\n",
            "11/11 [==============================] - ETA: 0s - loss: 3.7108e-05 - accuracy: 1.0000\n",
            "Epoch 5: val_loss did not improve from 0.64674\n",
            "11/11 [==============================] - 16s 2s/step - loss: 3.7108e-05 - accuracy: 1.0000 - val_loss: 1.0122 - val_accuracy: 0.9327\n",
            "Epoch 6/10\n",
            "11/11 [==============================] - ETA: 0s - loss: 1.2486e-04 - accuracy: 1.0000\n",
            "Epoch 6: val_loss did not improve from 0.64674\n",
            "Restoring model weights from the end of the best epoch: 1.\n",
            "11/11 [==============================] - 19s 2s/step - loss: 1.2486e-04 - accuracy: 1.0000 - val_loss: 0.9849 - val_accuracy: 0.9279\n",
            "Epoch 6: early stopping\n"
          ]
        }
      ]
    },
    {
      "cell_type": "code",
      "source": [
        "test_loss, test_acc = model.evaluate(x_testall, y_testall)"
      ],
      "metadata": {
        "colab": {
          "base_uri": "https://localhost:8080/"
        },
        "id": "9K3MDP6somuv",
        "outputId": "cff59ad7-fe52-417c-c7e0-491acfa7c34f"
      },
      "execution_count": 183,
      "outputs": [
        {
          "output_type": "stream",
          "name": "stdout",
          "text": [
            "7/7 [==============================] - 13s 2s/step - loss: 0.6467 - accuracy: 0.9375\n"
          ]
        }
      ]
    },
    {
      "cell_type": "markdown",
      "source": [
        "Testing accuracy of Cluster 3 is 0.9375"
      ],
      "metadata": {
        "id": "CInRTYoaovt-"
      }
    },
    {
      "cell_type": "code",
      "source": [
        "from keras.applications.efficientnet import EfficientNetB0\n",
        "efficientnet = EfficientNetB0(weights='imagenet', include_top=False, input_shape=(image_size, image_size, 3))\n",
        "\n",
        "for layer in efficientnet.layers:\n",
        "    layer.trainable = False\n",
        "\n",
        "import tensorflow as tf\n",
        "from keras.models import Sequential\n",
        "from keras.layers import Flatten, Dense\n",
        "\n",
        "model = Sequential()\n",
        "model.add(efficientnet)\n",
        "model.add(Flatten())\n",
        "model.add(Dense(1,activation=\"sigmoid\"))\n",
        "model.compile(optimizer=\"adam\",loss=\"binary_crossentropy\",metrics=[\"accuracy\"])\n",
        "\n",
        "from keras.callbacks import ModelCheckpoint, EarlyStopping\n",
        "checkpoint = ModelCheckpoint(\"c3_efficientnet.h5\", monitor=\"val_loss\", verbose=1, save_best_only=True, mode='min')\n",
        "earlystop = EarlyStopping(monitor=\"val_loss\", patience=5, verbose=1, mode='auto', restore_best_weights=True)\n",
        "\n",
        "history = model.fit(x3, y3, batch_size=8, epochs=10, validation_data=(x_testall, y_testall), verbose=1, callbacks=[checkpoint, earlystop])"
      ],
      "metadata": {
        "colab": {
          "base_uri": "https://localhost:8080/"
        },
        "id": "Tlo_flzao-Es",
        "outputId": "197438f3-9b3f-4874-a061-cfff827f6de8"
      },
      "execution_count": 184,
      "outputs": [
        {
          "output_type": "stream",
          "name": "stdout",
          "text": [
            "Epoch 1/10\n",
            "32/32 [==============================] - ETA: 0s - loss: 0.7483 - accuracy: 0.9297\n",
            "Epoch 1: val_loss improved from inf to 2.99249, saving model to c3_efficientnet.h5\n",
            "32/32 [==============================] - 33s 854ms/step - loss: 0.7483 - accuracy: 0.9297 - val_loss: 2.9925 - val_accuracy: 0.5192\n",
            "Epoch 2/10\n",
            "32/32 [==============================] - ETA: 0s - loss: 0.2948 - accuracy: 0.9688\n",
            "Epoch 2: val_loss improved from 2.99249 to 0.98996, saving model to c3_efficientnet.h5\n",
            "32/32 [==============================] - 26s 817ms/step - loss: 0.2948 - accuracy: 0.9688 - val_loss: 0.9900 - val_accuracy: 0.8365\n",
            "Epoch 3/10\n",
            "32/32 [==============================] - ETA: 0s - loss: 0.2384 - accuracy: 0.9727\n",
            "Epoch 3: val_loss improved from 0.98996 to 0.78900, saving model to c3_efficientnet.h5\n",
            "32/32 [==============================] - 26s 810ms/step - loss: 0.2384 - accuracy: 0.9727 - val_loss: 0.7890 - val_accuracy: 0.8654\n",
            "Epoch 4/10\n",
            "32/32 [==============================] - ETA: 0s - loss: 0.0701 - accuracy: 0.9922\n",
            "Epoch 4: val_loss did not improve from 0.78900\n",
            "32/32 [==============================] - 25s 787ms/step - loss: 0.0701 - accuracy: 0.9922 - val_loss: 2.6818 - val_accuracy: 0.6635\n",
            "Epoch 5/10\n",
            "32/32 [==============================] - ETA: 0s - loss: 8.2861e-04 - accuracy: 1.0000\n",
            "Epoch 5: val_loss did not improve from 0.78900\n",
            "32/32 [==============================] - 25s 795ms/step - loss: 8.2861e-04 - accuracy: 1.0000 - val_loss: 1.4003 - val_accuracy: 0.7740\n",
            "Epoch 6/10\n",
            "32/32 [==============================] - ETA: 0s - loss: 1.1220e-04 - accuracy: 1.0000\n",
            "Epoch 6: val_loss did not improve from 0.78900\n",
            "32/32 [==============================] - 27s 854ms/step - loss: 1.1220e-04 - accuracy: 1.0000 - val_loss: 1.6674 - val_accuracy: 0.7356\n",
            "Epoch 7/10\n",
            "32/32 [==============================] - ETA: 0s - loss: 6.2806e-05 - accuracy: 1.0000\n",
            "Epoch 7: val_loss did not improve from 0.78900\n",
            "32/32 [==============================] - 25s 796ms/step - loss: 6.2806e-05 - accuracy: 1.0000 - val_loss: 1.6467 - val_accuracy: 0.7404\n",
            "Epoch 8/10\n",
            "32/32 [==============================] - ETA: 0s - loss: 0.0459 - accuracy: 0.9922\n",
            "Epoch 8: val_loss did not improve from 0.78900\n",
            "Restoring model weights from the end of the best epoch: 3.\n",
            "32/32 [==============================] - 25s 807ms/step - loss: 0.0459 - accuracy: 0.9922 - val_loss: 2.4634 - val_accuracy: 0.6779\n",
            "Epoch 8: early stopping\n"
          ]
        }
      ]
    },
    {
      "cell_type": "code",
      "source": [
        "test_loss, test_acc = model.evaluate(x_testall, y_testall)"
      ],
      "metadata": {
        "colab": {
          "base_uri": "https://localhost:8080/"
        },
        "id": "VFLFIBGEqk6f",
        "outputId": "4eeec485-55d2-45a2-ed25-a96ad8dd249e"
      },
      "execution_count": 185,
      "outputs": [
        {
          "output_type": "stream",
          "name": "stdout",
          "text": [
            "7/7 [==============================] - 12s 1s/step - loss: 0.7890 - accuracy: 0.8654\n"
          ]
        }
      ]
    },
    {
      "cell_type": "markdown",
      "source": [
        "Testing accuracy of Cluster 4 is 0.8654."
      ],
      "metadata": {
        "id": "_VgAm2n9q3uh"
      }
    },
    {
      "cell_type": "code",
      "source": [
        "import pandas as pd\n",
        "import seaborn as sns\n",
        "import matplotlib.pyplot as plt\n",
        "\n",
        "c0_features = pd.DataFrame(cluster1_features)\n",
        "corr = c0_features.corr()\n",
        "\n",
        "# Plot the heatmap\n",
        "sns.heatmap(corr, annot=True, cmap='RdBu')\n",
        "\n",
        "# Show the plot\n",
        "plt.show()"
      ],
      "metadata": {
        "colab": {
          "base_uri": "https://localhost:8080/",
          "height": 279
        },
        "id": "Rg1mxvs1MyYW",
        "outputId": "bb817c5e-bcce-466a-f752-f0adc224d31f"
      },
      "execution_count": 127,
      "outputs": [
        {
          "output_type": "display_data",
          "data": {
            "text/plain": [
              "<Figure size 432x288 with 2 Axes>"
            ],
            "image/png": "[encoded data removed]"
          },
          "metadata": {
            "image/png": {
              "width": 367,
              "height": 262
            },
            "needs_background": "light"
          }
        }
      ]
    },
    {
      "cell_type": "code",
      "source": [
        "print(c0_df.columns)"
      ],
      "metadata": {
        "colab": {
          "base_uri": "https://localhost:8080/"
        },
        "id": "3bQ6HdJdS2w3",
        "outputId": "2876be7a-34b7-4d7e-c34f-15c17be898ef"
      },
      "execution_count": 136,
      "outputs": [
        {
          "output_type": "stream",
          "name": "stdout",
          "text": [
            "Index(['Patient Age', 'Patient Sex', 'Image', 'Result'], dtype='object')\n"
          ]
        }
      ]
    },
    {
      "cell_type": "code",
      "source": [
        "c1 = cluster_map[cluster_map.cluster == 1]\n",
        "len(c1)\n",
        "y1 = np.array([y[i] for i in c1.data_index])\n",
        "print(len(y1))"
      ],
      "metadata": {
        "colab": {
          "base_uri": "https://localhost:8080/"
        },
        "id": "NXwKL55WBLuA",
        "outputId": "db5a1687-7053-42e2-8b34-090f9b425919"
      },
      "execution_count": 26,
      "outputs": [
        {
          "output_type": "stream",
          "name": "stdout",
          "text": [
            "275\n"
          ]
        }
      ]
    },
    {
      "cell_type": "code",
      "source": [
        "c2 = cluster_map[cluster_map.cluster == 2]\n",
        "len(c2)\n",
        "y2 = np.array([y[i] for i in c2.data_index])\n",
        "print(len(y2))"
      ],
      "metadata": {
        "colab": {
          "base_uri": "https://localhost:8080/"
        },
        "id": "sKLco6SjC5cC",
        "outputId": "2d3c34ff-3778-485d-fb7c-a45e3b2a03c9"
      },
      "execution_count": 27,
      "outputs": [
        {
          "output_type": "stream",
          "name": "stdout",
          "text": [
            "256\n"
          ]
        }
      ]
    },
    {
      "cell_type": "code",
      "source": [
        "c3 = cluster_map[cluster_map.cluster == 3]\n",
        "len(c3)\n",
        "y3 = np.array([y[i] for i in c3.data_index])\n",
        "print(len(y3))"
      ],
      "metadata": {
        "colab": {
          "base_uri": "https://localhost:8080/"
        },
        "id": "9va5y4YnC6wX",
        "outputId": "2c44ba4e-7292-4121-ed1c-d1f3c5e52166"
      },
      "execution_count": 28,
      "outputs": [
        {
          "output_type": "stream",
          "name": "stdout",
          "text": [
            "93\n"
          ]
        }
      ]
    },
    {
      "cell_type": "code",
      "source": [
        "import tensorflow as tf\n",
        "from keras.models import Sequential\n",
        "from keras.layers import Flatten, Dense, Dropout\n",
        "\n",
        "model = Sequential()\n",
        "model.add(Flatten(input_shape=principalComponents.shape[1:]))\n",
        "model.add(Dense(64, activation='relu'))\n",
        "model.add(Dropout(0.5))\n",
        "model.add(Dense(1, activation='sigmoid'))\n",
        "\n",
        "model.compile(optimizer='adam', loss='binary_crossentropy', metrics=['accuracy'])\n",
        "\n",
        "history = model.fit(cluster1_features, y0, epochs=100, batch_size=10)"
      ],
      "metadata": {
        "id": "kurlKWLX5CRs"
      },
      "execution_count": null,
      "outputs": []
    },
    {
      "cell_type": "code",
      "source": [
        "test_loss, test_accuracy = model.evaluate(principalComponents_test, y_testall, batch_size = 10)\n",
        "print('Test accuracy:', test_accuracy)"
      ],
      "metadata": {
        "colab": {
          "base_uri": "https://localhost:8080/"
        },
        "id": "zrn5kiQY6z9b",
        "outputId": "3b3a68a2-28d2-420a-a916-0c99545d2a11"
      },
      "execution_count": 30,
      "outputs": [
        {
          "output_type": "stream",
          "name": "stdout",
          "text": [
            "21/21 [==============================] - 0s 2ms/step - loss: 5.2718 - accuracy: 0.7019\n",
            "Test accuracy: 0.7019230723381042\n"
          ]
        }
      ]
    },
    {
      "cell_type": "code",
      "source": [
        "# Random sample n=203 from the training data (to compare with 1st cluster and leave out the effect of sample size)\n",
        "import random\n",
        "principalComponents_list = list(principalComponents)\n",
        "sample1 = random.sample(principalComponents_list, 203)"
      ],
      "metadata": {
        "id": "OhGLtyL07UUb"
      },
      "execution_count": 31,
      "outputs": []
    },
    {
      "cell_type": "code",
      "source": [
        "sample1= np.array(sample1)\n",
        "sample1.shape"
      ],
      "metadata": {
        "colab": {
          "base_uri": "https://localhost:8080/"
        },
        "id": "CgqUCOK1AhBN",
        "outputId": "5005c3da-2d68-4aa0-cd3c-db71d3528eea"
      },
      "execution_count": 32,
      "outputs": [
        {
          "output_type": "execute_result",
          "data": {
            "text/plain": [
              "(203, 200)"
            ]
          },
          "metadata": {},
          "execution_count": 32
        }
      ]
    },
    {
      "cell_type": "code",
      "source": [
        "indexes = []\n",
        "for s in sample1:\n",
        "    index = np.where(principalComponents == s)[0][0]\n",
        "    indexes.append(index)\n",
        "len(indexes)"
      ],
      "metadata": {
        "colab": {
          "base_uri": "https://localhost:8080/"
        },
        "id": "awunPON57UdE",
        "outputId": "e08e48f5-f4be-4b82-b8a4-f2d83687aa64"
      },
      "execution_count": 33,
      "outputs": [
        {
          "output_type": "execute_result",
          "data": {
            "text/plain": [
              "203"
            ]
          },
          "metadata": {},
          "execution_count": 33
        }
      ]
    },
    {
      "cell_type": "code",
      "source": [
        "y0_random = [y[index] for index in indexes]\n",
        "y0_random = np.array(y0_random, dtype=np.int64)"
      ],
      "metadata": {
        "id": "6sbGHmyV7Uf8"
      },
      "execution_count": 34,
      "outputs": []
    },
    {
      "cell_type": "code",
      "source": [
        "import tensorflow as tf\n",
        "from keras.models import Sequential\n",
        "from keras.layers import Flatten, Dense, Dropout\n",
        "\n",
        "model = Sequential()\n",
        "model.add(Flatten(input_shape=principalComponents.shape[1:]))\n",
        "model.add(Dense(64, activation='relu'))\n",
        "model.add(Dropout(0.5))\n",
        "model.add(Dense(1, activation='sigmoid'))\n",
        "\n",
        "model.compile(optimizer='adam', loss='binary_crossentropy', metrics=['accuracy'])\n",
        "\n",
        "history = model.fit(sample1, y0_random, epochs=100, batch_size=10)"
      ],
      "metadata": {
        "id": "52qpDxJZ7Ui6",
        "colab": {
          "base_uri": "https://localhost:8080/"
        },
        "outputId": "1ab38392-408a-44f6-8c29-fa204afb06c5"
      },
      "execution_count": 35,
      "outputs": [
        {
          "output_type": "stream",
          "name": "stdout",
          "text": [
            "Epoch 1/100\n",
            "21/21 [==============================] - 1s 2ms/step - loss: 8.3175 - accuracy: 0.5369\n",
            "Epoch 2/100\n",
            "21/21 [==============================] - 0s 2ms/step - loss: 4.8895 - accuracy: 0.6995\n",
            "Epoch 3/100\n",
            "21/21 [==============================] - 0s 2ms/step - loss: 3.1046 - accuracy: 0.8030\n",
            "Epoch 4/100\n",
            "21/21 [==============================] - 0s 2ms/step - loss: 2.2596 - accuracy: 0.8473\n",
            "Epoch 5/100\n",
            "21/21 [==============================] - 0s 3ms/step - loss: 1.6971 - accuracy: 0.8621\n",
            "Epoch 6/100\n",
            "21/21 [==============================] - 0s 2ms/step - loss: 1.0574 - accuracy: 0.8818\n",
            "Epoch 7/100\n",
            "21/21 [==============================] - 0s 2ms/step - loss: 0.9874 - accuracy: 0.8916\n",
            "Epoch 8/100\n",
            "21/21 [==============================] - 0s 2ms/step - loss: 0.6714 - accuracy: 0.9113\n",
            "Epoch 9/100\n",
            "21/21 [==============================] - 0s 2ms/step - loss: 1.0573 - accuracy: 0.9261\n",
            "Epoch 10/100\n",
            "21/21 [==============================] - 0s 2ms/step - loss: 0.4437 - accuracy: 0.9507\n",
            "Epoch 11/100\n",
            "21/21 [==============================] - 0s 2ms/step - loss: 0.5308 - accuracy: 0.9458\n",
            "Epoch 12/100\n",
            "21/21 [==============================] - 0s 2ms/step - loss: 0.4437 - accuracy: 0.9507\n",
            "Epoch 13/100\n",
            "21/21 [==============================] - 0s 2ms/step - loss: 0.5155 - accuracy: 0.9507\n",
            "Epoch 14/100\n",
            "21/21 [==============================] - 0s 2ms/step - loss: 0.2181 - accuracy: 0.9606\n",
            "Epoch 15/100\n",
            "21/21 [==============================] - 0s 2ms/step - loss: 0.1857 - accuracy: 0.9606\n",
            "Epoch 16/100\n",
            "21/21 [==============================] - 0s 2ms/step - loss: 0.2960 - accuracy: 0.9655\n",
            "Epoch 17/100\n",
            "21/21 [==============================] - 0s 2ms/step - loss: 0.4578 - accuracy: 0.9409\n",
            "Epoch 18/100\n",
            "21/21 [==============================] - 0s 3ms/step - loss: 0.2584 - accuracy: 0.9803\n",
            "Epoch 19/100\n",
            "21/21 [==============================] - 0s 3ms/step - loss: 0.4546 - accuracy: 0.9458\n",
            "Epoch 20/100\n",
            "21/21 [==============================] - 0s 2ms/step - loss: 0.1660 - accuracy: 0.9704\n",
            "Epoch 21/100\n",
            "21/21 [==============================] - 0s 2ms/step - loss: 0.0426 - accuracy: 0.9803\n",
            "Epoch 22/100\n",
            "21/21 [==============================] - 0s 3ms/step - loss: 0.2580 - accuracy: 0.9704\n",
            "Epoch 23/100\n",
            "21/21 [==============================] - 0s 3ms/step - loss: 0.1815 - accuracy: 0.9704\n",
            "Epoch 24/100\n",
            "21/21 [==============================] - 0s 2ms/step - loss: 0.0671 - accuracy: 0.9803\n",
            "Epoch 25/100\n",
            "21/21 [==============================] - 0s 3ms/step - loss: 0.1243 - accuracy: 0.9704\n",
            "Epoch 26/100\n",
            "21/21 [==============================] - 0s 2ms/step - loss: 0.2689 - accuracy: 0.9803\n",
            "Epoch 27/100\n",
            "21/21 [==============================] - 0s 2ms/step - loss: 0.0738 - accuracy: 0.9852\n",
            "Epoch 28/100\n",
            "21/21 [==============================] - 0s 3ms/step - loss: 0.1443 - accuracy: 0.9704\n",
            "Epoch 29/100\n",
            "21/21 [==============================] - 0s 3ms/step - loss: 0.0898 - accuracy: 0.9754\n",
            "Epoch 30/100\n",
            "21/21 [==============================] - 0s 3ms/step - loss: 0.0264 - accuracy: 0.9852\n",
            "Epoch 31/100\n",
            "21/21 [==============================] - 0s 2ms/step - loss: 0.0845 - accuracy: 0.9901\n",
            "Epoch 32/100\n",
            "21/21 [==============================] - 0s 2ms/step - loss: 0.1361 - accuracy: 0.9803\n",
            "Epoch 33/100\n",
            "21/21 [==============================] - 0s 2ms/step - loss: 0.0652 - accuracy: 0.9852\n",
            "Epoch 34/100\n",
            "21/21 [==============================] - 0s 4ms/step - loss: 0.0129 - accuracy: 0.9951\n",
            "Epoch 35/100\n",
            "21/21 [==============================] - 0s 2ms/step - loss: 0.0311 - accuracy: 0.9951\n",
            "Epoch 36/100\n",
            "21/21 [==============================] - 0s 2ms/step - loss: 2.9791e-04 - accuracy: 1.0000\n",
            "Epoch 37/100\n",
            "21/21 [==============================] - 0s 2ms/step - loss: 0.0108 - accuracy: 0.9951\n",
            "Epoch 38/100\n",
            "21/21 [==============================] - 0s 2ms/step - loss: 0.0679 - accuracy: 0.9852\n",
            "Epoch 39/100\n",
            "21/21 [==============================] - 0s 2ms/step - loss: 0.0685 - accuracy: 0.9852\n",
            "Epoch 40/100\n",
            "21/21 [==============================] - 0s 2ms/step - loss: 0.0186 - accuracy: 0.9901\n",
            "Epoch 41/100\n",
            "21/21 [==============================] - 0s 2ms/step - loss: 0.1912 - accuracy: 0.9803\n",
            "Epoch 42/100\n",
            "21/21 [==============================] - 0s 3ms/step - loss: 0.0481 - accuracy: 0.9803\n",
            "Epoch 43/100\n",
            "21/21 [==============================] - 0s 2ms/step - loss: 0.0166 - accuracy: 0.9951\n",
            "Epoch 44/100\n",
            "21/21 [==============================] - 0s 2ms/step - loss: 0.0399 - accuracy: 0.9951\n",
            "Epoch 45/100\n",
            "21/21 [==============================] - 0s 2ms/step - loss: 0.0161 - accuracy: 0.9951\n",
            "Epoch 46/100\n",
            "21/21 [==============================] - 0s 2ms/step - loss: 0.0371 - accuracy: 0.9951\n",
            "Epoch 47/100\n",
            "21/21 [==============================] - 0s 2ms/step - loss: 0.0086 - accuracy: 0.9951\n",
            "Epoch 48/100\n",
            "21/21 [==============================] - 0s 2ms/step - loss: 3.1482e-04 - accuracy: 1.0000\n",
            "Epoch 49/100\n",
            "21/21 [==============================] - 0s 3ms/step - loss: 0.0281 - accuracy: 0.9901\n",
            "Epoch 50/100\n",
            "21/21 [==============================] - 0s 3ms/step - loss: 4.8850e-04 - accuracy: 1.0000\n",
            "Epoch 51/100\n",
            "21/21 [==============================] - 0s 3ms/step - loss: 0.0029 - accuracy: 1.0000\n",
            "Epoch 52/100\n",
            "21/21 [==============================] - 0s 2ms/step - loss: 0.0048 - accuracy: 1.0000\n",
            "Epoch 53/100\n",
            "21/21 [==============================] - 0s 3ms/step - loss: 0.0659 - accuracy: 0.9951\n",
            "Epoch 54/100\n",
            "21/21 [==============================] - 0s 3ms/step - loss: 0.0114 - accuracy: 0.9951\n",
            "Epoch 55/100\n",
            "21/21 [==============================] - 0s 3ms/step - loss: 0.0366 - accuracy: 0.9901\n",
            "Epoch 56/100\n",
            "21/21 [==============================] - 0s 2ms/step - loss: 3.8364e-04 - accuracy: 1.0000\n",
            "Epoch 57/100\n",
            "21/21 [==============================] - 0s 3ms/step - loss: 0.0311 - accuracy: 0.9852\n",
            "Epoch 58/100\n",
            "21/21 [==============================] - 0s 3ms/step - loss: 0.0102 - accuracy: 0.9951\n",
            "Epoch 59/100\n",
            "21/21 [==============================] - 0s 3ms/step - loss: 0.0164 - accuracy: 0.9901\n",
            "Epoch 60/100\n",
            "21/21 [==============================] - 0s 2ms/step - loss: 0.0358 - accuracy: 0.9901\n",
            "Epoch 61/100\n",
            "21/21 [==============================] - 0s 3ms/step - loss: 0.0023 - accuracy: 1.0000\n",
            "Epoch 62/100\n",
            "21/21 [==============================] - 0s 3ms/step - loss: 0.0013 - accuracy: 1.0000\n",
            "Epoch 63/100\n",
            "21/21 [==============================] - 0s 2ms/step - loss: 0.0051 - accuracy: 1.0000\n",
            "Epoch 64/100\n",
            "21/21 [==============================] - 0s 3ms/step - loss: 0.0326 - accuracy: 0.9901\n",
            "Epoch 65/100\n",
            "21/21 [==============================] - 0s 2ms/step - loss: 0.0013 - accuracy: 1.0000\n",
            "Epoch 66/100\n",
            "21/21 [==============================] - 0s 2ms/step - loss: 4.3381e-04 - accuracy: 1.0000\n",
            "Epoch 67/100\n",
            "21/21 [==============================] - 0s 2ms/step - loss: 0.0198 - accuracy: 0.9951\n",
            "Epoch 68/100\n",
            "21/21 [==============================] - 0s 2ms/step - loss: 0.0022 - accuracy: 1.0000\n",
            "Epoch 69/100\n",
            "21/21 [==============================] - 0s 2ms/step - loss: 0.0016 - accuracy: 1.0000\n",
            "Epoch 70/100\n",
            "21/21 [==============================] - 0s 3ms/step - loss: 0.0012 - accuracy: 1.0000\n",
            "Epoch 71/100\n",
            "21/21 [==============================] - 0s 2ms/step - loss: 2.7324e-05 - accuracy: 1.0000\n",
            "Epoch 72/100\n",
            "21/21 [==============================] - 0s 2ms/step - loss: 0.0332 - accuracy: 0.9852\n",
            "Epoch 73/100\n",
            "21/21 [==============================] - 0s 2ms/step - loss: 0.0707 - accuracy: 0.9951\n",
            "Epoch 74/100\n",
            "21/21 [==============================] - 0s 2ms/step - loss: 0.0307 - accuracy: 0.9951\n",
            "Epoch 75/100\n",
            "21/21 [==============================] - 0s 2ms/step - loss: 0.0239 - accuracy: 0.9951\n",
            "Epoch 76/100\n",
            "21/21 [==============================] - 0s 2ms/step - loss: 0.0525 - accuracy: 0.9951\n",
            "Epoch 77/100\n",
            "21/21 [==============================] - 0s 2ms/step - loss: 0.0318 - accuracy: 0.9951\n",
            "Epoch 78/100\n",
            "21/21 [==============================] - 0s 2ms/step - loss: 2.4483e-04 - accuracy: 1.0000\n",
            "Epoch 79/100\n",
            "21/21 [==============================] - 0s 2ms/step - loss: 5.6059e-04 - accuracy: 1.0000\n",
            "Epoch 80/100\n",
            "21/21 [==============================] - 0s 2ms/step - loss: 0.0307 - accuracy: 0.9951\n",
            "Epoch 81/100\n",
            "21/21 [==============================] - 0s 2ms/step - loss: 0.0147 - accuracy: 0.9951\n",
            "Epoch 82/100\n",
            "21/21 [==============================] - 0s 2ms/step - loss: 0.0383 - accuracy: 0.9852\n",
            "Epoch 83/100\n",
            "21/21 [==============================] - 0s 2ms/step - loss: 2.9817e-04 - accuracy: 1.0000\n",
            "Epoch 84/100\n",
            "21/21 [==============================] - 0s 2ms/step - loss: 0.0118 - accuracy: 0.9901\n",
            "Epoch 85/100\n",
            "21/21 [==============================] - 0s 2ms/step - loss: 0.0026 - accuracy: 1.0000\n",
            "Epoch 86/100\n",
            "21/21 [==============================] - 0s 2ms/step - loss: 0.0408 - accuracy: 0.9901\n",
            "Epoch 87/100\n",
            "21/21 [==============================] - 0s 2ms/step - loss: 3.3423e-05 - accuracy: 1.0000\n",
            "Epoch 88/100\n",
            "21/21 [==============================] - 0s 2ms/step - loss: 5.2598e-06 - accuracy: 1.0000\n",
            "Epoch 89/100\n",
            "21/21 [==============================] - 0s 2ms/step - loss: 0.0456 - accuracy: 0.9951\n",
            "Epoch 90/100\n",
            "21/21 [==============================] - 0s 2ms/step - loss: 0.0221 - accuracy: 0.9901\n",
            "Epoch 91/100\n",
            "21/21 [==============================] - 0s 2ms/step - loss: 0.0011 - accuracy: 1.0000\n",
            "Epoch 92/100\n",
            "21/21 [==============================] - 0s 2ms/step - loss: 0.0016 - accuracy: 1.0000\n",
            "Epoch 93/100\n",
            "21/21 [==============================] - 0s 2ms/step - loss: 2.3663e-05 - accuracy: 1.0000\n",
            "Epoch 94/100\n",
            "21/21 [==============================] - 0s 2ms/step - loss: 0.0060 - accuracy: 1.0000\n",
            "Epoch 95/100\n",
            "21/21 [==============================] - 0s 2ms/step - loss: 0.0290 - accuracy: 0.9951\n",
            "Epoch 96/100\n",
            "21/21 [==============================] - 0s 2ms/step - loss: 0.0110 - accuracy: 0.9951\n",
            "Epoch 97/100\n",
            "21/21 [==============================] - 0s 2ms/step - loss: 0.0021 - accuracy: 1.0000\n",
            "Epoch 98/100\n",
            "21/21 [==============================] - 0s 2ms/step - loss: 0.0790 - accuracy: 0.9901\n",
            "Epoch 99/100\n",
            "21/21 [==============================] - 0s 2ms/step - loss: 0.0214 - accuracy: 0.9951\n",
            "Epoch 100/100\n",
            "21/21 [==============================] - 0s 2ms/step - loss: 0.0230 - accuracy: 0.9901\n"
          ]
        }
      ]
    },
    {
      "cell_type": "code",
      "source": [
        "test_loss, test_accuracy = model.evaluate(principalComponents_test, y_testall, batch_size = 10)\n",
        "print('Test accuracy:', test_accuracy)"
      ],
      "metadata": {
        "colab": {
          "base_uri": "https://localhost:8080/"
        },
        "id": "ESs2PcI0Az0q",
        "outputId": "e6c293eb-49f8-4957-9b3d-db96d496ccd1"
      },
      "execution_count": 36,
      "outputs": [
        {
          "output_type": "stream",
          "name": "stdout",
          "text": [
            "21/21 [==============================] - 0s 1ms/step - loss: 4.5112 - accuracy: 0.7981\n",
            "Test accuracy: 0.7980769276618958\n"
          ]
        }
      ]
    },
    {
      "cell_type": "code",
      "source": [
        "# Model for 2nd Cluster\n",
        "import tensorflow as tf\n",
        "from keras.models import Sequential\n",
        "from keras.layers import Flatten, Dense, Dropout\n",
        "\n",
        "model = Sequential()\n",
        "model.add(Flatten(input_shape=principalComponents.shape[1:]))\n",
        "model.add(Dense(64, activation='relu'))\n",
        "model.add(Dropout(0.5))\n",
        "model.add(Dense(1, activation='sigmoid'))\n",
        "\n",
        "model.compile(optimizer='adam', loss='binary_crossentropy', metrics=['accuracy'])\n",
        "\n",
        "history = model.fit(cluster2_features, y1, epochs=100, batch_size=10)"
      ],
      "metadata": {
        "id": "EpJLy7KeBGpc",
        "colab": {
          "base_uri": "https://localhost:8080/"
        },
        "outputId": "122af537-4e7a-4e95-cf16-773acd821a1a"
      },
      "execution_count": 37,
      "outputs": [
        {
          "output_type": "stream",
          "name": "stdout",
          "text": [
            "Epoch 1/100\n",
            "28/28 [==============================] - 1s 2ms/step - loss: 2.8976 - accuracy: 0.8000\n",
            "Epoch 2/100\n",
            "28/28 [==============================] - 0s 2ms/step - loss: 0.8991 - accuracy: 0.9127\n",
            "Epoch 3/100\n",
            "28/28 [==============================] - 0s 2ms/step - loss: 0.5238 - accuracy: 0.9345\n",
            "Epoch 4/100\n",
            "28/28 [==============================] - 0s 3ms/step - loss: 0.3729 - accuracy: 0.9527\n",
            "Epoch 5/100\n",
            "28/28 [==============================] - 0s 2ms/step - loss: 0.6023 - accuracy: 0.9382\n",
            "Epoch 6/100\n",
            "28/28 [==============================] - 0s 3ms/step - loss: 0.1595 - accuracy: 0.9782\n",
            "Epoch 7/100\n",
            "28/28 [==============================] - 0s 2ms/step - loss: 0.1504 - accuracy: 0.9782\n",
            "Epoch 8/100\n",
            "28/28 [==============================] - 0s 2ms/step - loss: 0.1392 - accuracy: 0.9745\n",
            "Epoch 9/100\n",
            "28/28 [==============================] - 0s 2ms/step - loss: 0.0700 - accuracy: 0.9855\n",
            "Epoch 10/100\n",
            "28/28 [==============================] - 0s 2ms/step - loss: 0.0692 - accuracy: 0.9709\n",
            "Epoch 11/100\n",
            "28/28 [==============================] - 0s 2ms/step - loss: 0.1319 - accuracy: 0.9745\n",
            "Epoch 12/100\n",
            "28/28 [==============================] - 0s 2ms/step - loss: 0.0772 - accuracy: 0.9855\n",
            "Epoch 13/100\n",
            "28/28 [==============================] - 0s 2ms/step - loss: 0.0771 - accuracy: 0.9818\n",
            "Epoch 14/100\n",
            "28/28 [==============================] - 0s 3ms/step - loss: 0.0229 - accuracy: 0.9964\n",
            "Epoch 15/100\n",
            "28/28 [==============================] - 0s 2ms/step - loss: 0.0036 - accuracy: 1.0000\n",
            "Epoch 16/100\n",
            "28/28 [==============================] - 0s 2ms/step - loss: 0.1188 - accuracy: 0.9855\n",
            "Epoch 17/100\n",
            "28/28 [==============================] - 0s 2ms/step - loss: 0.0362 - accuracy: 0.9891\n",
            "Epoch 18/100\n",
            "28/28 [==============================] - 0s 2ms/step - loss: 0.0184 - accuracy: 0.9964\n",
            "Epoch 19/100\n",
            "28/28 [==============================] - 0s 2ms/step - loss: 0.1220 - accuracy: 0.9927\n",
            "Epoch 20/100\n",
            "28/28 [==============================] - 0s 2ms/step - loss: 0.0379 - accuracy: 0.9891\n",
            "Epoch 21/100\n",
            "28/28 [==============================] - 0s 2ms/step - loss: 0.0223 - accuracy: 0.9964\n",
            "Epoch 22/100\n",
            "28/28 [==============================] - 0s 2ms/step - loss: 0.0031 - accuracy: 1.0000\n",
            "Epoch 23/100\n",
            "28/28 [==============================] - 0s 2ms/step - loss: 0.0116 - accuracy: 0.9964\n",
            "Epoch 24/100\n",
            "28/28 [==============================] - 0s 2ms/step - loss: 0.0024 - accuracy: 1.0000\n",
            "Epoch 25/100\n",
            "28/28 [==============================] - 0s 2ms/step - loss: 0.0013 - accuracy: 1.0000\n",
            "Epoch 26/100\n",
            "28/28 [==============================] - 0s 2ms/step - loss: 0.0191 - accuracy: 0.9927\n",
            "Epoch 27/100\n",
            "28/28 [==============================] - 0s 2ms/step - loss: 0.0296 - accuracy: 0.9964\n",
            "Epoch 28/100\n",
            "28/28 [==============================] - 0s 2ms/step - loss: 0.0048 - accuracy: 0.9964\n",
            "Epoch 29/100\n",
            "28/28 [==============================] - 0s 3ms/step - loss: 0.0067 - accuracy: 0.9964\n",
            "Epoch 30/100\n",
            "28/28 [==============================] - 0s 2ms/step - loss: 0.0350 - accuracy: 0.9891\n",
            "Epoch 31/100\n",
            "28/28 [==============================] - 0s 2ms/step - loss: 2.5853e-06 - accuracy: 1.0000\n",
            "Epoch 32/100\n",
            "28/28 [==============================] - 0s 2ms/step - loss: 0.0069 - accuracy: 0.9964\n",
            "Epoch 33/100\n",
            "28/28 [==============================] - 0s 2ms/step - loss: 6.4822e-04 - accuracy: 1.0000\n",
            "Epoch 34/100\n",
            "28/28 [==============================] - 0s 2ms/step - loss: 0.0143 - accuracy: 0.9964\n",
            "Epoch 35/100\n",
            "28/28 [==============================] - 0s 2ms/step - loss: 0.0399 - accuracy: 0.9891\n",
            "Epoch 36/100\n",
            "28/28 [==============================] - 0s 2ms/step - loss: 8.7107e-05 - accuracy: 1.0000\n",
            "Epoch 37/100\n",
            "28/28 [==============================] - 0s 2ms/step - loss: 0.1083 - accuracy: 0.9855\n",
            "Epoch 38/100\n",
            "28/28 [==============================] - 0s 2ms/step - loss: 2.5489e-05 - accuracy: 1.0000\n",
            "Epoch 39/100\n",
            "28/28 [==============================] - 0s 2ms/step - loss: 4.3364e-05 - accuracy: 1.0000\n",
            "Epoch 40/100\n",
            "28/28 [==============================] - 0s 2ms/step - loss: 0.0022 - accuracy: 1.0000\n",
            "Epoch 41/100\n",
            "28/28 [==============================] - 0s 2ms/step - loss: 2.7971e-05 - accuracy: 1.0000\n",
            "Epoch 42/100\n",
            "28/28 [==============================] - 0s 2ms/step - loss: 5.6392e-07 - accuracy: 1.0000\n",
            "Epoch 43/100\n",
            "28/28 [==============================] - 0s 2ms/step - loss: 1.5979e-04 - accuracy: 1.0000\n",
            "Epoch 44/100\n",
            "28/28 [==============================] - 0s 2ms/step - loss: 9.0834e-05 - accuracy: 1.0000\n",
            "Epoch 45/100\n",
            "28/28 [==============================] - 0s 2ms/step - loss: 3.3888e-05 - accuracy: 1.0000\n",
            "Epoch 46/100\n",
            "28/28 [==============================] - 0s 2ms/step - loss: 2.9582e-04 - accuracy: 1.0000\n",
            "Epoch 47/100\n",
            "28/28 [==============================] - 0s 2ms/step - loss: 0.0070 - accuracy: 0.9964\n",
            "Epoch 48/100\n",
            "28/28 [==============================] - 0s 3ms/step - loss: 1.4939e-04 - accuracy: 1.0000\n",
            "Epoch 49/100\n",
            "28/28 [==============================] - 0s 2ms/step - loss: 0.0012 - accuracy: 1.0000\n",
            "Epoch 50/100\n",
            "28/28 [==============================] - 0s 2ms/step - loss: 0.0053 - accuracy: 0.9964\n",
            "Epoch 51/100\n",
            "28/28 [==============================] - 0s 2ms/step - loss: 3.9747e-04 - accuracy: 1.0000\n",
            "Epoch 52/100\n",
            "28/28 [==============================] - 0s 2ms/step - loss: 7.3325e-04 - accuracy: 1.0000\n",
            "Epoch 53/100\n",
            "28/28 [==============================] - 0s 2ms/step - loss: 0.0243 - accuracy: 0.9927\n",
            "Epoch 54/100\n",
            "28/28 [==============================] - 0s 2ms/step - loss: 1.7469e-05 - accuracy: 1.0000\n",
            "Epoch 55/100\n",
            "28/28 [==============================] - 0s 2ms/step - loss: 3.4384e-04 - accuracy: 1.0000\n",
            "Epoch 56/100\n",
            "28/28 [==============================] - 0s 2ms/step - loss: 4.6255e-05 - accuracy: 1.0000\n",
            "Epoch 57/100\n",
            "28/28 [==============================] - 0s 2ms/step - loss: 0.0025 - accuracy: 1.0000\n",
            "Epoch 58/100\n",
            "28/28 [==============================] - 0s 3ms/step - loss: 0.0109 - accuracy: 0.9964\n",
            "Epoch 59/100\n",
            "28/28 [==============================] - 0s 3ms/step - loss: 0.0076 - accuracy: 0.9927\n",
            "Epoch 60/100\n",
            "28/28 [==============================] - 0s 2ms/step - loss: 9.9100e-05 - accuracy: 1.0000\n",
            "Epoch 61/100\n",
            "28/28 [==============================] - 0s 3ms/step - loss: 8.7405e-05 - accuracy: 1.0000\n",
            "Epoch 62/100\n",
            "28/28 [==============================] - 0s 2ms/step - loss: 0.0077 - accuracy: 0.9964\n",
            "Epoch 63/100\n",
            "28/28 [==============================] - 0s 3ms/step - loss: 0.0149 - accuracy: 0.9964\n",
            "Epoch 64/100\n",
            "28/28 [==============================] - 0s 2ms/step - loss: 0.0320 - accuracy: 0.9964\n",
            "Epoch 65/100\n",
            "28/28 [==============================] - 0s 2ms/step - loss: 1.7216e-07 - accuracy: 1.0000\n",
            "Epoch 66/100\n",
            "28/28 [==============================] - 0s 2ms/step - loss: 1.9000e-05 - accuracy: 1.0000\n",
            "Epoch 67/100\n",
            "28/28 [==============================] - 0s 2ms/step - loss: 2.0148e-05 - accuracy: 1.0000\n",
            "Epoch 68/100\n",
            "28/28 [==============================] - 0s 3ms/step - loss: 2.8158e-04 - accuracy: 1.0000\n",
            "Epoch 69/100\n",
            "28/28 [==============================] - 0s 2ms/step - loss: 1.0523e-05 - accuracy: 1.0000\n",
            "Epoch 70/100\n",
            "28/28 [==============================] - 0s 2ms/step - loss: 0.0222 - accuracy: 0.9964\n",
            "Epoch 71/100\n",
            "28/28 [==============================] - 0s 2ms/step - loss: 0.0154 - accuracy: 0.9964\n",
            "Epoch 72/100\n",
            "28/28 [==============================] - 0s 2ms/step - loss: 7.0757e-07 - accuracy: 1.0000\n",
            "Epoch 73/100\n",
            "28/28 [==============================] - 0s 3ms/step - loss: 1.5806e-05 - accuracy: 1.0000\n",
            "Epoch 74/100\n",
            "28/28 [==============================] - 0s 2ms/step - loss: 0.0017 - accuracy: 1.0000\n",
            "Epoch 75/100\n",
            "28/28 [==============================] - 0s 2ms/step - loss: 7.0941e-05 - accuracy: 1.0000\n",
            "Epoch 76/100\n",
            "28/28 [==============================] - 0s 2ms/step - loss: 3.4739e-06 - accuracy: 1.0000\n",
            "Epoch 77/100\n",
            "28/28 [==============================] - 0s 3ms/step - loss: 4.7023e-04 - accuracy: 1.0000\n",
            "Epoch 78/100\n",
            "28/28 [==============================] - 0s 2ms/step - loss: 1.1176e-04 - accuracy: 1.0000\n",
            "Epoch 79/100\n",
            "28/28 [==============================] - 0s 3ms/step - loss: 0.0013 - accuracy: 1.0000\n",
            "Epoch 80/100\n",
            "28/28 [==============================] - 0s 2ms/step - loss: 0.0063 - accuracy: 0.9964\n",
            "Epoch 81/100\n",
            "28/28 [==============================] - 0s 2ms/step - loss: 3.0184e-08 - accuracy: 1.0000\n",
            "Epoch 82/100\n",
            "28/28 [==============================] - 0s 3ms/step - loss: 0.0017 - accuracy: 1.0000\n",
            "Epoch 83/100\n",
            "28/28 [==============================] - 0s 3ms/step - loss: 2.0954e-05 - accuracy: 1.0000\n",
            "Epoch 84/100\n",
            "28/28 [==============================] - 0s 4ms/step - loss: 6.1310e-04 - accuracy: 1.0000\n",
            "Epoch 85/100\n",
            "28/28 [==============================] - 0s 2ms/step - loss: 5.2535e-06 - accuracy: 1.0000\n",
            "Epoch 86/100\n",
            "28/28 [==============================] - 0s 3ms/step - loss: 0.0087 - accuracy: 0.9964\n",
            "Epoch 87/100\n",
            "28/28 [==============================] - 0s 3ms/step - loss: 6.2493e-05 - accuracy: 1.0000\n",
            "Epoch 88/100\n",
            "28/28 [==============================] - 0s 3ms/step - loss: 9.8473e-04 - accuracy: 1.0000\n",
            "Epoch 89/100\n",
            "28/28 [==============================] - 0s 2ms/step - loss: 6.3371e-05 - accuracy: 1.0000\n",
            "Epoch 90/100\n",
            "28/28 [==============================] - 0s 3ms/step - loss: 2.9860e-05 - accuracy: 1.0000\n",
            "Epoch 91/100\n",
            "28/28 [==============================] - 0s 2ms/step - loss: 1.5903e-04 - accuracy: 1.0000\n",
            "Epoch 92/100\n",
            "28/28 [==============================] - 0s 3ms/step - loss: 0.0010 - accuracy: 1.0000\n",
            "Epoch 93/100\n",
            "28/28 [==============================] - 0s 2ms/step - loss: 3.0291e-06 - accuracy: 1.0000\n",
            "Epoch 94/100\n",
            "28/28 [==============================] - 0s 3ms/step - loss: 5.2392e-06 - accuracy: 1.0000\n",
            "Epoch 95/100\n",
            "28/28 [==============================] - 0s 2ms/step - loss: 0.0161 - accuracy: 0.9964\n",
            "Epoch 96/100\n",
            "28/28 [==============================] - 0s 3ms/step - loss: 6.4521e-04 - accuracy: 1.0000\n",
            "Epoch 97/100\n",
            "28/28 [==============================] - 0s 3ms/step - loss: 0.0025 - accuracy: 0.9964\n",
            "Epoch 98/100\n",
            "28/28 [==============================] - 0s 2ms/step - loss: 8.7300e-06 - accuracy: 1.0000\n",
            "Epoch 99/100\n",
            "28/28 [==============================] - 0s 2ms/step - loss: 0.0260 - accuracy: 0.9964\n",
            "Epoch 100/100\n",
            "28/28 [==============================] - 0s 2ms/step - loss: 9.2010e-05 - accuracy: 1.0000\n"
          ]
        }
      ]
    },
    {
      "cell_type": "code",
      "source": [
        "test_loss, test_accuracy = model.evaluate(principalComponents_test, y_testall, batch_size = 10)\n",
        "print('Test accuracy:', test_accuracy)"
      ],
      "metadata": {
        "colab": {
          "base_uri": "https://localhost:8080/"
        },
        "id": "-y1uise4BrE4",
        "outputId": "e213b6f5-9b20-4248-b176-950ab3b5857f"
      },
      "execution_count": 38,
      "outputs": [
        {
          "output_type": "stream",
          "name": "stdout",
          "text": [
            "21/21 [==============================] - 0s 1ms/step - loss: 9.0534 - accuracy: 0.6683\n",
            "Test accuracy: 0.6682692170143127\n"
          ]
        }
      ]
    },
    {
      "cell_type": "code",
      "source": [
        "# Random sample n=275 from the training data (to compare with 2nd cluster and leave out the effect of sample size)\n",
        "import random\n",
        "principalComponents_list = list(principalComponents)\n",
        "sample2 = random.sample(principalComponents_list, 275)\n",
        "sample2= np.array(sample2)\n",
        "sample2.shape\n",
        "indexes2 = []\n",
        "for s in sample2:\n",
        "    index = np.where(principalComponents == s)[0][0]\n",
        "    indexes2.append(index)\n",
        "len(indexes2)\n",
        "\n",
        "y1_random = [y[index] for index in indexes2]\n",
        "y1_random = np.array(y1_random, dtype=np.int64)"
      ],
      "metadata": {
        "id": "xeP8qD6zBwlC"
      },
      "execution_count": 39,
      "outputs": []
    },
    {
      "cell_type": "code",
      "source": [
        "# Model for the random sample (to be compared with 2nd cluster)\n",
        "import tensorflow as tf\n",
        "from keras.models import Sequential\n",
        "from keras.layers import Flatten, Dense, Dropout\n",
        "\n",
        "model = Sequential()\n",
        "model.add(Flatten(input_shape=principalComponents.shape[1:]))\n",
        "model.add(Dense(64, activation='relu'))\n",
        "model.add(Dropout(0.5))\n",
        "model.add(Dense(1, activation='sigmoid'))\n",
        "\n",
        "model.compile(optimizer='adam', loss='binary_crossentropy', metrics=['accuracy'])\n",
        "\n",
        "history = model.fit(sample2, y1_random, epochs=100, batch_size=10)"
      ],
      "metadata": {
        "id": "GSqLKTVpCX1h",
        "colab": {
          "base_uri": "https://localhost:8080/"
        },
        "outputId": "d658b48e-dd8a-4049-cbe7-fdede7b61ac7"
      },
      "execution_count": 40,
      "outputs": [
        {
          "output_type": "stream",
          "name": "stdout",
          "text": [
            "Epoch 1/100\n",
            "28/28 [==============================] - 1s 3ms/step - loss: 6.6828 - accuracy: 0.5600\n",
            "Epoch 2/100\n",
            "28/28 [==============================] - 0s 2ms/step - loss: 2.5208 - accuracy: 0.7636\n",
            "Epoch 3/100\n",
            "28/28 [==============================] - 0s 3ms/step - loss: 2.2957 - accuracy: 0.8436\n",
            "Epoch 4/100\n",
            "28/28 [==============================] - 0s 2ms/step - loss: 1.4546 - accuracy: 0.8945\n",
            "Epoch 5/100\n",
            "28/28 [==============================] - 0s 3ms/step - loss: 1.2627 - accuracy: 0.8909\n",
            "Epoch 6/100\n",
            "28/28 [==============================] - 0s 2ms/step - loss: 0.6178 - accuracy: 0.9273\n",
            "Epoch 7/100\n",
            "28/28 [==============================] - 0s 2ms/step - loss: 0.6743 - accuracy: 0.9345\n",
            "Epoch 8/100\n",
            "28/28 [==============================] - 0s 3ms/step - loss: 0.7680 - accuracy: 0.9491\n",
            "Epoch 9/100\n",
            "28/28 [==============================] - 0s 3ms/step - loss: 0.8185 - accuracy: 0.9418\n",
            "Epoch 10/100\n",
            "28/28 [==============================] - 0s 3ms/step - loss: 0.4788 - accuracy: 0.9382\n",
            "Epoch 11/100\n",
            "28/28 [==============================] - 0s 2ms/step - loss: 0.3269 - accuracy: 0.9636\n",
            "Epoch 12/100\n",
            "28/28 [==============================] - 0s 2ms/step - loss: 0.2987 - accuracy: 0.9600\n",
            "Epoch 13/100\n",
            "28/28 [==============================] - 0s 2ms/step - loss: 0.1860 - accuracy: 0.9564\n",
            "Epoch 14/100\n",
            "28/28 [==============================] - 0s 3ms/step - loss: 0.0492 - accuracy: 0.9855\n",
            "Epoch 15/100\n",
            "28/28 [==============================] - 0s 3ms/step - loss: 0.1992 - accuracy: 0.9673\n",
            "Epoch 16/100\n",
            "28/28 [==============================] - 0s 2ms/step - loss: 0.2771 - accuracy: 0.9564\n",
            "Epoch 17/100\n",
            "28/28 [==============================] - 0s 2ms/step - loss: 0.1582 - accuracy: 0.9709\n",
            "Epoch 18/100\n",
            "28/28 [==============================] - 0s 2ms/step - loss: 0.3174 - accuracy: 0.9782\n",
            "Epoch 19/100\n",
            "28/28 [==============================] - 0s 2ms/step - loss: 0.2364 - accuracy: 0.9673\n",
            "Epoch 20/100\n",
            "28/28 [==============================] - 0s 2ms/step - loss: 0.1959 - accuracy: 0.9745\n",
            "Epoch 21/100\n",
            "28/28 [==============================] - 0s 2ms/step - loss: 0.0889 - accuracy: 0.9891\n",
            "Epoch 22/100\n",
            "28/28 [==============================] - 0s 3ms/step - loss: 0.1480 - accuracy: 0.9745\n",
            "Epoch 23/100\n",
            "28/28 [==============================] - 0s 2ms/step - loss: 0.2351 - accuracy: 0.9782\n",
            "Epoch 24/100\n",
            "28/28 [==============================] - 0s 2ms/step - loss: 0.0873 - accuracy: 0.9891\n",
            "Epoch 25/100\n",
            "28/28 [==============================] - 0s 2ms/step - loss: 0.0344 - accuracy: 0.9855\n",
            "Epoch 26/100\n",
            "28/28 [==============================] - 0s 2ms/step - loss: 0.0517 - accuracy: 0.9927\n",
            "Epoch 27/100\n",
            "28/28 [==============================] - 0s 2ms/step - loss: 0.1128 - accuracy: 0.9818\n",
            "Epoch 28/100\n",
            "28/28 [==============================] - 0s 2ms/step - loss: 0.0919 - accuracy: 0.9927\n",
            "Epoch 29/100\n",
            "28/28 [==============================] - 0s 2ms/step - loss: 0.1416 - accuracy: 0.9855\n",
            "Epoch 30/100\n",
            "28/28 [==============================] - 0s 2ms/step - loss: 0.1335 - accuracy: 0.9891\n",
            "Epoch 31/100\n",
            "28/28 [==============================] - 0s 2ms/step - loss: 0.0343 - accuracy: 0.9927\n",
            "Epoch 32/100\n",
            "28/28 [==============================] - 0s 2ms/step - loss: 0.0481 - accuracy: 0.9891\n",
            "Epoch 33/100\n",
            "28/28 [==============================] - 0s 2ms/step - loss: 0.0516 - accuracy: 0.9891\n",
            "Epoch 34/100\n",
            "28/28 [==============================] - 0s 2ms/step - loss: 0.1384 - accuracy: 0.9891\n",
            "Epoch 35/100\n",
            "28/28 [==============================] - 0s 2ms/step - loss: 0.0780 - accuracy: 0.9891\n",
            "Epoch 36/100\n",
            "28/28 [==============================] - 0s 2ms/step - loss: 0.0459 - accuracy: 0.9891\n",
            "Epoch 37/100\n",
            "28/28 [==============================] - 0s 2ms/step - loss: 0.1762 - accuracy: 0.9927\n",
            "Epoch 38/100\n",
            "28/28 [==============================] - 0s 2ms/step - loss: 0.1654 - accuracy: 0.9782\n",
            "Epoch 39/100\n",
            "28/28 [==============================] - 0s 2ms/step - loss: 0.1214 - accuracy: 0.9782\n",
            "Epoch 40/100\n",
            "28/28 [==============================] - 0s 2ms/step - loss: 0.0015 - accuracy: 1.0000\n",
            "Epoch 41/100\n",
            "28/28 [==============================] - 0s 2ms/step - loss: 0.0065 - accuracy: 0.9964\n",
            "Epoch 42/100\n",
            "28/28 [==============================] - 0s 2ms/step - loss: 0.0035 - accuracy: 0.9964\n",
            "Epoch 43/100\n",
            "28/28 [==============================] - 0s 2ms/step - loss: 0.1823 - accuracy: 0.9855\n",
            "Epoch 44/100\n",
            "28/28 [==============================] - 0s 2ms/step - loss: 0.0723 - accuracy: 0.9927\n",
            "Epoch 45/100\n",
            "28/28 [==============================] - 0s 3ms/step - loss: 0.0076 - accuracy: 0.9964\n",
            "Epoch 46/100\n",
            "28/28 [==============================] - 0s 2ms/step - loss: 0.0118 - accuracy: 0.9891\n",
            "Epoch 47/100\n",
            "28/28 [==============================] - 0s 2ms/step - loss: 0.0340 - accuracy: 0.9927\n",
            "Epoch 48/100\n",
            "28/28 [==============================] - 0s 2ms/step - loss: 0.0012 - accuracy: 1.0000\n",
            "Epoch 49/100\n",
            "28/28 [==============================] - 0s 2ms/step - loss: 0.0298 - accuracy: 0.9891\n",
            "Epoch 50/100\n",
            "28/28 [==============================] - 0s 2ms/step - loss: 0.0510 - accuracy: 0.9855\n",
            "Epoch 51/100\n",
            "28/28 [==============================] - 0s 2ms/step - loss: 0.0301 - accuracy: 0.9964\n",
            "Epoch 52/100\n",
            "28/28 [==============================] - 0s 2ms/step - loss: 0.0181 - accuracy: 0.9964\n",
            "Epoch 53/100\n",
            "28/28 [==============================] - 0s 2ms/step - loss: 0.0029 - accuracy: 0.9964\n",
            "Epoch 54/100\n",
            "28/28 [==============================] - 0s 2ms/step - loss: 0.0017 - accuracy: 1.0000\n",
            "Epoch 55/100\n",
            "28/28 [==============================] - 0s 2ms/step - loss: 0.0060 - accuracy: 0.9964\n",
            "Epoch 56/100\n",
            "28/28 [==============================] - 0s 2ms/step - loss: 6.0661e-04 - accuracy: 1.0000\n",
            "Epoch 57/100\n",
            "28/28 [==============================] - 0s 2ms/step - loss: 0.0811 - accuracy: 0.9891\n",
            "Epoch 58/100\n",
            "28/28 [==============================] - 0s 2ms/step - loss: 1.3958e-05 - accuracy: 1.0000\n",
            "Epoch 59/100\n",
            "28/28 [==============================] - 0s 2ms/step - loss: 0.0153 - accuracy: 0.9964\n",
            "Epoch 60/100\n",
            "28/28 [==============================] - 0s 2ms/step - loss: 0.0699 - accuracy: 0.9891\n",
            "Epoch 61/100\n",
            "28/28 [==============================] - 0s 2ms/step - loss: 0.0143 - accuracy: 0.9927\n",
            "Epoch 62/100\n",
            "28/28 [==============================] - 0s 2ms/step - loss: 0.0511 - accuracy: 0.9891\n",
            "Epoch 63/100\n",
            "28/28 [==============================] - 0s 2ms/step - loss: 0.0223 - accuracy: 0.9964\n",
            "Epoch 64/100\n",
            "28/28 [==============================] - 0s 2ms/step - loss: 4.6742e-05 - accuracy: 1.0000\n",
            "Epoch 65/100\n",
            "28/28 [==============================] - 0s 2ms/step - loss: 2.6984e-05 - accuracy: 1.0000\n",
            "Epoch 66/100\n",
            "28/28 [==============================] - 0s 2ms/step - loss: 0.0023 - accuracy: 1.0000\n",
            "Epoch 67/100\n",
            "28/28 [==============================] - 0s 2ms/step - loss: 0.0086 - accuracy: 0.9927\n",
            "Epoch 68/100\n",
            "28/28 [==============================] - 0s 2ms/step - loss: 0.0422 - accuracy: 0.9964\n",
            "Epoch 69/100\n",
            "28/28 [==============================] - 0s 2ms/step - loss: 0.0152 - accuracy: 0.9964\n",
            "Epoch 70/100\n",
            "28/28 [==============================] - 0s 2ms/step - loss: 0.0327 - accuracy: 0.9964\n",
            "Epoch 71/100\n",
            "28/28 [==============================] - 0s 2ms/step - loss: 0.0013 - accuracy: 1.0000\n",
            "Epoch 72/100\n",
            "28/28 [==============================] - 0s 2ms/step - loss: 0.0059 - accuracy: 0.9964\n",
            "Epoch 73/100\n",
            "28/28 [==============================] - 0s 2ms/step - loss: 0.0010 - accuracy: 1.0000\n",
            "Epoch 74/100\n",
            "28/28 [==============================] - 0s 3ms/step - loss: 0.0468 - accuracy: 0.9891\n",
            "Epoch 75/100\n",
            "28/28 [==============================] - 0s 4ms/step - loss: 3.1516e-05 - accuracy: 1.0000\n",
            "Epoch 76/100\n",
            "28/28 [==============================] - 0s 2ms/step - loss: 9.1331e-04 - accuracy: 1.0000\n",
            "Epoch 77/100\n",
            "28/28 [==============================] - 0s 2ms/step - loss: 1.5383e-04 - accuracy: 1.0000\n",
            "Epoch 78/100\n",
            "28/28 [==============================] - 0s 2ms/step - loss: 3.6187e-04 - accuracy: 1.0000\n",
            "Epoch 79/100\n",
            "28/28 [==============================] - 0s 2ms/step - loss: 2.9813e-06 - accuracy: 1.0000\n",
            "Epoch 80/100\n",
            "28/28 [==============================] - 0s 3ms/step - loss: 0.0198 - accuracy: 0.9964\n",
            "Epoch 81/100\n",
            "28/28 [==============================] - 0s 2ms/step - loss: 0.0027 - accuracy: 1.0000\n",
            "Epoch 82/100\n",
            "28/28 [==============================] - 0s 2ms/step - loss: 0.0020 - accuracy: 1.0000\n",
            "Epoch 83/100\n",
            "28/28 [==============================] - 0s 2ms/step - loss: 8.5193e-04 - accuracy: 1.0000\n",
            "Epoch 84/100\n",
            "28/28 [==============================] - 0s 3ms/step - loss: 3.4085e-05 - accuracy: 1.0000\n",
            "Epoch 85/100\n",
            "28/28 [==============================] - 0s 2ms/step - loss: 7.0944e-05 - accuracy: 1.0000\n",
            "Epoch 86/100\n",
            "28/28 [==============================] - 0s 3ms/step - loss: 0.0137 - accuracy: 0.9964\n",
            "Epoch 87/100\n",
            "28/28 [==============================] - 0s 3ms/step - loss: 0.0315 - accuracy: 0.9964\n",
            "Epoch 88/100\n",
            "28/28 [==============================] - 0s 2ms/step - loss: 0.0089 - accuracy: 0.9964\n",
            "Epoch 89/100\n",
            "28/28 [==============================] - 0s 2ms/step - loss: 0.0155 - accuracy: 0.9964\n",
            "Epoch 90/100\n",
            "28/28 [==============================] - 0s 2ms/step - loss: 3.1203e-05 - accuracy: 1.0000\n",
            "Epoch 91/100\n",
            "28/28 [==============================] - 0s 2ms/step - loss: 5.8537e-05 - accuracy: 1.0000\n",
            "Epoch 92/100\n",
            "28/28 [==============================] - 0s 3ms/step - loss: 0.0049 - accuracy: 0.9964\n",
            "Epoch 93/100\n",
            "28/28 [==============================] - 0s 2ms/step - loss: 4.6679e-04 - accuracy: 1.0000\n",
            "Epoch 94/100\n",
            "28/28 [==============================] - 0s 3ms/step - loss: 0.0013 - accuracy: 1.0000\n",
            "Epoch 95/100\n",
            "28/28 [==============================] - 0s 2ms/step - loss: 5.6404e-05 - accuracy: 1.0000\n",
            "Epoch 96/100\n",
            "28/28 [==============================] - 0s 2ms/step - loss: 0.0012 - accuracy: 1.0000\n",
            "Epoch 97/100\n",
            "28/28 [==============================] - 0s 2ms/step - loss: 4.4598e-05 - accuracy: 1.0000\n",
            "Epoch 98/100\n",
            "28/28 [==============================] - 0s 2ms/step - loss: 0.0047 - accuracy: 0.9964\n",
            "Epoch 99/100\n",
            "28/28 [==============================] - 0s 2ms/step - loss: 0.0549 - accuracy: 0.9927\n",
            "Epoch 100/100\n",
            "28/28 [==============================] - 0s 2ms/step - loss: 4.9372e-05 - accuracy: 1.0000\n"
          ]
        }
      ]
    },
    {
      "cell_type": "code",
      "source": [
        "test_loss, test_accuracy = model.evaluate(principalComponents_test, y_testall, batch_size = 10)\n",
        "print('Test accuracy:', test_accuracy)"
      ],
      "metadata": {
        "colab": {
          "base_uri": "https://localhost:8080/"
        },
        "id": "iLpCpCMhCk4v",
        "outputId": "91ced571-5710-41a2-d7fc-147734110b0b"
      },
      "execution_count": 41,
      "outputs": [
        {
          "output_type": "stream",
          "name": "stdout",
          "text": [
            "21/21 [==============================] - 0s 2ms/step - loss: 4.5587 - accuracy: 0.8125\n",
            "Test accuracy: 0.8125\n"
          ]
        }
      ]
    },
    {
      "cell_type": "code",
      "source": [
        "# Model for 3rd Cluster\n",
        "import tensorflow as tf\n",
        "from keras.models import Sequential\n",
        "from keras.layers import Flatten, Dense, Dropout\n",
        "\n",
        "model = Sequential()\n",
        "model.add(Flatten(input_shape=principalComponents.shape[1:]))\n",
        "model.add(Dense(64, activation='relu'))\n",
        "model.add(Dropout(0.5))\n",
        "model.add(Dense(1, activation='sigmoid'))\n",
        "\n",
        "model.compile(optimizer='adam', loss='binary_crossentropy', metrics=['accuracy'])\n",
        "\n",
        "history = model.fit(cluster3_features, y2, epochs=100, batch_size=10)"
      ],
      "metadata": {
        "id": "maz9A7y3CzaK",
        "colab": {
          "base_uri": "https://localhost:8080/"
        },
        "outputId": "ca765382-e355-4844-f141-c26225bb1a09"
      },
      "execution_count": 42,
      "outputs": [
        {
          "output_type": "stream",
          "name": "stdout",
          "text": [
            "Epoch 1/100\n",
            "26/26 [==============================] - 1s 2ms/step - loss: 2.8319 - accuracy: 0.8086\n",
            "Epoch 2/100\n",
            "26/26 [==============================] - 0s 2ms/step - loss: 2.2474 - accuracy: 0.8711\n",
            "Epoch 3/100\n",
            "26/26 [==============================] - 0s 2ms/step - loss: 0.9346 - accuracy: 0.9219\n",
            "Epoch 4/100\n",
            "26/26 [==============================] - 0s 3ms/step - loss: 0.2293 - accuracy: 0.9844\n",
            "Epoch 5/100\n",
            "26/26 [==============================] - 0s 3ms/step - loss: 0.4529 - accuracy: 0.9492\n",
            "Epoch 6/100\n",
            "26/26 [==============================] - 0s 2ms/step - loss: 0.1091 - accuracy: 0.9766\n",
            "Epoch 7/100\n",
            "26/26 [==============================] - 0s 2ms/step - loss: 0.1626 - accuracy: 0.9727\n",
            "Epoch 8/100\n",
            "26/26 [==============================] - 0s 2ms/step - loss: 0.1146 - accuracy: 0.9844\n",
            "Epoch 9/100\n",
            "26/26 [==============================] - 0s 2ms/step - loss: 0.1455 - accuracy: 0.9492\n",
            "Epoch 10/100\n",
            "26/26 [==============================] - 0s 2ms/step - loss: 0.1421 - accuracy: 0.9766\n",
            "Epoch 11/100\n",
            "26/26 [==============================] - 0s 2ms/step - loss: 0.0702 - accuracy: 0.9844\n",
            "Epoch 12/100\n",
            "26/26 [==============================] - 0s 3ms/step - loss: 0.0685 - accuracy: 0.9922\n",
            "Epoch 13/100\n",
            "26/26 [==============================] - 0s 3ms/step - loss: 0.0190 - accuracy: 0.9961\n",
            "Epoch 14/100\n",
            "26/26 [==============================] - 0s 3ms/step - loss: 0.0949 - accuracy: 0.9844\n",
            "Epoch 15/100\n",
            "26/26 [==============================] - 0s 3ms/step - loss: 3.5693e-04 - accuracy: 1.0000\n",
            "Epoch 16/100\n",
            "26/26 [==============================] - 0s 2ms/step - loss: 0.0169 - accuracy: 0.9961\n",
            "Epoch 17/100\n",
            "26/26 [==============================] - 0s 2ms/step - loss: 0.0635 - accuracy: 0.9883\n",
            "Epoch 18/100\n",
            "26/26 [==============================] - 0s 3ms/step - loss: 0.0327 - accuracy: 0.9883\n",
            "Epoch 19/100\n",
            "26/26 [==============================] - 0s 2ms/step - loss: 0.0248 - accuracy: 0.9961\n",
            "Epoch 20/100\n",
            "26/26 [==============================] - 0s 3ms/step - loss: 0.1423 - accuracy: 0.9883\n",
            "Epoch 21/100\n",
            "26/26 [==============================] - 0s 2ms/step - loss: 0.0119 - accuracy: 0.9961\n",
            "Epoch 22/100\n",
            "26/26 [==============================] - 0s 3ms/step - loss: 0.0406 - accuracy: 0.9922\n",
            "Epoch 23/100\n",
            "26/26 [==============================] - 0s 2ms/step - loss: 1.6831e-04 - accuracy: 1.0000\n",
            "Epoch 24/100\n",
            "26/26 [==============================] - 0s 3ms/step - loss: 0.0181 - accuracy: 0.9961\n",
            "Epoch 25/100\n",
            "26/26 [==============================] - 0s 2ms/step - loss: 2.1400e-04 - accuracy: 1.0000\n",
            "Epoch 26/100\n",
            "26/26 [==============================] - 0s 2ms/step - loss: 0.0013 - accuracy: 1.0000\n",
            "Epoch 27/100\n",
            "26/26 [==============================] - 0s 2ms/step - loss: 0.0502 - accuracy: 0.9961\n",
            "Epoch 28/100\n",
            "26/26 [==============================] - 0s 3ms/step - loss: 0.0277 - accuracy: 0.9883\n",
            "Epoch 29/100\n",
            "26/26 [==============================] - 0s 2ms/step - loss: 1.6662e-04 - accuracy: 1.0000\n",
            "Epoch 30/100\n",
            "26/26 [==============================] - 0s 2ms/step - loss: 0.0014 - accuracy: 1.0000\n",
            "Epoch 31/100\n",
            "26/26 [==============================] - 0s 2ms/step - loss: 0.0583 - accuracy: 0.9922\n",
            "Epoch 32/100\n",
            "26/26 [==============================] - 0s 3ms/step - loss: 0.0214 - accuracy: 0.9961\n",
            "Epoch 33/100\n",
            "26/26 [==============================] - 0s 3ms/step - loss: 0.0125 - accuracy: 0.9961\n",
            "Epoch 34/100\n",
            "26/26 [==============================] - 0s 2ms/step - loss: 8.6882e-04 - accuracy: 1.0000\n",
            "Epoch 35/100\n",
            "26/26 [==============================] - 0s 2ms/step - loss: 5.8939e-05 - accuracy: 1.0000\n",
            "Epoch 36/100\n",
            "26/26 [==============================] - 0s 3ms/step - loss: 0.0263 - accuracy: 0.9961\n",
            "Epoch 37/100\n",
            "26/26 [==============================] - 0s 2ms/step - loss: 8.9729e-04 - accuracy: 1.0000\n",
            "Epoch 38/100\n",
            "26/26 [==============================] - 0s 3ms/step - loss: 0.0128 - accuracy: 0.9961\n",
            "Epoch 39/100\n",
            "26/26 [==============================] - 0s 2ms/step - loss: 0.0014 - accuracy: 1.0000\n",
            "Epoch 40/100\n",
            "26/26 [==============================] - 0s 2ms/step - loss: 0.0472 - accuracy: 0.9961\n",
            "Epoch 41/100\n",
            "26/26 [==============================] - 0s 2ms/step - loss: 0.0046 - accuracy: 0.9961\n",
            "Epoch 42/100\n",
            "26/26 [==============================] - 0s 2ms/step - loss: 3.8798e-04 - accuracy: 1.0000\n",
            "Epoch 43/100\n",
            "26/26 [==============================] - 0s 3ms/step - loss: 3.4653e-04 - accuracy: 1.0000\n",
            "Epoch 44/100\n",
            "26/26 [==============================] - 0s 2ms/step - loss: 7.9897e-05 - accuracy: 1.0000\n",
            "Epoch 45/100\n",
            "26/26 [==============================] - 0s 3ms/step - loss: 0.0014 - accuracy: 1.0000\n",
            "Epoch 46/100\n",
            "26/26 [==============================] - 0s 2ms/step - loss: 0.0040 - accuracy: 0.9961\n",
            "Epoch 47/100\n",
            "26/26 [==============================] - 0s 2ms/step - loss: 2.7154e-05 - accuracy: 1.0000\n",
            "Epoch 48/100\n",
            "26/26 [==============================] - 0s 2ms/step - loss: 0.0028 - accuracy: 0.9961\n",
            "Epoch 49/100\n",
            "26/26 [==============================] - 0s 2ms/step - loss: 0.0022 - accuracy: 1.0000\n",
            "Epoch 50/100\n",
            "26/26 [==============================] - 0s 2ms/step - loss: 0.0025 - accuracy: 1.0000\n",
            "Epoch 51/100\n",
            "26/26 [==============================] - 0s 2ms/step - loss: 1.2358e-04 - accuracy: 1.0000\n",
            "Epoch 52/100\n",
            "26/26 [==============================] - 0s 3ms/step - loss: 0.0347 - accuracy: 0.9961\n",
            "Epoch 53/100\n",
            "26/26 [==============================] - 0s 2ms/step - loss: 3.9557e-05 - accuracy: 1.0000\n",
            "Epoch 54/100\n",
            "26/26 [==============================] - 0s 2ms/step - loss: 0.0015 - accuracy: 1.0000\n",
            "Epoch 55/100\n",
            "26/26 [==============================] - 0s 2ms/step - loss: 0.0014 - accuracy: 1.0000\n",
            "Epoch 56/100\n",
            "26/26 [==============================] - 0s 2ms/step - loss: 1.4476e-06 - accuracy: 1.0000\n",
            "Epoch 57/100\n",
            "26/26 [==============================] - 0s 2ms/step - loss: 1.2772e-04 - accuracy: 1.0000\n",
            "Epoch 58/100\n",
            "26/26 [==============================] - 0s 2ms/step - loss: 3.9410e-05 - accuracy: 1.0000\n",
            "Epoch 59/100\n",
            "26/26 [==============================] - 0s 2ms/step - loss: 1.7408e-04 - accuracy: 1.0000\n",
            "Epoch 60/100\n",
            "26/26 [==============================] - 0s 2ms/step - loss: 0.0179 - accuracy: 0.9922\n",
            "Epoch 61/100\n",
            "26/26 [==============================] - 0s 2ms/step - loss: 0.0137 - accuracy: 0.9922\n",
            "Epoch 62/100\n",
            "26/26 [==============================] - 0s 2ms/step - loss: 9.7200e-04 - accuracy: 1.0000\n",
            "Epoch 63/100\n",
            "26/26 [==============================] - 0s 2ms/step - loss: 4.2594e-05 - accuracy: 1.0000\n",
            "Epoch 64/100\n",
            "26/26 [==============================] - 0s 2ms/step - loss: 0.0192 - accuracy: 0.9961\n",
            "Epoch 65/100\n",
            "26/26 [==============================] - 0s 2ms/step - loss: 0.0058 - accuracy: 0.9961\n",
            "Epoch 66/100\n",
            "26/26 [==============================] - 0s 2ms/step - loss: 0.0015 - accuracy: 1.0000\n",
            "Epoch 67/100\n",
            "26/26 [==============================] - 0s 2ms/step - loss: 5.1140e-05 - accuracy: 1.0000\n",
            "Epoch 68/100\n",
            "26/26 [==============================] - 0s 2ms/step - loss: 1.0801e-04 - accuracy: 1.0000\n",
            "Epoch 69/100\n",
            "26/26 [==============================] - 0s 2ms/step - loss: 4.8022e-04 - accuracy: 1.0000\n",
            "Epoch 70/100\n",
            "26/26 [==============================] - 0s 2ms/step - loss: 0.0013 - accuracy: 1.0000\n",
            "Epoch 71/100\n",
            "26/26 [==============================] - 0s 2ms/step - loss: 1.1726e-04 - accuracy: 1.0000\n",
            "Epoch 72/100\n",
            "26/26 [==============================] - 0s 2ms/step - loss: 0.0027 - accuracy: 1.0000\n",
            "Epoch 73/100\n",
            "26/26 [==============================] - 0s 2ms/step - loss: 0.0579 - accuracy: 0.9961\n",
            "Epoch 74/100\n",
            "26/26 [==============================] - 0s 3ms/step - loss: 7.2998e-05 - accuracy: 1.0000\n",
            "Epoch 75/100\n",
            "26/26 [==============================] - 0s 3ms/step - loss: 0.0011 - accuracy: 1.0000\n",
            "Epoch 76/100\n",
            "26/26 [==============================] - 0s 3ms/step - loss: 2.3387e-05 - accuracy: 1.0000\n",
            "Epoch 77/100\n",
            "26/26 [==============================] - 0s 3ms/step - loss: 4.2298e-05 - accuracy: 1.0000\n",
            "Epoch 78/100\n",
            "26/26 [==============================] - 0s 2ms/step - loss: 0.0070 - accuracy: 0.9961\n",
            "Epoch 79/100\n",
            "26/26 [==============================] - 0s 3ms/step - loss: 0.0056 - accuracy: 0.9961\n",
            "Epoch 80/100\n",
            "26/26 [==============================] - 0s 2ms/step - loss: 7.9655e-05 - accuracy: 1.0000\n",
            "Epoch 81/100\n",
            "26/26 [==============================] - 0s 2ms/step - loss: 0.0069 - accuracy: 0.9961\n",
            "Epoch 82/100\n",
            "26/26 [==============================] - 0s 2ms/step - loss: 1.9857e-04 - accuracy: 1.0000\n",
            "Epoch 83/100\n",
            "26/26 [==============================] - 0s 2ms/step - loss: 1.0636e-04 - accuracy: 1.0000\n",
            "Epoch 84/100\n",
            "26/26 [==============================] - 0s 2ms/step - loss: 1.2678e-04 - accuracy: 1.0000\n",
            "Epoch 85/100\n",
            "26/26 [==============================] - 0s 2ms/step - loss: 0.0036 - accuracy: 0.9961\n",
            "Epoch 86/100\n",
            "26/26 [==============================] - 0s 2ms/step - loss: 0.0080 - accuracy: 0.9961\n",
            "Epoch 87/100\n",
            "26/26 [==============================] - 0s 2ms/step - loss: 1.4123e-05 - accuracy: 1.0000\n",
            "Epoch 88/100\n",
            "26/26 [==============================] - 0s 2ms/step - loss: 0.0679 - accuracy: 0.9922\n",
            "Epoch 89/100\n",
            "26/26 [==============================] - 0s 2ms/step - loss: 0.0017 - accuracy: 1.0000\n",
            "Epoch 90/100\n",
            "26/26 [==============================] - 0s 2ms/step - loss: 0.0216 - accuracy: 0.9922\n",
            "Epoch 91/100\n",
            "26/26 [==============================] - 0s 2ms/step - loss: 4.6632e-05 - accuracy: 1.0000\n",
            "Epoch 92/100\n",
            "26/26 [==============================] - 0s 2ms/step - loss: 0.0019 - accuracy: 1.0000\n",
            "Epoch 93/100\n",
            "26/26 [==============================] - 0s 2ms/step - loss: 4.1901e-05 - accuracy: 1.0000\n",
            "Epoch 94/100\n",
            "26/26 [==============================] - 0s 2ms/step - loss: 3.9161e-04 - accuracy: 1.0000\n",
            "Epoch 95/100\n",
            "26/26 [==============================] - 0s 2ms/step - loss: 4.2542e-05 - accuracy: 1.0000\n",
            "Epoch 96/100\n",
            "26/26 [==============================] - 0s 2ms/step - loss: 7.1409e-05 - accuracy: 1.0000\n",
            "Epoch 97/100\n",
            "26/26 [==============================] - 0s 2ms/step - loss: 2.7647e-04 - accuracy: 1.0000\n",
            "Epoch 98/100\n",
            "26/26 [==============================] - 0s 2ms/step - loss: 4.2279e-04 - accuracy: 1.0000\n",
            "Epoch 99/100\n",
            "26/26 [==============================] - 0s 2ms/step - loss: 0.0068 - accuracy: 0.9961\n",
            "Epoch 100/100\n",
            "26/26 [==============================] - 0s 2ms/step - loss: 0.0040 - accuracy: 1.0000\n"
          ]
        }
      ]
    },
    {
      "cell_type": "code",
      "source": [
        "test_loss, test_accuracy = model.evaluate(principalComponents_test, y_testall, batch_size = 10)\n",
        "print('Test accuracy:', test_accuracy)"
      ],
      "metadata": {
        "colab": {
          "base_uri": "https://localhost:8080/"
        },
        "id": "EM-vrBkhDU9z",
        "outputId": "c3cc5cba-139d-444f-b24a-69432aee0575"
      },
      "execution_count": 43,
      "outputs": [
        {
          "output_type": "stream",
          "name": "stdout",
          "text": [
            "21/21 [==============================] - 0s 2ms/step - loss: 19.1916 - accuracy: 0.5144\n",
            "Test accuracy: 0.5144230723381042\n"
          ]
        }
      ]
    },
    {
      "cell_type": "code",
      "source": [
        "# Random sample n=257 from the training data (to compare with 3rd cluster and leave out the effect of sample size)\n",
        "import random\n",
        "principalComponents_list = list(principalComponents)\n",
        "sample3 = random.sample(principalComponents_list, 257)\n",
        "sample3= np.array(sample3)\n",
        "sample3.shape\n",
        "indexes3 = []\n",
        "for s in sample3:\n",
        "    index = np.where(principalComponents == s)[0][0]\n",
        "    indexes3.append(index)\n",
        "len(indexes3)\n",
        "\n",
        "y2_random = [y[index] for index in indexes3]\n",
        "y2_random = np.array(y2_random, dtype=np.int64)\n",
        "y2_random.shape"
      ],
      "metadata": {
        "colab": {
          "base_uri": "https://localhost:8080/"
        },
        "id": "De4pNgWfDaCQ",
        "outputId": "d9b64837-e5f1-42dc-fc18-1fc222d1c0f0"
      },
      "execution_count": 44,
      "outputs": [
        {
          "output_type": "execute_result",
          "data": {
            "text/plain": [
              "(257,)"
            ]
          },
          "metadata": {},
          "execution_count": 44
        }
      ]
    },
    {
      "cell_type": "code",
      "source": [
        "# Model for the random sample (to be compared with 3rd cluster)\n",
        "import tensorflow as tf\n",
        "from keras.models import Sequential\n",
        "from keras.layers import Flatten, Dense, Dropout\n",
        "\n",
        "model = Sequential()\n",
        "model.add(Flatten(input_shape=principalComponents.shape[1:]))\n",
        "model.add(Dense(64, activation='relu'))\n",
        "model.add(Dropout(0.5))\n",
        "model.add(Dense(1, activation='sigmoid'))\n",
        "\n",
        "model.compile(optimizer='adam', loss='binary_crossentropy', metrics=['accuracy'])\n",
        "\n",
        "history = model.fit(sample3, y2_random, epochs=100, batch_size=10)"
      ],
      "metadata": {
        "id": "d1K1tkQNDzmc",
        "colab": {
          "base_uri": "https://localhost:8080/"
        },
        "outputId": "7b39bc6e-c0d0-4646-e4fb-b812237091a2"
      },
      "execution_count": 45,
      "outputs": [
        {
          "output_type": "stream",
          "name": "stdout",
          "text": [
            "Epoch 1/100\n",
            "26/26 [==============================] - 1s 2ms/step - loss: 8.1016 - accuracy: 0.5292\n",
            "Epoch 2/100\n",
            "26/26 [==============================] - 0s 2ms/step - loss: 4.9994 - accuracy: 0.5992\n",
            "Epoch 3/100\n",
            "26/26 [==============================] - 0s 2ms/step - loss: 2.0399 - accuracy: 0.8171\n",
            "Epoch 4/100\n",
            "26/26 [==============================] - 0s 2ms/step - loss: 1.8023 - accuracy: 0.8132\n",
            "Epoch 5/100\n",
            "26/26 [==============================] - 0s 2ms/step - loss: 1.5725 - accuracy: 0.8755\n",
            "Epoch 6/100\n",
            "26/26 [==============================] - 0s 2ms/step - loss: 0.7252 - accuracy: 0.9027\n",
            "Epoch 7/100\n",
            "26/26 [==============================] - 0s 2ms/step - loss: 1.0824 - accuracy: 0.8988\n",
            "Epoch 8/100\n",
            "26/26 [==============================] - 0s 2ms/step - loss: 0.7784 - accuracy: 0.9144\n",
            "Epoch 9/100\n",
            "26/26 [==============================] - 0s 2ms/step - loss: 0.6338 - accuracy: 0.9183\n",
            "Epoch 10/100\n",
            "26/26 [==============================] - 0s 2ms/step - loss: 0.2017 - accuracy: 0.9572\n",
            "Epoch 11/100\n",
            "26/26 [==============================] - 0s 2ms/step - loss: 0.3457 - accuracy: 0.9494\n",
            "Epoch 12/100\n",
            "26/26 [==============================] - 0s 2ms/step - loss: 0.2720 - accuracy: 0.9572\n",
            "Epoch 13/100\n",
            "26/26 [==============================] - 0s 2ms/step - loss: 0.2073 - accuracy: 0.9572\n",
            "Epoch 14/100\n",
            "26/26 [==============================] - 0s 3ms/step - loss: 0.3215 - accuracy: 0.9650\n",
            "Epoch 15/100\n",
            "26/26 [==============================] - 0s 2ms/step - loss: 0.3941 - accuracy: 0.9689\n",
            "Epoch 16/100\n",
            "26/26 [==============================] - 0s 2ms/step - loss: 0.4073 - accuracy: 0.9533\n",
            "Epoch 17/100\n",
            "26/26 [==============================] - 0s 2ms/step - loss: 0.0441 - accuracy: 0.9922\n",
            "Epoch 18/100\n",
            "26/26 [==============================] - 0s 3ms/step - loss: 0.1526 - accuracy: 0.9689\n",
            "Epoch 19/100\n",
            "26/26 [==============================] - 0s 2ms/step - loss: 0.2282 - accuracy: 0.9650\n",
            "Epoch 20/100\n",
            "26/26 [==============================] - 0s 2ms/step - loss: 0.1203 - accuracy: 0.9767\n",
            "Epoch 21/100\n",
            "26/26 [==============================] - 0s 3ms/step - loss: 0.2481 - accuracy: 0.9689\n",
            "Epoch 22/100\n",
            "26/26 [==============================] - 0s 3ms/step - loss: 0.1212 - accuracy: 0.9805\n",
            "Epoch 23/100\n",
            "26/26 [==============================] - 0s 2ms/step - loss: 0.2354 - accuracy: 0.9767\n",
            "Epoch 24/100\n",
            "26/26 [==============================] - 0s 3ms/step - loss: 0.0612 - accuracy: 0.9805\n",
            "Epoch 25/100\n",
            "26/26 [==============================] - 0s 2ms/step - loss: 0.0562 - accuracy: 0.9883\n",
            "Epoch 26/100\n",
            "26/26 [==============================] - 0s 3ms/step - loss: 0.2036 - accuracy: 0.9689\n",
            "Epoch 27/100\n",
            "26/26 [==============================] - 0s 2ms/step - loss: 0.0849 - accuracy: 0.9844\n",
            "Epoch 28/100\n",
            "26/26 [==============================] - 0s 2ms/step - loss: 0.0345 - accuracy: 0.9922\n",
            "Epoch 29/100\n",
            "26/26 [==============================] - 0s 2ms/step - loss: 0.1976 - accuracy: 0.9728\n",
            "Epoch 30/100\n",
            "26/26 [==============================] - 0s 2ms/step - loss: 0.3803 - accuracy: 0.9844\n",
            "Epoch 31/100\n",
            "26/26 [==============================] - 0s 2ms/step - loss: 0.0223 - accuracy: 0.9883\n",
            "Epoch 32/100\n",
            "26/26 [==============================] - 0s 2ms/step - loss: 0.0909 - accuracy: 0.9961\n",
            "Epoch 33/100\n",
            "26/26 [==============================] - 0s 2ms/step - loss: 0.0624 - accuracy: 0.9883\n",
            "Epoch 34/100\n",
            "26/26 [==============================] - 0s 2ms/step - loss: 0.0417 - accuracy: 0.9883\n",
            "Epoch 35/100\n",
            "26/26 [==============================] - 0s 2ms/step - loss: 0.0209 - accuracy: 0.9961\n",
            "Epoch 36/100\n",
            "26/26 [==============================] - 0s 2ms/step - loss: 0.0062 - accuracy: 0.9961\n",
            "Epoch 37/100\n",
            "26/26 [==============================] - 0s 2ms/step - loss: 0.1426 - accuracy: 0.9922\n",
            "Epoch 38/100\n",
            "26/26 [==============================] - 0s 2ms/step - loss: 5.0298e-04 - accuracy: 1.0000\n",
            "Epoch 39/100\n",
            "26/26 [==============================] - 0s 2ms/step - loss: 0.0686 - accuracy: 0.9844\n",
            "Epoch 40/100\n",
            "26/26 [==============================] - 0s 2ms/step - loss: 0.0860 - accuracy: 0.9805\n",
            "Epoch 41/100\n",
            "26/26 [==============================] - 0s 2ms/step - loss: 0.0532 - accuracy: 0.9961\n",
            "Epoch 42/100\n",
            "26/26 [==============================] - 0s 2ms/step - loss: 0.0590 - accuracy: 0.9844\n",
            "Epoch 43/100\n",
            "26/26 [==============================] - 0s 2ms/step - loss: 0.0538 - accuracy: 0.9844\n",
            "Epoch 44/100\n",
            "26/26 [==============================] - 0s 2ms/step - loss: 0.0018 - accuracy: 1.0000\n",
            "Epoch 45/100\n",
            "26/26 [==============================] - 0s 2ms/step - loss: 0.0242 - accuracy: 0.9922\n",
            "Epoch 46/100\n",
            "26/26 [==============================] - 0s 2ms/step - loss: 9.1713e-04 - accuracy: 1.0000\n",
            "Epoch 47/100\n",
            "26/26 [==============================] - 0s 2ms/step - loss: 0.0337 - accuracy: 0.9883\n",
            "Epoch 48/100\n",
            "26/26 [==============================] - 0s 2ms/step - loss: 0.0080 - accuracy: 0.9961\n",
            "Epoch 49/100\n",
            "26/26 [==============================] - 0s 2ms/step - loss: 0.1019 - accuracy: 0.9922\n",
            "Epoch 50/100\n",
            "26/26 [==============================] - 0s 2ms/step - loss: 0.0518 - accuracy: 0.9883\n",
            "Epoch 51/100\n",
            "26/26 [==============================] - 0s 2ms/step - loss: 0.0020 - accuracy: 1.0000\n",
            "Epoch 52/100\n",
            "26/26 [==============================] - 0s 2ms/step - loss: 0.0091 - accuracy: 0.9961\n",
            "Epoch 53/100\n",
            "26/26 [==============================] - 0s 2ms/step - loss: 0.0098 - accuracy: 0.9961\n",
            "Epoch 54/100\n",
            "26/26 [==============================] - 0s 2ms/step - loss: 0.0061 - accuracy: 0.9961\n",
            "Epoch 55/100\n",
            "26/26 [==============================] - 0s 2ms/step - loss: 4.3900e-04 - accuracy: 1.0000\n",
            "Epoch 56/100\n",
            "26/26 [==============================] - 0s 2ms/step - loss: 0.0253 - accuracy: 0.9961\n",
            "Epoch 57/100\n",
            "26/26 [==============================] - 0s 2ms/step - loss: 0.0818 - accuracy: 0.9922\n",
            "Epoch 58/100\n",
            "26/26 [==============================] - 0s 2ms/step - loss: 0.0078 - accuracy: 0.9961\n",
            "Epoch 59/100\n",
            "26/26 [==============================] - 0s 2ms/step - loss: 0.0108 - accuracy: 0.9961\n",
            "Epoch 60/100\n",
            "26/26 [==============================] - 0s 2ms/step - loss: 0.0475 - accuracy: 0.9883\n",
            "Epoch 61/100\n",
            "26/26 [==============================] - 0s 2ms/step - loss: 0.0123 - accuracy: 0.9922\n",
            "Epoch 62/100\n",
            "26/26 [==============================] - 0s 2ms/step - loss: 0.0084 - accuracy: 0.9922\n",
            "Epoch 63/100\n",
            "26/26 [==============================] - 0s 3ms/step - loss: 0.0085 - accuracy: 0.9961\n",
            "Epoch 64/100\n",
            "26/26 [==============================] - 0s 3ms/step - loss: 0.0769 - accuracy: 0.9922\n",
            "Epoch 65/100\n",
            "26/26 [==============================] - 0s 2ms/step - loss: 0.0373 - accuracy: 0.9922\n",
            "Epoch 66/100\n",
            "26/26 [==============================] - 0s 3ms/step - loss: 0.0077 - accuracy: 0.9922\n",
            "Epoch 67/100\n",
            "26/26 [==============================] - 0s 3ms/step - loss: 0.0017 - accuracy: 1.0000\n",
            "Epoch 68/100\n",
            "26/26 [==============================] - 0s 2ms/step - loss: 8.1419e-04 - accuracy: 1.0000\n",
            "Epoch 69/100\n",
            "26/26 [==============================] - 0s 3ms/step - loss: 0.0011 - accuracy: 1.0000\n",
            "Epoch 70/100\n",
            "26/26 [==============================] - 0s 3ms/step - loss: 0.0020 - accuracy: 1.0000\n",
            "Epoch 71/100\n",
            "26/26 [==============================] - 0s 2ms/step - loss: 0.0062 - accuracy: 0.9961\n",
            "Epoch 72/100\n",
            "26/26 [==============================] - 0s 2ms/step - loss: 0.0072 - accuracy: 0.9961\n",
            "Epoch 73/100\n",
            "26/26 [==============================] - 0s 3ms/step - loss: 0.0445 - accuracy: 0.9922\n",
            "Epoch 74/100\n",
            "26/26 [==============================] - 0s 2ms/step - loss: 0.0251 - accuracy: 0.9961\n",
            "Epoch 75/100\n",
            "26/26 [==============================] - 0s 3ms/step - loss: 0.0162 - accuracy: 0.9961\n",
            "Epoch 76/100\n",
            "26/26 [==============================] - 0s 2ms/step - loss: 0.0249 - accuracy: 0.9922\n",
            "Epoch 77/100\n",
            "26/26 [==============================] - 0s 3ms/step - loss: 5.3360e-04 - accuracy: 1.0000\n",
            "Epoch 78/100\n",
            "26/26 [==============================] - 0s 2ms/step - loss: 5.2224e-04 - accuracy: 1.0000\n",
            "Epoch 79/100\n",
            "26/26 [==============================] - 0s 3ms/step - loss: 0.0095 - accuracy: 0.9961\n",
            "Epoch 80/100\n",
            "26/26 [==============================] - 0s 3ms/step - loss: 0.0042 - accuracy: 0.9961\n",
            "Epoch 81/100\n",
            "26/26 [==============================] - 0s 3ms/step - loss: 9.8155e-04 - accuracy: 1.0000\n",
            "Epoch 82/100\n",
            "26/26 [==============================] - 0s 2ms/step - loss: 0.0183 - accuracy: 0.9961\n",
            "Epoch 83/100\n",
            "26/26 [==============================] - 0s 3ms/step - loss: 0.0407 - accuracy: 0.9883\n",
            "Epoch 84/100\n",
            "26/26 [==============================] - 0s 3ms/step - loss: 7.6537e-05 - accuracy: 1.0000\n",
            "Epoch 85/100\n",
            "26/26 [==============================] - 0s 3ms/step - loss: 0.0098 - accuracy: 0.9961\n",
            "Epoch 86/100\n",
            "26/26 [==============================] - 0s 2ms/step - loss: 8.7985e-04 - accuracy: 1.0000\n",
            "Epoch 87/100\n",
            "26/26 [==============================] - 0s 2ms/step - loss: 0.0198 - accuracy: 0.9883\n",
            "Epoch 88/100\n",
            "26/26 [==============================] - 0s 3ms/step - loss: 0.0040 - accuracy: 0.9961\n",
            "Epoch 89/100\n",
            "26/26 [==============================] - 0s 2ms/step - loss: 4.6879e-05 - accuracy: 1.0000\n",
            "Epoch 90/100\n",
            "26/26 [==============================] - 0s 2ms/step - loss: 3.3427e-05 - accuracy: 1.0000\n",
            "Epoch 91/100\n",
            "26/26 [==============================] - 0s 3ms/step - loss: 0.0083 - accuracy: 0.9961\n",
            "Epoch 92/100\n",
            "26/26 [==============================] - 0s 2ms/step - loss: 1.5526e-04 - accuracy: 1.0000\n",
            "Epoch 93/100\n",
            "26/26 [==============================] - 0s 3ms/step - loss: 0.0086 - accuracy: 0.9961\n",
            "Epoch 94/100\n",
            "26/26 [==============================] - 0s 3ms/step - loss: 0.0024 - accuracy: 1.0000\n",
            "Epoch 95/100\n",
            "26/26 [==============================] - 0s 3ms/step - loss: 0.0211 - accuracy: 0.9961\n",
            "Epoch 96/100\n",
            "26/26 [==============================] - 0s 2ms/step - loss: 0.0202 - accuracy: 0.9961\n",
            "Epoch 97/100\n",
            "26/26 [==============================] - 0s 3ms/step - loss: 6.1516e-04 - accuracy: 1.0000\n",
            "Epoch 98/100\n",
            "26/26 [==============================] - 0s 2ms/step - loss: 0.0196 - accuracy: 0.9961\n",
            "Epoch 99/100\n",
            "26/26 [==============================] - 0s 2ms/step - loss: 0.0341 - accuracy: 0.9844\n",
            "Epoch 100/100\n",
            "26/26 [==============================] - 0s 2ms/step - loss: 5.7106e-05 - accuracy: 1.0000\n"
          ]
        }
      ]
    },
    {
      "cell_type": "code",
      "source": [
        "test_loss, test_accuracy = model.evaluate(principalComponents_test, y_testall, batch_size = 10)\n",
        "print('Test accuracy:', test_accuracy)"
      ],
      "metadata": {
        "colab": {
          "base_uri": "https://localhost:8080/"
        },
        "id": "tWp7jbp_D8bl",
        "outputId": "f71e5d05-b206-4b90-91ad-c7ae9acf99f8"
      },
      "execution_count": 46,
      "outputs": [
        {
          "output_type": "stream",
          "name": "stdout",
          "text": [
            "21/21 [==============================] - 0s 2ms/step - loss: 3.1223 - accuracy: 0.8221\n",
            "Test accuracy: 0.8221153616905212\n"
          ]
        }
      ]
    },
    {
      "cell_type": "code",
      "source": [
        "# Model for 4th Cluster\n",
        "import tensorflow as tf\n",
        "from keras.models import Sequential\n",
        "from keras.layers import Flatten, Dense, Dropout\n",
        "\n",
        "model = Sequential()\n",
        "model.add(Flatten(input_shape=principalComponents.shape[1:]))\n",
        "model.add(Dense(64, activation='relu'))\n",
        "model.add(Dropout(0.5))\n",
        "model.add(Dense(1, activation='sigmoid'))\n",
        "\n",
        "model.compile(optimizer='adam', loss='binary_crossentropy', metrics=['accuracy'])\n",
        "\n",
        "history = model.fit(cluster4_features, y3, epochs=100, batch_size=10)"
      ],
      "metadata": {
        "id": "Eo2ZA3mXECXe",
        "colab": {
          "base_uri": "https://localhost:8080/"
        },
        "outputId": "eb63f35b-31a7-44c2-8f34-352e9501ed88"
      },
      "execution_count": 47,
      "outputs": [
        {
          "output_type": "stream",
          "name": "stdout",
          "text": [
            "Epoch 1/100\n",
            "10/10 [==============================] - 1s 2ms/step - loss: 9.2518 - accuracy: 0.6667\n",
            "Epoch 2/100\n",
            "10/10 [==============================] - 0s 2ms/step - loss: 9.3737 - accuracy: 0.6237\n",
            "Epoch 3/100\n",
            "10/10 [==============================] - 0s 2ms/step - loss: 8.1396 - accuracy: 0.7097\n",
            "Epoch 4/100\n",
            "10/10 [==============================] - 0s 2ms/step - loss: 4.7170 - accuracy: 0.8495\n",
            "Epoch 5/100\n",
            "10/10 [==============================] - 0s 2ms/step - loss: 2.2876 - accuracy: 0.8817\n",
            "Epoch 6/100\n",
            "10/10 [==============================] - 0s 2ms/step - loss: 4.2390 - accuracy: 0.8387\n",
            "Epoch 7/100\n",
            "10/10 [==============================] - 0s 2ms/step - loss: 3.4208 - accuracy: 0.8280\n",
            "Epoch 8/100\n",
            "10/10 [==============================] - 0s 2ms/step - loss: 1.4795 - accuracy: 0.8817\n",
            "Epoch 9/100\n",
            "10/10 [==============================] - 0s 2ms/step - loss: 2.2350 - accuracy: 0.8602\n",
            "Epoch 10/100\n",
            "10/10 [==============================] - 0s 2ms/step - loss: 2.2720 - accuracy: 0.8925\n",
            "Epoch 11/100\n",
            "10/10 [==============================] - 0s 2ms/step - loss: 0.6409 - accuracy: 0.9570\n",
            "Epoch 12/100\n",
            "10/10 [==============================] - 0s 3ms/step - loss: 1.0658 - accuracy: 0.9247\n",
            "Epoch 13/100\n",
            "10/10 [==============================] - 0s 2ms/step - loss: 1.5601 - accuracy: 0.9140\n",
            "Epoch 14/100\n",
            "10/10 [==============================] - 0s 2ms/step - loss: 1.1789 - accuracy: 0.9247\n",
            "Epoch 15/100\n",
            "10/10 [==============================] - 0s 2ms/step - loss: 1.2206 - accuracy: 0.9247\n",
            "Epoch 16/100\n",
            "10/10 [==============================] - 0s 4ms/step - loss: 1.4683 - accuracy: 0.8925\n",
            "Epoch 17/100\n",
            "10/10 [==============================] - 0s 2ms/step - loss: 1.6192 - accuracy: 0.9140\n",
            "Epoch 18/100\n",
            "10/10 [==============================] - 0s 2ms/step - loss: 0.7251 - accuracy: 0.9140\n",
            "Epoch 19/100\n",
            "10/10 [==============================] - 0s 3ms/step - loss: 0.6862 - accuracy: 0.9247\n",
            "Epoch 20/100\n",
            "10/10 [==============================] - 0s 2ms/step - loss: 1.2412 - accuracy: 0.8817\n",
            "Epoch 21/100\n",
            "10/10 [==============================] - 0s 3ms/step - loss: 0.9342 - accuracy: 0.9462\n",
            "Epoch 22/100\n",
            "10/10 [==============================] - 0s 2ms/step - loss: 0.0954 - accuracy: 0.9785\n",
            "Epoch 23/100\n",
            "10/10 [==============================] - 0s 3ms/step - loss: 0.1073 - accuracy: 0.9892\n",
            "Epoch 24/100\n",
            "10/10 [==============================] - 0s 2ms/step - loss: 0.2001 - accuracy: 0.9785\n",
            "Epoch 25/100\n",
            "10/10 [==============================] - 0s 2ms/step - loss: 0.0140 - accuracy: 0.9892\n",
            "Epoch 26/100\n",
            "10/10 [==============================] - 0s 2ms/step - loss: 0.1834 - accuracy: 0.9785\n",
            "Epoch 27/100\n",
            "10/10 [==============================] - 0s 2ms/step - loss: 0.0488 - accuracy: 0.9892\n",
            "Epoch 28/100\n",
            "10/10 [==============================] - 0s 2ms/step - loss: 0.0025 - accuracy: 1.0000\n",
            "Epoch 29/100\n",
            "10/10 [==============================] - 0s 3ms/step - loss: 0.1296 - accuracy: 0.9785\n",
            "Epoch 30/100\n",
            "10/10 [==============================] - 0s 2ms/step - loss: 0.3724 - accuracy: 0.9462\n",
            "Epoch 31/100\n",
            "10/10 [==============================] - 0s 2ms/step - loss: 0.0635 - accuracy: 0.9892\n",
            "Epoch 32/100\n",
            "10/10 [==============================] - 0s 2ms/step - loss: 0.1383 - accuracy: 0.9785\n",
            "Epoch 33/100\n",
            "10/10 [==============================] - 0s 4ms/step - loss: 0.0903 - accuracy: 0.9892\n",
            "Epoch 34/100\n",
            "10/10 [==============================] - 0s 2ms/step - loss: 0.0962 - accuracy: 0.9785\n",
            "Epoch 35/100\n",
            "10/10 [==============================] - 0s 2ms/step - loss: 0.0761 - accuracy: 0.9892\n",
            "Epoch 36/100\n",
            "10/10 [==============================] - 0s 3ms/step - loss: 0.0917 - accuracy: 0.9785\n",
            "Epoch 37/100\n",
            "10/10 [==============================] - 0s 4ms/step - loss: 0.2299 - accuracy: 0.9677\n",
            "Epoch 38/100\n",
            "10/10 [==============================] - 0s 3ms/step - loss: 0.2655 - accuracy: 0.9570\n",
            "Epoch 39/100\n",
            "10/10 [==============================] - 0s 3ms/step - loss: 0.1707 - accuracy: 0.9892\n",
            "Epoch 40/100\n",
            "10/10 [==============================] - 0s 3ms/step - loss: 0.2155 - accuracy: 0.9785\n",
            "Epoch 41/100\n",
            "10/10 [==============================] - 0s 4ms/step - loss: 0.1458 - accuracy: 0.9892\n",
            "Epoch 42/100\n",
            "10/10 [==============================] - 0s 3ms/step - loss: 0.2131 - accuracy: 0.9785\n",
            "Epoch 43/100\n",
            "10/10 [==============================] - 0s 3ms/step - loss: 0.0879 - accuracy: 0.9785\n",
            "Epoch 44/100\n",
            "10/10 [==============================] - 0s 3ms/step - loss: 0.2280 - accuracy: 0.9677\n",
            "Epoch 45/100\n",
            "10/10 [==============================] - 0s 2ms/step - loss: 0.3030 - accuracy: 0.9570\n",
            "Epoch 46/100\n",
            "10/10 [==============================] - 0s 3ms/step - loss: 0.1564 - accuracy: 0.9677\n",
            "Epoch 47/100\n",
            "10/10 [==============================] - 0s 3ms/step - loss: 0.0096 - accuracy: 1.0000\n",
            "Epoch 48/100\n",
            "10/10 [==============================] - 0s 4ms/step - loss: 0.1242 - accuracy: 0.9892\n",
            "Epoch 49/100\n",
            "10/10 [==============================] - 0s 3ms/step - loss: 0.1762 - accuracy: 0.9892\n",
            "Epoch 50/100\n",
            "10/10 [==============================] - 0s 3ms/step - loss: 0.1329 - accuracy: 0.9785\n",
            "Epoch 51/100\n",
            "10/10 [==============================] - 0s 3ms/step - loss: 0.1194 - accuracy: 0.9785\n",
            "Epoch 52/100\n",
            "10/10 [==============================] - 0s 5ms/step - loss: 0.1196 - accuracy: 0.9892\n",
            "Epoch 53/100\n",
            "10/10 [==============================] - 0s 3ms/step - loss: 0.2594 - accuracy: 0.9892\n",
            "Epoch 54/100\n",
            "10/10 [==============================] - 0s 3ms/step - loss: 0.0144 - accuracy: 0.9892\n",
            "Epoch 55/100\n",
            "10/10 [==============================] - 0s 3ms/step - loss: 5.8404e-04 - accuracy: 1.0000\n",
            "Epoch 56/100\n",
            "10/10 [==============================] - 0s 2ms/step - loss: 0.0600 - accuracy: 0.9892\n",
            "Epoch 57/100\n",
            "10/10 [==============================] - 0s 3ms/step - loss: 8.5467e-04 - accuracy: 1.0000\n",
            "Epoch 58/100\n",
            "10/10 [==============================] - 0s 3ms/step - loss: 0.0479 - accuracy: 0.9892\n",
            "Epoch 59/100\n",
            "10/10 [==============================] - 0s 3ms/step - loss: 1.6465e-04 - accuracy: 1.0000\n",
            "Epoch 60/100\n",
            "10/10 [==============================] - 0s 3ms/step - loss: 0.0021 - accuracy: 1.0000\n",
            "Epoch 61/100\n",
            "10/10 [==============================] - 0s 3ms/step - loss: 3.0339e-05 - accuracy: 1.0000\n",
            "Epoch 62/100\n",
            "10/10 [==============================] - 0s 3ms/step - loss: 0.4541 - accuracy: 0.9677\n",
            "Epoch 63/100\n",
            "10/10 [==============================] - 0s 3ms/step - loss: 0.1517 - accuracy: 0.9677\n",
            "Epoch 64/100\n",
            "10/10 [==============================] - 0s 3ms/step - loss: 0.1714 - accuracy: 0.9677\n",
            "Epoch 65/100\n",
            "10/10 [==============================] - 0s 3ms/step - loss: 0.1809 - accuracy: 0.9785\n",
            "Epoch 66/100\n",
            "10/10 [==============================] - 0s 2ms/step - loss: 5.5899e-05 - accuracy: 1.0000\n",
            "Epoch 67/100\n",
            "10/10 [==============================] - 0s 4ms/step - loss: 0.0442 - accuracy: 0.9785\n",
            "Epoch 68/100\n",
            "10/10 [==============================] - 0s 3ms/step - loss: 8.6522e-07 - accuracy: 1.0000\n",
            "Epoch 69/100\n",
            "10/10 [==============================] - 0s 3ms/step - loss: 0.0048 - accuracy: 1.0000\n",
            "Epoch 70/100\n",
            "10/10 [==============================] - 0s 3ms/step - loss: 0.0639 - accuracy: 0.9785\n",
            "Epoch 71/100\n",
            "10/10 [==============================] - 0s 4ms/step - loss: 0.0172 - accuracy: 0.9892\n",
            "Epoch 72/100\n",
            "10/10 [==============================] - 0s 4ms/step - loss: 2.2289e-04 - accuracy: 1.0000\n",
            "Epoch 73/100\n",
            "10/10 [==============================] - 0s 2ms/step - loss: 0.0051 - accuracy: 1.0000\n",
            "Epoch 74/100\n",
            "10/10 [==============================] - 0s 3ms/step - loss: 0.0025 - accuracy: 1.0000\n",
            "Epoch 75/100\n",
            "10/10 [==============================] - 0s 3ms/step - loss: 0.0061 - accuracy: 1.0000\n",
            "Epoch 76/100\n",
            "10/10 [==============================] - 0s 2ms/step - loss: 0.0100 - accuracy: 0.9892\n",
            "Epoch 77/100\n",
            "10/10 [==============================] - 0s 3ms/step - loss: 3.2477e-06 - accuracy: 1.0000\n",
            "Epoch 78/100\n",
            "10/10 [==============================] - 0s 3ms/step - loss: 9.9824e-05 - accuracy: 1.0000\n",
            "Epoch 79/100\n",
            "10/10 [==============================] - 0s 3ms/step - loss: 1.8228e-04 - accuracy: 1.0000\n",
            "Epoch 80/100\n",
            "10/10 [==============================] - 0s 3ms/step - loss: 0.0195 - accuracy: 0.9892\n",
            "Epoch 81/100\n",
            "10/10 [==============================] - 0s 3ms/step - loss: 9.6356e-06 - accuracy: 1.0000\n",
            "Epoch 82/100\n",
            "10/10 [==============================] - 0s 4ms/step - loss: 0.4009 - accuracy: 0.9892\n",
            "Epoch 83/100\n",
            "10/10 [==============================] - 0s 4ms/step - loss: 0.0950 - accuracy: 0.9892\n",
            "Epoch 84/100\n",
            "10/10 [==============================] - 0s 3ms/step - loss: 0.0590 - accuracy: 0.9785\n",
            "Epoch 85/100\n",
            "10/10 [==============================] - 0s 3ms/step - loss: 0.0369 - accuracy: 0.9785\n",
            "Epoch 86/100\n",
            "10/10 [==============================] - 0s 3ms/step - loss: 5.0172e-04 - accuracy: 1.0000\n",
            "Epoch 87/100\n",
            "10/10 [==============================] - 0s 3ms/step - loss: 2.0212e-05 - accuracy: 1.0000\n",
            "Epoch 88/100\n",
            "10/10 [==============================] - 0s 3ms/step - loss: 0.0053 - accuracy: 1.0000\n",
            "Epoch 89/100\n",
            "10/10 [==============================] - 0s 3ms/step - loss: 2.3043e-04 - accuracy: 1.0000\n",
            "Epoch 90/100\n",
            "10/10 [==============================] - 0s 3ms/step - loss: 6.8655e-05 - accuracy: 1.0000\n",
            "Epoch 91/100\n",
            "10/10 [==============================] - 0s 3ms/step - loss: 0.0743 - accuracy: 0.9892\n",
            "Epoch 92/100\n",
            "10/10 [==============================] - 0s 3ms/step - loss: 0.0488 - accuracy: 0.9892\n",
            "Epoch 93/100\n",
            "10/10 [==============================] - 0s 3ms/step - loss: 0.0136 - accuracy: 0.9892\n",
            "Epoch 94/100\n",
            "10/10 [==============================] - 0s 3ms/step - loss: 6.0617e-04 - accuracy: 1.0000\n",
            "Epoch 95/100\n",
            "10/10 [==============================] - 0s 3ms/step - loss: 0.0035 - accuracy: 1.0000\n",
            "Epoch 96/100\n",
            "10/10 [==============================] - 0s 3ms/step - loss: 1.7734e-05 - accuracy: 1.0000\n",
            "Epoch 97/100\n",
            "10/10 [==============================] - 0s 5ms/step - loss: 0.0023 - accuracy: 1.0000\n",
            "Epoch 98/100\n",
            "10/10 [==============================] - 0s 3ms/step - loss: 2.5584e-06 - accuracy: 1.0000\n",
            "Epoch 99/100\n",
            "10/10 [==============================] - 0s 3ms/step - loss: 0.0044 - accuracy: 1.0000\n",
            "Epoch 100/100\n",
            "10/10 [==============================] - 0s 2ms/step - loss: 0.0016 - accuracy: 1.0000\n"
          ]
        }
      ]
    },
    {
      "cell_type": "code",
      "source": [
        "test_loss, test_accuracy = model.evaluate(principalComponents_test, y_testall, batch_size = 10)\n",
        "print('Test accuracy:', test_accuracy)"
      ],
      "metadata": {
        "colab": {
          "base_uri": "https://localhost:8080/"
        },
        "id": "kLm_OUvpELSC",
        "outputId": "88b7b0f0-3450-4418-8f3c-1aac8da0ba54"
      },
      "execution_count": 48,
      "outputs": [
        {
          "output_type": "stream",
          "name": "stdout",
          "text": [
            "21/21 [==============================] - 0s 2ms/step - loss: 9.9946 - accuracy: 0.5288\n",
            "Test accuracy: 0.5288461446762085\n"
          ]
        }
      ]
    },
    {
      "cell_type": "code",
      "source": [
        "# Random sample n=93 from the training data (to compare with 4th cluster and leave out the effect of sample size)\n",
        "import random\n",
        "principalComponents_list = list(principalComponents)\n",
        "sample4 = random.sample(principalComponents_list, 93)\n",
        "sample4= np.array(sample4)\n",
        "sample4.shape\n",
        "indexes4 = []\n",
        "for s in sample4:\n",
        "    index = np.where(principalComponents == s)[0][0]\n",
        "    indexes4.append(index)\n",
        "len(indexes4)\n",
        "\n",
        "y3_random = [y[index] for index in indexes4]\n",
        "y3_random = np.array(y3_random, dtype=np.int64)\n",
        "y3_random.shape"
      ],
      "metadata": {
        "colab": {
          "base_uri": "https://localhost:8080/"
        },
        "id": "9pRFerJREPq_",
        "outputId": "511b21e4-68b4-4701-b502-4a7390ca5549"
      },
      "execution_count": 49,
      "outputs": [
        {
          "output_type": "execute_result",
          "data": {
            "text/plain": [
              "(93,)"
            ]
          },
          "metadata": {},
          "execution_count": 49
        }
      ]
    },
    {
      "cell_type": "code",
      "source": [
        "# Model for the random sample (to be compared with 4th cluster)\n",
        "import tensorflow as tf\n",
        "from keras.models import Sequential\n",
        "from keras.layers import Flatten, Dense, Dropout\n",
        "\n",
        "model = Sequential()\n",
        "model.add(Flatten(input_shape=principalComponents.shape[1:]))\n",
        "model.add(Dense(64, activation='relu'))\n",
        "model.add(Dropout(0.5))\n",
        "model.add(Dense(1, activation='sigmoid'))\n",
        "\n",
        "model.compile(optimizer='adam', loss='binary_crossentropy', metrics=['accuracy'])\n",
        "\n",
        "history = model.fit(sample4, y3_random, epochs=100, batch_size=10)"
      ],
      "metadata": {
        "id": "Nk5EqsQ3En3m",
        "colab": {
          "base_uri": "https://localhost:8080/"
        },
        "outputId": "5c880c81-7d01-4207-f027-0f2612b74e26"
      },
      "execution_count": 50,
      "outputs": [
        {
          "output_type": "stream",
          "name": "stdout",
          "text": [
            "Epoch 1/100\n",
            "10/10 [==============================] - 1s 3ms/step - loss: 10.2575 - accuracy: 0.5484\n",
            "Epoch 2/100\n",
            "10/10 [==============================] - 0s 3ms/step - loss: 6.4014 - accuracy: 0.6022\n",
            "Epoch 3/100\n",
            "10/10 [==============================] - 0s 3ms/step - loss: 4.9566 - accuracy: 0.7204\n",
            "Epoch 4/100\n",
            "10/10 [==============================] - 0s 3ms/step - loss: 3.6741 - accuracy: 0.7634\n",
            "Epoch 5/100\n",
            "10/10 [==============================] - 0s 3ms/step - loss: 2.6019 - accuracy: 0.8387\n",
            "Epoch 6/100\n",
            "10/10 [==============================] - 0s 3ms/step - loss: 2.1208 - accuracy: 0.8280\n",
            "Epoch 7/100\n",
            "10/10 [==============================] - 0s 4ms/step - loss: 1.6691 - accuracy: 0.8495\n",
            "Epoch 8/100\n",
            "10/10 [==============================] - 0s 3ms/step - loss: 0.8037 - accuracy: 0.9032\n",
            "Epoch 9/100\n",
            "10/10 [==============================] - 0s 2ms/step - loss: 1.2767 - accuracy: 0.8925\n",
            "Epoch 10/100\n",
            "10/10 [==============================] - 0s 3ms/step - loss: 0.6925 - accuracy: 0.9247\n",
            "Epoch 11/100\n",
            "10/10 [==============================] - 0s 3ms/step - loss: 0.4702 - accuracy: 0.9570\n",
            "Epoch 12/100\n",
            "10/10 [==============================] - 0s 3ms/step - loss: 1.8824 - accuracy: 0.8817\n",
            "Epoch 13/100\n",
            "10/10 [==============================] - 0s 2ms/step - loss: 0.4577 - accuracy: 0.9570\n",
            "Epoch 14/100\n",
            "10/10 [==============================] - 0s 3ms/step - loss: 0.8884 - accuracy: 0.9247\n",
            "Epoch 15/100\n",
            "10/10 [==============================] - 0s 2ms/step - loss: 0.3660 - accuracy: 0.9247\n",
            "Epoch 16/100\n",
            "10/10 [==============================] - 0s 3ms/step - loss: 0.3744 - accuracy: 0.9247\n",
            "Epoch 17/100\n",
            "10/10 [==============================] - 0s 2ms/step - loss: 0.2190 - accuracy: 0.9462\n",
            "Epoch 18/100\n",
            "10/10 [==============================] - 0s 3ms/step - loss: 0.2349 - accuracy: 0.9785\n",
            "Epoch 19/100\n",
            "10/10 [==============================] - 0s 2ms/step - loss: 0.2561 - accuracy: 0.9677\n",
            "Epoch 20/100\n",
            "10/10 [==============================] - 0s 2ms/step - loss: 0.6373 - accuracy: 0.9462\n",
            "Epoch 21/100\n",
            "10/10 [==============================] - 0s 3ms/step - loss: 0.3706 - accuracy: 0.9355\n",
            "Epoch 22/100\n",
            "10/10 [==============================] - 0s 3ms/step - loss: 0.1694 - accuracy: 0.9570\n",
            "Epoch 23/100\n",
            "10/10 [==============================] - 0s 3ms/step - loss: 0.0068 - accuracy: 1.0000\n",
            "Epoch 24/100\n",
            "10/10 [==============================] - 0s 2ms/step - loss: 0.2659 - accuracy: 0.9677\n",
            "Epoch 25/100\n",
            "10/10 [==============================] - 0s 3ms/step - loss: 0.0018 - accuracy: 1.0000\n",
            "Epoch 26/100\n",
            "10/10 [==============================] - 0s 3ms/step - loss: 0.0983 - accuracy: 0.9677\n",
            "Epoch 27/100\n",
            "10/10 [==============================] - 0s 3ms/step - loss: 0.1640 - accuracy: 0.9570\n",
            "Epoch 28/100\n",
            "10/10 [==============================] - 0s 2ms/step - loss: 0.0657 - accuracy: 0.9677\n",
            "Epoch 29/100\n",
            "10/10 [==============================] - 0s 2ms/step - loss: 0.1413 - accuracy: 0.9677\n",
            "Epoch 30/100\n",
            "10/10 [==============================] - 0s 2ms/step - loss: 1.2845e-04 - accuracy: 1.0000\n",
            "Epoch 31/100\n",
            "10/10 [==============================] - 0s 3ms/step - loss: 0.0859 - accuracy: 0.9785\n",
            "Epoch 32/100\n",
            "10/10 [==============================] - 0s 2ms/step - loss: 0.2418 - accuracy: 0.9785\n",
            "Epoch 33/100\n",
            "10/10 [==============================] - 0s 2ms/step - loss: 0.1808 - accuracy: 0.9677\n",
            "Epoch 34/100\n",
            "10/10 [==============================] - 0s 2ms/step - loss: 0.2061 - accuracy: 0.9462\n",
            "Epoch 35/100\n",
            "10/10 [==============================] - 0s 3ms/step - loss: 0.0659 - accuracy: 0.9785\n",
            "Epoch 36/100\n",
            "10/10 [==============================] - 0s 2ms/step - loss: 0.1044 - accuracy: 0.9785\n",
            "Epoch 37/100\n",
            "10/10 [==============================] - 0s 2ms/step - loss: 0.0060 - accuracy: 1.0000\n",
            "Epoch 38/100\n",
            "10/10 [==============================] - 0s 2ms/step - loss: 0.0752 - accuracy: 0.9892\n",
            "Epoch 39/100\n",
            "10/10 [==============================] - 0s 3ms/step - loss: 0.1518 - accuracy: 0.9892\n",
            "Epoch 40/100\n",
            "10/10 [==============================] - 0s 3ms/step - loss: 9.7433e-04 - accuracy: 1.0000\n",
            "Epoch 41/100\n",
            "10/10 [==============================] - 0s 3ms/step - loss: 0.0075 - accuracy: 0.9892\n",
            "Epoch 42/100\n",
            "10/10 [==============================] - 0s 3ms/step - loss: 0.0901 - accuracy: 0.9785\n",
            "Epoch 43/100\n",
            "10/10 [==============================] - 0s 3ms/step - loss: 0.1163 - accuracy: 0.9785\n",
            "Epoch 44/100\n",
            "10/10 [==============================] - 0s 3ms/step - loss: 0.0046 - accuracy: 1.0000\n",
            "Epoch 45/100\n",
            "10/10 [==============================] - 0s 3ms/step - loss: 0.0660 - accuracy: 0.9785\n",
            "Epoch 46/100\n",
            "10/10 [==============================] - 0s 2ms/step - loss: 0.0146 - accuracy: 0.9892\n",
            "Epoch 47/100\n",
            "10/10 [==============================] - 0s 3ms/step - loss: 7.0462e-06 - accuracy: 1.0000\n",
            "Epoch 48/100\n",
            "10/10 [==============================] - 0s 3ms/step - loss: 5.0534e-04 - accuracy: 1.0000\n",
            "Epoch 49/100\n",
            "10/10 [==============================] - 0s 3ms/step - loss: 0.1103 - accuracy: 0.9785\n",
            "Epoch 50/100\n",
            "10/10 [==============================] - 0s 3ms/step - loss: 2.3776e-04 - accuracy: 1.0000\n",
            "Epoch 51/100\n",
            "10/10 [==============================] - 0s 3ms/step - loss: 0.2672 - accuracy: 0.9785\n",
            "Epoch 52/100\n",
            "10/10 [==============================] - 0s 3ms/step - loss: 0.1031 - accuracy: 0.9892\n",
            "Epoch 53/100\n",
            "10/10 [==============================] - 0s 2ms/step - loss: 0.0040 - accuracy: 1.0000\n",
            "Epoch 54/100\n",
            "10/10 [==============================] - 0s 3ms/step - loss: 0.0066 - accuracy: 1.0000\n",
            "Epoch 55/100\n",
            "10/10 [==============================] - 0s 3ms/step - loss: 0.0211 - accuracy: 0.9785\n",
            "Epoch 56/100\n",
            "10/10 [==============================] - 0s 3ms/step - loss: 0.0032 - accuracy: 1.0000\n",
            "Epoch 57/100\n",
            "10/10 [==============================] - 0s 2ms/step - loss: 0.0250 - accuracy: 0.9892\n",
            "Epoch 58/100\n",
            "10/10 [==============================] - 0s 3ms/step - loss: 3.2127e-04 - accuracy: 1.0000\n",
            "Epoch 59/100\n",
            "10/10 [==============================] - 0s 3ms/step - loss: 0.1254 - accuracy: 0.9892\n",
            "Epoch 60/100\n",
            "10/10 [==============================] - 0s 3ms/step - loss: 0.0071 - accuracy: 1.0000\n",
            "Epoch 61/100\n",
            "10/10 [==============================] - 0s 2ms/step - loss: 2.1940e-06 - accuracy: 1.0000\n",
            "Epoch 62/100\n",
            "10/10 [==============================] - 0s 2ms/step - loss: 1.6655e-04 - accuracy: 1.0000\n",
            "Epoch 63/100\n",
            "10/10 [==============================] - 0s 3ms/step - loss: 0.0813 - accuracy: 0.9785\n",
            "Epoch 64/100\n",
            "10/10 [==============================] - 0s 3ms/step - loss: 6.0269e-06 - accuracy: 1.0000\n",
            "Epoch 65/100\n",
            "10/10 [==============================] - 0s 4ms/step - loss: 0.0927 - accuracy: 0.9785\n",
            "Epoch 66/100\n",
            "10/10 [==============================] - 0s 4ms/step - loss: 0.0244 - accuracy: 0.9892\n",
            "Epoch 67/100\n",
            "10/10 [==============================] - 0s 3ms/step - loss: 0.0655 - accuracy: 0.9892\n",
            "Epoch 68/100\n",
            "10/10 [==============================] - 0s 3ms/step - loss: 5.6072e-04 - accuracy: 1.0000\n",
            "Epoch 69/100\n",
            "10/10 [==============================] - 0s 2ms/step - loss: 0.0496 - accuracy: 0.9785\n",
            "Epoch 70/100\n",
            "10/10 [==============================] - 0s 2ms/step - loss: 1.6094e-05 - accuracy: 1.0000\n",
            "Epoch 71/100\n",
            "10/10 [==============================] - 0s 2ms/step - loss: 0.0792 - accuracy: 0.9892\n",
            "Epoch 72/100\n",
            "10/10 [==============================] - 0s 2ms/step - loss: 0.0482 - accuracy: 0.9892\n",
            "Epoch 73/100\n",
            "10/10 [==============================] - 0s 3ms/step - loss: 0.0112 - accuracy: 0.9892\n",
            "Epoch 74/100\n",
            "10/10 [==============================] - 0s 3ms/step - loss: 0.0336 - accuracy: 0.9892\n",
            "Epoch 75/100\n",
            "10/10 [==============================] - 0s 3ms/step - loss: 6.2711e-08 - accuracy: 1.0000\n",
            "Epoch 76/100\n",
            "10/10 [==============================] - 0s 4ms/step - loss: 0.1065 - accuracy: 0.9892\n",
            "Epoch 77/100\n",
            "10/10 [==============================] - 0s 4ms/step - loss: 3.7551e-06 - accuracy: 1.0000\n",
            "Epoch 78/100\n",
            "10/10 [==============================] - 0s 3ms/step - loss: 3.7703e-05 - accuracy: 1.0000\n",
            "Epoch 79/100\n",
            "10/10 [==============================] - 0s 3ms/step - loss: 7.8311e-07 - accuracy: 1.0000\n",
            "Epoch 80/100\n",
            "10/10 [==============================] - 0s 5ms/step - loss: 0.0087 - accuracy: 0.9892\n",
            "Epoch 81/100\n",
            "10/10 [==============================] - 0s 3ms/step - loss: 0.2053 - accuracy: 0.9785\n",
            "Epoch 82/100\n",
            "10/10 [==============================] - 0s 3ms/step - loss: 9.8275e-05 - accuracy: 1.0000\n",
            "Epoch 83/100\n",
            "10/10 [==============================] - 0s 3ms/step - loss: 6.2584e-06 - accuracy: 1.0000\n",
            "Epoch 84/100\n",
            "10/10 [==============================] - 0s 3ms/step - loss: 2.0927e-05 - accuracy: 1.0000\n",
            "Epoch 85/100\n",
            "10/10 [==============================] - 0s 3ms/step - loss: 0.0401 - accuracy: 0.9892\n",
            "Epoch 86/100\n",
            "10/10 [==============================] - 0s 3ms/step - loss: 1.1371e-07 - accuracy: 1.0000\n",
            "Epoch 87/100\n",
            "10/10 [==============================] - 0s 4ms/step - loss: 0.0220 - accuracy: 0.9892\n",
            "Epoch 88/100\n",
            "10/10 [==============================] - 0s 3ms/step - loss: 0.0017 - accuracy: 1.0000\n",
            "Epoch 89/100\n",
            "10/10 [==============================] - 0s 2ms/step - loss: 0.0819 - accuracy: 0.9892\n",
            "Epoch 90/100\n",
            "10/10 [==============================] - 0s 3ms/step - loss: 7.3856e-06 - accuracy: 1.0000\n",
            "Epoch 91/100\n",
            "10/10 [==============================] - 0s 2ms/step - loss: 0.0021 - accuracy: 1.0000\n",
            "Epoch 92/100\n",
            "10/10 [==============================] - 0s 2ms/step - loss: 1.8233e-07 - accuracy: 1.0000\n",
            "Epoch 93/100\n",
            "10/10 [==============================] - 0s 2ms/step - loss: 0.0298 - accuracy: 0.9892\n",
            "Epoch 94/100\n",
            "10/10 [==============================] - 0s 2ms/step - loss: 2.0710e-09 - accuracy: 1.0000\n",
            "Epoch 95/100\n",
            "10/10 [==============================] - 0s 2ms/step - loss: 0.0100 - accuracy: 0.9892\n",
            "Epoch 96/100\n",
            "10/10 [==============================] - 0s 2ms/step - loss: 1.7443e-06 - accuracy: 1.0000\n",
            "Epoch 97/100\n",
            "10/10 [==============================] - 0s 2ms/step - loss: 3.4675e-04 - accuracy: 1.0000\n",
            "Epoch 98/100\n",
            "10/10 [==============================] - 0s 2ms/step - loss: 0.0410 - accuracy: 0.9892\n",
            "Epoch 99/100\n",
            "10/10 [==============================] - 0s 2ms/step - loss: 0.0010 - accuracy: 1.0000\n",
            "Epoch 100/100\n",
            "10/10 [==============================] - 0s 3ms/step - loss: 0.0024 - accuracy: 1.0000\n"
          ]
        }
      ]
    },
    {
      "cell_type": "code",
      "source": [
        "test_loss, test_accuracy = model.evaluate(principalComponents_test, y_testall, batch_size = 10)\n",
        "print('Test accuracy:', test_accuracy)"
      ],
      "metadata": {
        "colab": {
          "base_uri": "https://localhost:8080/"
        },
        "id": "uvF8c6JPEw_x",
        "outputId": "22cbf0d1-f409-4aee-921a-1c4e1364dded"
      },
      "execution_count": 51,
      "outputs": [
        {
          "output_type": "stream",
          "name": "stdout",
          "text": [
            "21/21 [==============================] - 0s 1ms/step - loss: 3.5558 - accuracy: 0.7933\n",
            "Test accuracy: 0.7932692170143127\n"
          ]
        }
      ]
    }
  ]
}